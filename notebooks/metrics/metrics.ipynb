{
 "cells": [
  {
   "cell_type": "code",
   "execution_count": 23,
   "metadata": {},
   "outputs": [
    {
     "name": "stdout",
     "output_type": "stream",
     "text": [
      "The autoreload extension is already loaded. To reload it, use:\n",
      "  %reload_ext autoreload\n"
     ]
    }
   ],
   "source": [
    "%load_ext autoreload\n",
    "%autoreload 2\n",
    "%config InlineBackend.figure_format = 'retina'\n",
    "\n",
    "import warnings\n",
    "warnings.filterwarnings('ignore')\n",
    "\n",
    "import sys\n",
    "sys.path.insert(0, \"../../\")"
   ]
  },
  {
   "cell_type": "code",
   "execution_count": 24,
   "metadata": {},
   "outputs": [],
   "source": [
    "import matplotlib.pyplot as plt\n",
    "import sys\n",
    "from IPython.display import JSON\n",
    "%matplotlib inline\n",
    "\n",
    "from lib.json_utils import to_json"
   ]
  },
  {
   "cell_type": "code",
   "execution_count": 25,
   "metadata": {},
   "outputs": [],
   "source": [
    "import csv\n",
    "\n",
    "class Messure:\n",
    "    def __init__(self, row):\n",
    "        self.wall_time = float(row['Wall time'])\n",
    "        self.step = int(row['Step'])\n",
    "        self.value = float(row['Value'])\n",
    "\n",
    "def load_csv(path, mapper=lambda row: row):\n",
    "    with open(path, mode='r') as file:\n",
    "        reader = csv.DictReader(file)\n",
    "        line_count = 0\n",
    "        for row in reader:\n",
    "            if line_count > 0:\n",
    "                yield mapper(row)\n",
    "            line_count += 1\n",
    "\n",
    "as_json = lambda obj: JSON(to_json(obj))"
   ]
  },
  {
   "cell_type": "code",
   "execution_count": 26,
   "metadata": {},
   "outputs": [],
   "source": [
    "precision_measures = list(load_csv(\n",
    "    './precision_mAP_medium.csv', \n",
    "    lambda row: Messure(row)\n",
    "))\n",
    "\n",
    "recall_measures = list(load_csv(\n",
    "    './recall_AR@100_medium.csv', \n",
    "    lambda row: Messure(row)\n",
    "))"
   ]
  },
  {
   "cell_type": "code",
   "execution_count": 27,
   "metadata": {},
   "outputs": [],
   "source": [
    "# as_json(precision_measures)"
   ]
  },
  {
   "cell_type": "code",
   "execution_count": 28,
   "metadata": {},
   "outputs": [],
   "source": [
    "# as_json(recall_measures)"
   ]
  },
  {
   "cell_type": "code",
   "execution_count": 29,
   "metadata": {},
   "outputs": [],
   "source": [
    "precision = precision_measures[-1].value\n",
    "recall = recall_measures[-1].value"
   ]
  },
  {
   "cell_type": "code",
   "execution_count": 30,
   "metadata": {},
   "outputs": [],
   "source": [
    "f1_score = 2 * (precision * recall) / (precision + recall)"
   ]
  },
  {
   "cell_type": "code",
   "execution_count": 31,
   "metadata": {},
   "outputs": [
    {
     "name": "stdout",
     "output_type": "stream",
     "text": [
      "Precision: 0.8276371359825134\n",
      "Recall: 0.8687231540679932\n",
      "F1 SCORE: 0.8476825912649993\n"
     ]
    }
   ],
   "source": [
    "print(f'Precision: {precision}')\n",
    "print(f'Recall: {recall}')\n",
    "print(f'F1 SCORE: {f1_score}')"
   ]
  }
 ],
 "metadata": {
  "kernelspec": {
   "display_name": "Python 3",
   "language": "python",
   "name": "python3"
  },
  "language_info": {
   "codemirror_mode": {
    "name": "ipython",
    "version": 3
   },
   "file_extension": ".py",
   "mimetype": "text/x-python",
   "name": "python",
   "nbconvert_exporter": "python",
   "pygments_lexer": "ipython3",
   "version": "3.7.6"
  }
 },
 "nbformat": 4,
 "nbformat_minor": 4
}
