{
 "cells": [
  {
   "cell_type": "code",
   "execution_count": 1,
   "metadata": {},
   "outputs": [],
   "source": [
    "%load_ext autoreload\n",
    "%autoreload 2\n",
    "%config InlineBackend.figure_format = 'retina'\n",
    "\n",
    "import warnings\n",
    "warnings.filterwarnings('ignore')"
   ]
  },
  {
   "cell_type": "code",
   "execution_count": 2,
   "metadata": {},
   "outputs": [],
   "source": [
    "import matplotlib.pyplot as plt\n",
    "%matplotlib inline\n",
    "import sys\n",
    "from IPython.display import JSON\n",
    "sys.path.append('..')\n",
    "\n",
    "from lib.dataset.pascal_voc.pascal_voc_dataset import PascalVOCDataset\n",
    "from lib.dataset.plot import plot_samples_count_by_class, plot_missing_samples_by_class, missing_samples_count_by_class\n",
    "from lib.json_utils import to_json\n",
    "from lib.config import Config"
   ]
  },
  {
   "cell_type": "code",
   "execution_count": 3,
   "metadata": {},
   "outputs": [],
   "source": [
    "cfg = Config('../config.yml')"
   ]
  },
  {
   "cell_type": "code",
   "execution_count": 4,
   "metadata": {},
   "outputs": [],
   "source": [
    "train_dataset = PascalVOCDataset('../dataset/train/samples')\n",
    "test_dataset = PascalVOCDataset('../dataset/test/samples')"
   ]
  },
  {
   "cell_type": "code",
   "execution_count": 5,
   "metadata": {},
   "outputs": [],
   "source": [
    "train_samples = list(train_dataset.samples())\n",
    "test_samples = list(test_dataset.samples())"
   ]
  },
  {
   "cell_type": "markdown",
   "metadata": {},
   "source": [
    "Samples count:"
   ]
  },
  {
   "cell_type": "code",
   "execution_count": 6,
   "metadata": {},
   "outputs": [
    {
     "name": "stdout",
     "output_type": "stream",
     "text": [
      "Train: 274\n",
      "Test: 55\n"
     ]
    }
   ],
   "source": [
    "print(f'Train: {len(train_samples)}')\n",
    "print(f'Test: {len(test_samples)}')"
   ]
  },
  {
   "cell_type": "code",
   "execution_count": 19,
   "metadata": {},
   "outputs": [
    {
     "data": {
      "application/json": [
       {
        "bounding_boxes": [
         {
          "label": "9_of_hearts",
          "xmax": 693,
          "xmin": 1,
          "ymax": 681,
          "ymin": 62
         },
         {
          "label": "3_of_spades",
          "xmax": 1499,
          "xmin": 969,
          "ymax": 745,
          "ymin": 143
         },
         {
          "label": "ace_of_spades",
          "xmax": 2366,
          "xmin": 1646,
          "ymax": 818,
          "ymin": 174
         },
         {
          "label": "2_of_spades",
          "xmax": 3219,
          "xmin": 2527,
          "ymax": 666,
          "ymin": 54
         },
         {
          "label": "4_of_spades",
          "xmax": 4142,
          "xmin": 3471,
          "ymax": 687,
          "ymin": 98
         },
         {
          "label": "6_of_spades",
          "xmax": 1124,
          "xmin": 422,
          "ymax": 1977,
          "ymin": 1219
         },
         {
          "label": "9_of_spades",
          "xmax": 2266,
          "xmin": 1410,
          "ymax": 2049,
          "ymin": 1205
         },
         {
          "label": "10_of_diamons",
          "xmax": 3337,
          "xmin": 2517,
          "ymax": 1846,
          "ymin": 1036
         },
         {
          "label": "king_of_diamons",
          "xmax": 4169,
          "xmin": 3489,
          "ymax": 1955,
          "ymin": 1125
         }
        ],
        "image": {
         "depth": 3,
         "height": 2112,
         "path": "/home/adrian/development/machine-learning/dataset/IMG_20200219_210640.jpg",
         "width": 4608
        }
       },
       {
        "bounding_boxes": [
         {
          "label": "ace_of_clubs",
          "xmax": 3513,
          "xmin": 1558,
          "ymax": 1925,
          "ymin": 342
         }
        ],
        "image": {
         "depth": 3,
         "height": 2112,
         "path": "/home/adrian/development/machine-learning/dataset/IMG_20200219_205607.jpg",
         "width": 4608
        }
       },
       {
        "bounding_boxes": [
         {
          "label": "queen_of_clubs",
          "xmax": 1651,
          "xmin": 624,
          "ymax": 1036,
          "ymin": 186
         },
         {
          "label": "king_of_clubs",
          "xmax": 2752,
          "xmin": 1640,
          "ymax": 963,
          "ymin": 68
         },
         {
          "label": "ace_of_diamons",
          "xmax": 4017,
          "xmin": 2875,
          "ymax": 909,
          "ymin": 110
         },
         {
          "label": "9_of_clubs",
          "xmax": 1658,
          "xmin": 680,
          "ymax": 1972,
          "ymin": 1192
         },
         {
          "label": "10_of_clubs",
          "xmax": 2730,
          "xmin": 1687,
          "ymax": 2063,
          "ymin": 1313
         },
         {
          "label": "jack_of_clubs",
          "xmax": 3984,
          "xmin": 2769,
          "ymax": 2042,
          "ymin": 1118
         }
        ],
        "image": {
         "depth": 3,
         "height": 2112,
         "path": "/home/adrian/development/machine-learning/dataset/IMG_20200219_205526.jpg",
         "width": 4608
        }
       },
       {
        "bounding_boxes": [
         {
          "label": "8_of_clubs",
          "xmax": 3570,
          "xmin": 1239,
          "ymax": 2112,
          "ymin": 5
         }
        ],
        "image": {
         "depth": 3,
         "height": 2112,
         "path": "/home/adrian/development/machine-learning/dataset/IMG_20200219_205619.jpg",
         "width": 4608
        }
       },
       {
        "bounding_boxes": [
         {
          "label": "7_of_hearts",
          "xmax": 3131,
          "xmin": 1202,
          "ymax": 1789,
          "ymin": 146
         }
        ],
        "image": {
         "depth": 3,
         "height": 2112,
         "path": "/home/adrian/development/machine-learning/dataset/IMG_20200219_210507.jpg",
         "width": 4608
        }
       },
       {
        "bounding_boxes": [
         {
          "label": "6_of_diamons",
          "xmax": 3387,
          "xmin": 1727,
          "ymax": 1872,
          "ymin": 524
         }
        ],
        "image": {
         "depth": 3,
         "height": 2112,
         "path": "/home/adrian/development/machine-learning/dataset/IMG_20200219_233442.jpg",
         "width": 4608
        }
       },
       {
        "bounding_boxes": [
         {
          "label": "queen_of_clubs",
          "xmax": 1642,
          "xmin": 819,
          "ymax": 568,
          "ymin": 24
         },
         {
          "label": "9_of_clubs",
          "xmax": 2773,
          "xmin": 2241,
          "ymax": 519,
          "ymin": 1
         },
         {
          "label": "4_of_diamons",
          "xmax": 1312,
          "xmin": 530,
          "ymax": 1795,
          "ymin": 909
         },
         {
          "label": "3_of_diamons",
          "xmax": 2785,
          "xmin": 2004,
          "ymax": 1832,
          "ymin": 920
         },
         {
          "label": "9_of_diamons",
          "xmax": 4241,
          "xmin": 3413,
          "ymax": 508,
          "ymin": 4
         },
         {
          "label": "8_of_diamons",
          "xmax": 4421,
          "xmin": 3504,
          "ymax": 1992,
          "ymin": 1051
         }
        ],
        "image": {
         "depth": 3,
         "height": 2112,
         "path": "/home/adrian/development/machine-learning/dataset/IMG_20200219_210552.jpg",
         "width": 4608
        }
       },
       {
        "bounding_boxes": [
         {
          "label": "jack_of_clubs",
          "xmax": 2827,
          "xmin": 1422,
          "ymax": 1884,
          "ymin": 66
         }
        ],
        "image": {
         "depth": 3,
         "height": 2112,
         "path": "/home/adrian/development/machine-learning/dataset/IMG_20200219_210255.jpg",
         "width": 4608
        }
       },
       {
        "bounding_boxes": [
         {
          "label": "ace_of_spades",
          "xmax": 3383,
          "xmin": 2025,
          "ymax": 1499,
          "ymin": 468
         }
        ],
        "image": {
         "depth": 3,
         "height": 2112,
         "path": "/home/adrian/development/machine-learning/dataset/IMG_20200219_233416.jpg",
         "width": 4608
        }
       },
       {
        "bounding_boxes": [
         {
          "label": "10_of_hearts",
          "xmax": 3533,
          "xmin": 1301,
          "ymax": 1954,
          "ymin": 2
         }
        ],
        "image": {
         "depth": 3,
         "height": 2112,
         "path": "/home/adrian/development/machine-learning/dataset/IMG_20200219_210248.jpg",
         "width": 4608
        }
       },
       {
        "bounding_boxes": [
         {
          "label": "5_of_diamons",
          "xmax": 1843,
          "xmin": 1034,
          "ymax": 801,
          "ymin": 24
         },
         {
          "label": "king_of_hearts",
          "xmax": 2740,
          "xmin": 2248,
          "ymax": 822,
          "ymin": 139
         },
         {
          "label": "4_of_clubs",
          "xmax": 3286,
          "xmin": 2883,
          "ymax": 984,
          "ymin": 333
         },
         {
          "label": "7_of_spades",
          "xmax": 3743,
          "xmin": 3361,
          "ymax": 1143,
          "ymin": 572
         },
         {
          "label": "jack_of_diamons",
          "xmax": 2268,
          "xmin": 1443,
          "ymax": 2112,
          "ymin": 1142
         },
         {
          "label": "2_of_hearts",
          "xmax": 2796,
          "xmin": 2239,
          "ymax": 1945,
          "ymin": 1046
         },
         {
          "label": "6_of_hearts",
          "xmax": 3448,
          "xmin": 2880,
          "ymax": 1916,
          "ymin": 1160
         },
         {
          "label": "8_of_hearts",
          "xmax": 3774,
          "xmin": 3451,
          "ymax": 1934,
          "ymin": 1216
         }
        ],
        "image": {
         "depth": 3,
         "height": 2112,
         "path": "/home/adrian/development/machine-learning/tensorflow1/dataset/IMG_20200223_155937.jpg",
         "width": 4608
        }
       },
       {
        "bounding_boxes": [
         {
          "label": "4_of_diamons",
          "xmax": 3572,
          "xmin": 1501,
          "ymax": 2080,
          "ymin": 196
         }
        ],
        "image": {
         "depth": 3,
         "height": 2112,
         "path": "/home/adrian/development/machine-learning/dataset/IMG_20200219_205808.jpg",
         "width": 4608
        }
       },
       {
        "bounding_boxes": [
         {
          "label": "5_of_spades",
          "xmax": 1771,
          "xmin": 924,
          "ymax": 2018,
          "ymin": 957
         },
         {
          "label": "ace_of_spades",
          "xmax": 2793,
          "xmin": 1910,
          "ymax": 1698,
          "ymin": 683
         },
         {
          "label": "ace_of_clubs",
          "xmax": 3688,
          "xmin": 2759,
          "ymax": 1333,
          "ymin": 346
         }
        ],
        "image": {
         "depth": 3,
         "height": 2112,
         "path": "/home/adrian/development/machine-learning/tensorflow1/dataset/IMG_20200223_154122.jpg",
         "width": 4608
        }
       },
       {
        "bounding_boxes": [
         {
          "label": "jack_of_hearts",
          "xmax": 3504,
          "xmin": 1795,
          "ymax": 1837,
          "ymin": 280
         }
        ],
        "image": {
         "depth": 3,
         "height": 2112,
         "path": "/home/adrian/development/machine-learning/dataset/IMG_20200219_233456.jpg",
         "width": 4608
        }
       },
       {
        "bounding_boxes": [
         {
          "label": "5_of_diamons",
          "xmax": 2214,
          "xmin": 1660,
          "ymax": 425,
          "ymin": 157
         },
         {
          "label": "king_of_hearts",
          "xmax": 2636,
          "xmin": 1993,
          "ymax": 740,
          "ymin": 401
         },
         {
          "label": "4_of_clubs",
          "xmax": 2893,
          "xmin": 2217,
          "ymax": 1066,
          "ymin": 751
         },
         {
          "label": "7_of_spades",
          "xmax": 3228,
          "xmin": 2314,
          "ymax": 1662,
          "ymin": 1090
         },
         {
          "label": "8_of_hearts",
          "xmax": 2098,
          "xmin": 1292,
          "ymax": 1790,
          "ymin": 1318
         },
         {
          "label": "6_of_hearts",
          "xmax": 1983,
          "xmin": 1211,
          "ymax": 1407,
          "ymin": 896
         },
         {
          "label": "2_of_hearts",
          "xmax": 1755,
          "xmin": 1143,
          "ymax": 945,
          "ymin": 637
         },
         {
          "label": "jack_of_diamons",
          "xmax": 1578,
          "xmin": 983,
          "ymax": 760,
          "ymin": 430
         }
        ],
        "image": {
         "depth": 3,
         "height": 2112,
         "path": "/home/adrian/development/machine-learning/tensorflow1/dataset/IMG_20200223_155953.jpg",
         "width": 4608
        }
       },
       {
        "bounding_boxes": [
         {
          "label": "5_of_hearts",
          "xmax": 3261,
          "xmin": 1631,
          "ymax": 1660,
          "ymin": 121
         }
        ],
        "image": {
         "depth": 3,
         "height": 2112,
         "path": "/home/adrian/development/machine-learning/dataset/IMG_20200219_233609.jpg",
         "width": 4608
        }
       },
       {
        "bounding_boxes": [
         {
          "label": "6_of_hearts",
          "xmax": 2028,
          "xmin": 1490,
          "ymax": 771,
          "ymin": 299
         },
         {
          "label": "5_of_spades",
          "xmax": 3177,
          "xmin": 2710,
          "ymax": 790,
          "ymin": 366
         },
         {
          "label": "8_of_hearts",
          "xmax": 2749,
          "xmin": 2148,
          "ymax": 1366,
          "ymin": 790
         },
         {
          "label": "2_of_hearts",
          "xmax": 2311,
          "xmin": 1560,
          "ymax": 1928,
          "ymin": 1204
         },
         {
          "label": "jack_of_diamons",
          "xmax": 1563,
          "xmin": 827,
          "ymax": 1242,
          "ymin": 680
         },
         {
          "label": "jack_of_hearts",
          "xmax": 2554,
          "xmin": 1957,
          "ymax": 383,
          "ymin": 28
         }
        ],
        "image": {
         "depth": 3,
         "height": 2112,
         "path": "/home/adrian/development/machine-learning/tensorflow1/dataset/IMG_20200223_175640.jpg",
         "width": 4608
        }
       },
       {
        "bounding_boxes": [
         {
          "label": "jack_of_spades",
          "xmax": 2643,
          "xmin": 1443,
          "ymax": 1727,
          "ymin": 354
         }
        ],
        "image": {
         "depth": 3,
         "height": 2112,
         "path": "/home/adrian/development/machine-learning/tensorflow1/dataset/IMG_20200223_163924.jpg",
         "width": 4608
        }
       },
       {
        "bounding_boxes": [
         {
          "label": "ace_of_spades",
          "xmax": 4052,
          "xmin": 1628,
          "ymax": 2051,
          "ymin": 1
         }
        ],
        "image": {
         "depth": 3,
         "height": 2112,
         "path": "/home/adrian/development/machine-learning/dataset/IMG_20200219_205333.jpg",
         "width": 4608
        }
       },
       {
        "bounding_boxes": [
         {
          "label": "9_of_hearts",
          "xmax": 1522,
          "xmin": 946,
          "ymax": 568,
          "ymin": 174
         },
         {
          "label": "3_of_spades",
          "xmax": 2493,
          "xmin": 1881,
          "ymax": 790,
          "ymin": 331
         },
         {
          "label": "4_of_spades",
          "xmax": 3522,
          "xmin": 2795,
          "ymax": 831,
          "ymin": 505
         },
         {
          "label": "queen_of_clubs",
          "xmax": 4019,
          "xmin": 3111,
          "ymax": 1534,
          "ymin": 1054
         },
         {
          "label": "10_of_diamons",
          "xmax": 2754,
          "xmin": 1777,
          "ymax": 1733,
          "ymin": 977
         },
         {
          "label": "king_of_clubs",
          "xmax": 1304,
          "xmin": 330,
          "ymax": 1362,
          "ymin": 893
         }
        ],
        "image": {
         "depth": 3,
         "height": 2112,
         "path": "/home/adrian/development/machine-learning/tensorflow1/dataset/IMG_20200223_173103.jpg",
         "width": 4608
        }
       },
       {
        "bounding_boxes": [
         {
          "label": "2_of_spades",
          "xmax": 3652,
          "xmin": 1642,
          "ymax": 2031,
          "ymin": 1
         }
        ],
        "image": {
         "depth": 3,
         "height": 2112,
         "path": "/home/adrian/development/machine-learning/dataset/IMG_20200219_205322.jpg",
         "width": 4608
        }
       },
       {
        "bounding_boxes": [
         {
          "label": "6_of_clubs",
          "xmax": 3287,
          "xmin": 1774,
          "ymax": 1598,
          "ymin": 466
         },
         {
          "label": "queen_of_hearts",
          "xmax": 454,
          "xmin": 4,
          "ymax": 2112,
          "ymin": 1510
         }
        ],
        "image": {
         "depth": 3,
         "height": 2112,
         "path": "/home/adrian/development/machine-learning/dataset/IMG_20200219_233535.jpg",
         "width": 4608
        }
       },
       {
        "bounding_boxes": [
         {
          "label": "8_of_spades",
          "xmax": 3266,
          "xmin": 1587,
          "ymax": 2039,
          "ymin": 504
         }
        ],
        "image": {
         "depth": 3,
         "height": 2112,
         "path": "/home/adrian/development/machine-learning/dataset/IMG_20200219_233644.jpg",
         "width": 4608
        }
       },
       {
        "bounding_boxes": [
         {
          "label": "ace_of_clubs",
          "xmax": 3254,
          "xmin": 1302,
          "ymax": 1901,
          "ymin": 354
         }
        ],
        "image": {
         "depth": 3,
         "height": 2112,
         "path": "/home/adrian/development/machine-learning/dataset/IMG_20200219_210328.jpg",
         "width": 4608
        }
       },
       {
        "bounding_boxes": [
         {
          "label": "8_of_diamons",
          "xmax": 3145,
          "xmin": 1660,
          "ymax": 1649,
          "ymin": 539
         }
        ],
        "image": {
         "depth": 3,
         "height": 2112,
         "path": "/home/adrian/development/machine-learning/dataset/IMG_20200219_233616.jpg",
         "width": 4608
        }
       },
       {
        "bounding_boxes": [
         {
          "label": "5_of_spades",
          "xmax": 1801,
          "xmin": 687,
          "ymax": 1360,
          "ymin": 142
         },
         {
          "label": "ace_of_spades",
          "xmax": 2851,
          "xmin": 1866,
          "ymax": 1790,
          "ymin": 604
         },
         {
          "label": "ace_of_clubs",
          "xmax": 3796,
          "xmin": 2958,
          "ymax": 2074,
          "ymin": 936
         }
        ],
        "image": {
         "depth": 3,
         "height": 2112,
         "path": "/home/adrian/development/machine-learning/tensorflow1/dataset/IMG_20200223_154119.jpg",
         "width": 4608
        }
       },
       {
        "bounding_boxes": [
         {
          "label": "2_of_clubs",
          "xmax": 1440,
          "xmin": 658,
          "ymax": 905,
          "ymin": 342
         },
         {
          "label": "card",
          "xmax": 2114,
          "xmin": 1516,
          "ymax": 775,
          "ymin": 278
         },
         {
          "label": "king_of_diamons",
          "xmax": 2717,
          "xmin": 2146,
          "ymax": 939,
          "ymin": 442
         },
         {
          "label": "9_of_spades",
          "xmax": 3646,
          "xmin": 2740,
          "ymax": 998,
          "ymin": 422
         },
         {
          "label": "queen_of_hearts",
          "xmax": 3808,
          "xmin": 2975,
          "ymax": 1774,
          "ymin": 1034
         },
         {
          "label": "6_of_clubs",
          "xmax": 2874,
          "xmin": 1716,
          "ymax": 2072,
          "ymin": 1152
         },
         {
          "label": "10_of_hearts",
          "xmax": 1805,
          "xmin": 789,
          "ymax": 1474,
          "ymin": 954
         }
        ],
        "image": {
         "depth": 3,
         "height": 2112,
         "path": "/home/adrian/development/machine-learning/tensorflow1/dataset/IMG_20200223_163631.jpg",
         "width": 4608
        }
       },
       {
        "bounding_boxes": [
         {
          "label": "4_of_diamons",
          "xmax": 3496,
          "xmin": 1849,
          "ymax": 1843,
          "ymin": 157
         }
        ],
        "image": {
         "depth": 3,
         "height": 2112,
         "path": "/home/adrian/development/machine-learning/dataset/IMG_20200219_233459.jpg",
         "width": 4608
        }
       },
       {
        "bounding_boxes": [
         {
          "label": "2_of_diamons",
          "xmax": 3439,
          "xmin": 1389,
          "ymax": 1542,
          "ymin": 1
         }
        ],
        "image": {
         "depth": 3,
         "height": 2112,
         "path": "/home/adrian/development/machine-learning/dataset/IMG_20200219_205819.jpg",
         "width": 4608
        }
       },
       {
        "bounding_boxes": [
         {
          "label": "7_of_hearts",
          "xmax": 2021,
          "xmin": 1401,
          "ymax": 683,
          "ymin": 80
         },
         {
          "label": "8_of_hearts",
          "xmax": 2922,
          "xmin": 2457,
          "ymax": 569,
          "ymin": 39
         },
         {
          "label": "9_of_hearts",
          "xmax": 3978,
          "xmin": 3316,
          "ymax": 649,
          "ymin": 48
         },
         {
          "label": "3_of_spades",
          "xmax": 4608,
          "xmin": 4258,
          "ymax": 763,
          "ymin": 186
         },
         {
          "label": "queen_of_spades",
          "xmax": 1877,
          "xmin": 1190,
          "ymax": 1878,
          "ymin": 1109
         },
         {
          "label": "5_of_hearts",
          "xmax": 2980,
          "xmin": 2381,
          "ymax": 1965,
          "ymin": 1230
         },
         {
          "label": "3_of_hearts",
          "xmax": 3913,
          "xmin": 3242,
          "ymax": 1996,
          "ymin": 1175
         },
         {
          "label": "6_of_spades",
          "xmax": 4608,
          "xmin": 4286,
          "ymax": 1935,
          "ymin": 1210
         }
        ],
        "image": {
         "depth": 3,
         "height": 2112,
         "path": "/home/adrian/development/machine-learning/dataset/IMG_20200219_210632.jpg",
         "width": 4608
        }
       },
       {
        "bounding_boxes": [
         {
          "label": "ace_of_hearts",
          "xmax": 1486,
          "xmin": 552,
          "ymax": 2025,
          "ymin": 1166
         },
         {
          "label": "4_of_hearts",
          "xmax": 1925,
          "xmin": 1069,
          "ymax": 1274,
          "ymin": 672
         },
         {
          "label": "5_of_clubs",
          "xmax": 2746,
          "xmin": 1919,
          "ymax": 1136,
          "ymin": 593
         },
         {
          "label": "6_of_spades",
          "xmax": 3425,
          "xmin": 2661,
          "ymax": 795,
          "ymin": 490
         },
         {
          "label": "2_of_spades",
          "xmax": 4074,
          "xmin": 3267,
          "ymax": 1234,
          "ymin": 798
         },
         {
          "label": "8_of_spades",
          "xmax": 3311,
          "xmin": 2684,
          "ymax": 1602,
          "ymin": 977
         },
         {
          "label": "queen_of_diamons",
          "xmax": 2674,
          "xmin": 1698,
          "ymax": 1857,
          "ymin": 1275
         }
        ],
        "image": {
         "depth": 3,
         "height": 2112,
         "path": "/home/adrian/development/machine-learning/tensorflow1/dataset/IMG_20200223_163615.jpg",
         "width": 4608
        }
       },
       {
        "bounding_boxes": [
         {
          "label": "ace_of_clubs",
          "xmax": 1601,
          "xmin": 937,
          "ymax": 1806,
          "ymin": 877
         },
         {
          "label": "ace_of_spades",
          "xmax": 2311,
          "xmin": 1554,
          "ymax": 1455,
          "ymin": 474
         },
         {
          "label": "5_of_spades",
          "xmax": 3255,
          "xmin": 2357,
          "ymax": 1115,
          "ymin": 40
         }
        ],
        "image": {
         "depth": 3,
         "height": 2112,
         "path": "/home/adrian/development/machine-learning/tensorflow1/dataset/IMG_20200223_154111.jpg",
         "width": 4608
        }
       },
       {
        "bounding_boxes": [
         {
          "label": "queen_of_hearts",
          "xmax": 1558,
          "xmin": 957,
          "ymax": 1074,
          "ymin": 524
         },
         {
          "label": "6_of_clubs",
          "xmax": 2548,
          "xmin": 1687,
          "ymax": 895,
          "ymin": 333
         },
         {
          "label": "10_of_hearts",
          "xmax": 3439,
          "xmin": 2601,
          "ymax": 948,
          "ymin": 559
         },
         {
          "label": "2_of_clubs",
          "xmax": 4325,
          "xmin": 3234,
          "ymax": 1748,
          "ymin": 934
         },
         {
          "label": "card",
          "xmax": 3481,
          "xmin": 2467,
          "ymax": 2052,
          "ymin": 1148
         },
         {
          "label": "king_of_diamons",
          "xmax": 2517,
          "xmin": 1778,
          "ymax": 1833,
          "ymin": 1045
         },
         {
          "label": "9_of_spades",
          "xmax": 1742,
          "xmin": 617,
          "ymax": 1987,
          "ymin": 1087
         }
        ],
        "image": {
         "depth": 3,
         "height": 2112,
         "path": "/home/adrian/development/machine-learning/tensorflow1/dataset/IMG_20200223_163623.jpg",
         "width": 4608
        }
       },
       {
        "bounding_boxes": [
         {
          "label": "7_of_spades",
          "xmax": 1504,
          "xmin": 799,
          "ymax": 649,
          "ymin": 1
         },
         {
          "label": "6_of_hearts",
          "xmax": 2684,
          "xmin": 1919,
          "ymax": 637,
          "ymin": 93
         },
         {
          "label": "ace_of_hearts",
          "xmax": 3902,
          "xmin": 3304,
          "ymax": 889,
          "ymin": 218
         },
         {
          "label": "10_of_spades",
          "xmax": 1464,
          "xmin": 537,
          "ymax": 1768,
          "ymin": 886
         },
         {
          "label": "4_of_hearts",
          "xmax": 2761,
          "xmin": 1874,
          "ymax": 1948,
          "ymin": 1145
         },
         {
          "label": "jack_of_spades",
          "xmax": 4116,
          "xmin": 3408,
          "ymax": 1877,
          "ymin": 1313
         }
        ],
        "image": {
         "depth": 3,
         "height": 2112,
         "path": "/home/adrian/development/machine-learning/dataset/IMG_20200219_210855.jpg",
         "width": 4608
        }
       },
       {
        "bounding_boxes": [
         {
          "label": "9_of_clubs",
          "xmax": 3640,
          "xmin": 1564,
          "ymax": 1854,
          "ymin": 2
         }
        ],
        "image": {
         "depth": 3,
         "height": 2112,
         "path": "/home/adrian/development/machine-learning/dataset/IMG_20200219_205759.jpg",
         "width": 4608
        }
       },
       {
        "bounding_boxes": [
         {
          "label": "queen_of_spades",
          "xmax": 3430,
          "xmin": 1313,
          "ymax": 1848,
          "ymin": 102
         }
        ],
        "image": {
         "depth": 3,
         "height": 2112,
         "path": "/home/adrian/development/machine-learning/dataset/IMG_20200219_210505.jpg",
         "width": 4608
        }
       },
       {
        "bounding_boxes": [
         {
          "label": "9_of_hearts",
          "xmax": 3084,
          "xmin": 1473,
          "ymax": 1657,
          "ymin": 324
         }
        ],
        "image": {
         "depth": 3,
         "height": 2112,
         "path": "/home/adrian/development/machine-learning/dataset/IMG_20200219_204711.jpg",
         "width": 4608
        }
       },
       {
        "bounding_boxes": [
         {
          "label": "5_of_diamons",
          "xmax": 1534,
          "xmin": 413,
          "ymax": 1271,
          "ymin": 78
         },
         {
          "label": "king_of_hearts",
          "xmax": 2916,
          "xmin": 2222,
          "ymax": 943,
          "ymin": 1
         },
         {
          "label": "4_of_clubs",
          "xmax": 3848,
          "xmin": 3060,
          "ymax": 1024,
          "ymin": 46
         },
         {
          "label": "7_of_spades",
          "xmax": 4392,
          "xmin": 3777,
          "ymax": 1084,
          "ymin": 325
         },
         {
          "label": "8_of_hearts",
          "xmax": 3967,
          "xmin": 3316,
          "ymax": 1983,
          "ymin": 1255
         },
         {
          "label": "6_of_hearts",
          "xmax": 3319,
          "xmin": 2801,
          "ymax": 2057,
          "ymin": 1257
         },
         {
          "label": "2_of_hearts",
          "xmax": 2667,
          "xmin": 1857,
          "ymax": 2112,
          "ymin": 1322
         },
         {
          "label": "jack_of_diamons",
          "xmax": 1825,
          "xmin": 1008,
          "ymax": 2112,
          "ymin": 1525
         }
        ],
        "image": {
         "depth": 3,
         "height": 2112,
         "path": "/home/adrian/development/machine-learning/tensorflow1/dataset/IMG_20200223_155940.jpg",
         "width": 4608
        }
       },
       {
        "bounding_boxes": [
         {
          "label": "7_of_clubs",
          "xmax": 3410,
          "xmin": 1687,
          "ymax": 1762,
          "ymin": 292
         }
        ],
        "image": {
         "depth": 3,
         "height": 2112,
         "path": "/home/adrian/development/machine-learning/dataset/IMG_20200219_233602.jpg",
         "width": 4608
        }
       },
       {
        "bounding_boxes": [
         {
          "label": "joker",
          "xmax": 1552,
          "xmin": 727,
          "ymax": 873,
          "ymin": 136
         },
         {
          "label": "joker",
          "xmax": 1515,
          "xmin": 781,
          "ymax": 1826,
          "ymin": 1263
         },
         {
          "label": "2_of_spades",
          "xmax": 2778,
          "xmin": 1860,
          "ymax": 893,
          "ymin": 159
         },
         {
          "label": "ace_of_spades",
          "xmax": 2687,
          "xmin": 1788,
          "ymax": 1982,
          "ymin": 1263
         },
         {
          "label": "4_of_spades",
          "xmax": 3917,
          "xmin": 2938,
          "ymax": 980,
          "ymin": 257
         },
         {
          "label": "3_of_spades",
          "xmax": 3873,
          "xmin": 2904,
          "ymax": 1950,
          "ymin": 1256
         }
        ],
        "image": {
         "depth": 3,
         "height": 2112,
         "path": "/home/adrian/development/machine-learning/tensorflow1/dataset/train/samples/IMG_20200219_204537.jpg",
         "width": 4608
        }
       },
       {
        "bounding_boxes": [
         {
          "label": "ace_of_diamons",
          "xmax": 1608,
          "xmin": 1352,
          "ymax": 990,
          "ymin": 554
         },
         {
          "label": "9_of_clubs",
          "xmax": 2069,
          "xmin": 1695,
          "ymax": 1009,
          "ymin": 489
         },
         {
          "label": "10_of_clubs",
          "xmax": 2734,
          "xmin": 2230,
          "ymax": 1001,
          "ymin": 384
         },
         {
          "label": "2_of_diamons",
          "xmax": 3805,
          "xmin": 3055,
          "ymax": 839,
          "ymin": 77
         },
         {
          "label": "9_of_diamons",
          "xmax": 1466,
          "xmin": 1255,
          "ymax": 1815,
          "ymin": 1293
         },
         {
          "label": "3_of_diamons",
          "xmax": 1899,
          "xmin": 1505,
          "ymax": 1945,
          "ymin": 1322
         },
         {
          "label": "4_of_diamons",
          "xmax": 2516,
          "xmin": 2134,
          "ymax": 1963,
          "ymin": 1248
         },
         {
          "label": "jack_of_hearts",
          "xmax": 3546,
          "xmin": 2760,
          "ymax": 2072,
          "ymin": 1163
         }
        ],
        "image": {
         "depth": 3,
         "height": 2112,
         "path": "/home/adrian/development/machine-learning/tensorflow1/dataset/IMG_20200223_155918.jpg",
         "width": 4608
        }
       },
       {
        "bounding_boxes": [
         {
          "label": "8_of_diamons",
          "xmax": 3464,
          "xmin": 1467,
          "ymax": 2072,
          "ymin": 13
         }
        ],
        "image": {
         "depth": 3,
         "height": 2112,
         "path": "/home/adrian/development/machine-learning/dataset/IMG_20200219_210432.jpg",
         "width": 4608
        }
       },
       {
        "bounding_boxes": [
         {
          "label": "9_of_spades",
          "xmax": 3440,
          "xmin": 1267,
          "ymax": 2112,
          "ymin": 68
         }
        ],
        "image": {
         "depth": 3,
         "height": 2112,
         "path": "/home/adrian/development/machine-learning/dataset/IMG_20200219_210456.jpg",
         "width": 4608
        }
       },
       {
        "bounding_boxes": [
         {
          "label": "5_of_hearts",
          "xmax": 3292,
          "xmin": 1336,
          "ymax": 1812,
          "ymin": 280
         },
         {
          "label": "2_of_clubs",
          "xmax": 4608,
          "xmin": 4164,
          "ymax": 2112,
          "ymin": 1246
         }
        ],
        "image": {
         "depth": 3,
         "height": 2112,
         "path": "/home/adrian/development/machine-learning/dataset/IMG_20200219_210503.jpg",
         "width": 4608
        }
       },
       {
        "bounding_boxes": [
         {
          "label": "joker",
          "xmax": 3110,
          "xmin": 1269,
          "ymax": 1942,
          "ymin": 333
         }
        ],
        "image": {
         "depth": 3,
         "height": 2112,
         "path": "/home/adrian/development/machine-learning/dataset/IMG_20200219_233702.jpg",
         "width": 4608
        }
       },
       {
        "bounding_boxes": [
         {
          "label": "jack_of_hearts",
          "xmax": 1504,
          "xmin": 671,
          "ymax": 848,
          "ymin": 80
         },
         {
          "label": "4_of_diamons",
          "xmax": 2401,
          "xmin": 1761,
          "ymax": 831,
          "ymin": 160
         },
         {
          "label": "3_of_diamons",
          "xmax": 3160,
          "xmin": 2714,
          "ymax": 810,
          "ymin": 186
         },
         {
          "label": "9_of_diamons",
          "xmax": 3739,
          "xmin": 3271,
          "ymax": 859,
          "ymin": 322
         },
         {
          "label": "2_of_diamons",
          "xmax": 1371,
          "xmin": 466,
          "ymax": 2093,
          "ymin": 1148
         },
         {
          "label": "10_of_clubs",
          "xmax": 2507,
          "xmin": 1886,
          "ymax": 1886,
          "ymin": 1080
         },
         {
          "label": "9_of_clubs",
          "xmax": 3371,
          "xmin": 2936,
          "ymax": 1863,
          "ymin": 1157
         },
         {
          "label": "ace_of_diamons",
          "xmax": 4084,
          "xmin": 3642,
          "ymax": 1830,
          "ymin": 1249
         }
        ],
        "image": {
         "depth": 3,
         "height": 2112,
         "path": "/home/adrian/development/machine-learning/tensorflow1/dataset/IMG_20200223_155845.jpg",
         "width": 4608
        }
       },
       {
        "bounding_boxes": [
         {
          "label": "3_of_diamons",
          "xmax": 3501,
          "xmin": 1792,
          "ymax": 1884,
          "ymin": 233
         }
        ],
        "image": {
         "depth": 3,
         "height": 2112,
         "path": "/home/adrian/development/machine-learning/dataset/IMG_20200219_233450.jpg",
         "width": 4608
        }
       },
       {
        "bounding_boxes": [
         {
          "label": "6_of_clubs",
          "xmax": 1914,
          "xmin": 977,
          "ymax": 812,
          "ymin": 19
         },
         {
          "label": "queen_of_hearts",
          "xmax": 2927,
          "xmin": 1990,
          "ymax": 687,
          "ymin": 31
         },
         {
          "label": "2_of_clubs",
          "xmax": 3669,
          "xmin": 3104,
          "ymax": 742,
          "ymin": 37
         },
         {
          "label": "2_of_diamons",
          "xmax": 3671,
          "xmin": 3028,
          "ymax": 1813,
          "ymin": 907
         },
         {
          "label": "8_of_spades",
          "xmax": 2778,
          "xmin": 1793,
          "ymax": 2066,
          "ymin": 1007
         },
         {
          "label": "5_of_hearts",
          "xmax": 1674,
          "xmin": 911,
          "ymax": 1933,
          "ymin": 1031
         }
        ],
        "image": {
         "depth": 3,
         "height": 2112,
         "path": "/home/adrian/development/machine-learning/tensorflow1/dataset/IMG_20200223_175835.jpg",
         "width": 4608
        }
       },
       {
        "bounding_boxes": [
         {
          "label": "10_of_hearts",
          "xmax": 3316,
          "xmin": 1611,
          "ymax": 1724,
          "ymin": 312
         }
        ],
        "image": {
         "depth": 3,
         "height": 2112,
         "path": "/home/adrian/development/machine-learning/dataset/IMG_20200219_205551.jpg",
         "width": 4608
        }
       },
       {
        "bounding_boxes": [
         {
          "label": "3_of_spades",
          "xmax": 1577,
          "xmin": 881,
          "ymax": 622,
          "ymin": 127
         },
         {
          "label": "8_of_clubs",
          "xmax": 2289,
          "xmin": 1633,
          "ymax": 490,
          "ymin": 31
         },
         {
          "label": "3_of_clubs",
          "xmax": 2849,
          "xmin": 2274,
          "ymax": 524,
          "ymin": 95
         },
         {
          "label": "black_joker",
          "xmax": 3345,
          "xmin": 2845,
          "ymax": 437,
          "ymin": 43
         },
         {
          "label": "9_of_hearts",
          "xmax": 4008,
          "xmin": 3389,
          "ymax": 610,
          "ymin": 205
         },
         {
          "label": "jack_of_clubs",
          "xmax": 4251,
          "xmin": 3617,
          "ymax": 1292,
          "ymin": 713
         },
         {
          "label": "7_of_clubs",
          "xmax": 3475,
          "xmin": 2958,
          "ymax": 1075,
          "ymin": 528
         },
         {
          "label": "8_of_diamons",
          "xmax": 2807,
          "xmin": 2258,
          "ymax": 1163,
          "ymin": 630
         },
         {
          "label": "6_of_diamons",
          "xmax": 2124,
          "xmin": 1442,
          "ymax": 1096,
          "ymin": 502
         },
         {
          "label": "king_of_clubs",
          "xmax": 1154,
          "xmin": 255,
          "ymax": 1084,
          "ymin": 460
         },
         {
          "label": "10_of_diamons",
          "xmax": 1192,
          "xmin": 217,
          "ymax": 1954,
          "ymin": 1131
         },
         {
          "label": "4_of_spades",
          "xmax": 2698,
          "xmin": 1713,
          "ymax": 1972,
          "ymin": 1152
         },
         {
          "label": "queen_of_clubs",
          "xmax": 3645,
          "xmin": 2964,
          "ymax": 1798,
          "ymin": 1112
         }
        ],
        "image": {
         "depth": 3,
         "height": 2112,
         "path": "/home/adrian/development/machine-learning/tensorflow1/dataset/IMG_20200223_163202.jpg",
         "width": 4608
        }
       },
       {
        "bounding_boxes": [
         {
          "label": "2_of_clubs",
          "xmax": 2783,
          "xmin": 2093,
          "ymax": 427,
          "ymin": 63
         },
         {
          "label": "card",
          "xmax": 3178,
          "xmin": 2354,
          "ymax": 762,
          "ymin": 363
         },
         {
          "label": "king_of_diamons",
          "xmax": 3189,
          "xmin": 2280,
          "ymax": 1183,
          "ymin": 727
         },
         {
          "label": "9_of_spades",
          "xmax": 3536,
          "xmin": 2422,
          "ymax": 2002,
          "ymin": 1166
         },
         {
          "label": "queen_of_hearts",
          "xmax": 2446,
          "xmin": 1371,
          "ymax": 2089,
          "ymin": 1374
         },
         {
          "label": "6_of_clubs",
          "xmax": 2046,
          "xmin": 1071,
          "ymax": 1349,
          "ymin": 719
         },
         {
          "label": "10_of_hearts",
          "xmax": 2113,
          "xmin": 1593,
          "ymax": 680,
          "ymin": 295
         }
        ],
        "image": {
         "depth": 3,
         "height": 2112,
         "path": "/home/adrian/development/machine-learning/tensorflow1/dataset/IMG_20200223_163627.jpg",
         "width": 4608
        }
       },
       {
        "bounding_boxes": [
         {
          "label": "3_of_clubs",
          "xmax": 3442,
          "xmin": 1445,
          "ymax": 1943,
          "ymin": 54
         }
        ],
        "image": {
         "depth": 3,
         "height": 2112,
         "path": "/home/adrian/development/machine-learning/dataset/IMG_20200219_205624.jpg",
         "width": 4608
        }
       },
       {
        "bounding_boxes": [
         {
          "label": "3_of_diamons",
          "xmax": 3025,
          "xmin": 1240,
          "ymax": 2095,
          "ymin": 49
         }
        ],
        "image": {
         "depth": 3,
         "height": 2112,
         "path": "/home/adrian/development/machine-learning/dataset/IMG_20200219_210306.jpg",
         "width": 4608
        }
       },
       {
        "bounding_boxes": [
         {
          "label": "queen_of_diamons",
          "xmax": 2764,
          "xmin": 1557,
          "ymax": 1733,
          "ymin": 65
         }
        ],
        "image": {
         "depth": 3,
         "height": 2112,
         "path": "/home/adrian/development/machine-learning/dataset/IMG_20200219_205915.jpg",
         "width": 4608
        }
       },
       {
        "bounding_boxes": [
         {
          "label": "queen_of_clubs",
          "xmax": 2058,
          "xmin": 1581,
          "ymax": 736,
          "ymin": 157
         },
         {
          "label": "4_of_spades",
          "xmax": 2867,
          "xmin": 2231,
          "ymax": 730,
          "ymin": 151
         },
         {
          "label": "10_of_diamons",
          "xmax": 3704,
          "xmin": 3190,
          "ymax": 868,
          "ymin": 239
         },
         {
          "label": "king_of_clubs",
          "xmax": 3866,
          "xmin": 3287,
          "ymax": 1552,
          "ymin": 892
         },
         {
          "label": "6_of_diamons",
          "xmax": 3054,
          "xmin": 2519,
          "ymax": 1440,
          "ymin": 822
         },
         {
          "label": "8_of_diamons",
          "xmax": 2466,
          "xmin": 2033,
          "ymax": 1287,
          "ymin": 698
         },
         {
          "label": "7_of_clubs",
          "xmax": 1922,
          "xmin": 1404,
          "ymax": 1355,
          "ymin": 725
         },
         {
          "label": "jack_of_clubs",
          "xmax": 1413,
          "xmin": 902,
          "ymax": 1102,
          "ymin": 478
         },
         {
          "label": "9_of_hearts",
          "xmax": 1229,
          "xmin": 814,
          "ymax": 1792,
          "ymin": 1216
         },
         {
          "label": "black_joker",
          "xmax": 1769,
          "xmin": 1305,
          "ymax": 2078,
          "ymin": 1459
         },
         {
          "label": "3_of_clubs",
          "xmax": 2301,
          "xmin": 1861,
          "ymax": 2036,
          "ymin": 1395
         },
         {
          "label": "8_of_clubs",
          "xmax": 2909,
          "xmin": 2301,
          "ymax": 2112,
          "ymin": 1449
         },
         {
          "label": "3_of_spades",
          "xmax": 3552,
          "xmin": 2939,
          "ymax": 2013,
          "ymin": 1334
         }
        ],
        "image": {
         "depth": 3,
         "height": 2112,
         "path": "/home/adrian/development/machine-learning/tensorflow1/dataset/IMG_20200223_163209.jpg",
         "width": 4608
        }
       },
       {
        "bounding_boxes": [
         {
          "label": "4_of_hearts",
          "xmax": 3416,
          "xmin": 1845,
          "ymax": 1699,
          "ymin": 524
         },
         {
          "label": "7_of_hearts",
          "xmax": 741,
          "xmin": 1,
          "ymax": 1556,
          "ymin": 161
         }
        ],
        "image": {
         "depth": 3,
         "height": 2112,
         "path": "/home/adrian/development/machine-learning/dataset/IMG_20200219_204724.jpg",
         "width": 4608
        }
       },
       {
        "bounding_boxes": [
         {
          "label": "8_of_clubs",
          "xmax": 1789,
          "xmin": 1292,
          "ymax": 699,
          "ymin": 68
         },
         {
          "label": "7_of_clubs",
          "xmax": 2421,
          "xmin": 1931,
          "ymax": 959,
          "ymin": 262
         },
         {
          "label": "3_of_clubs",
          "xmax": 3534,
          "xmin": 2852,
          "ymax": 1155,
          "ymin": 234
         },
         {
          "label": "jack_of_clubs",
          "xmax": 1176,
          "xmin": 859,
          "ymax": 1607,
          "ymin": 954
         },
         {
          "label": "6_of_diamons",
          "xmax": 1816,
          "xmin": 1289,
          "ymax": 1654,
          "ymin": 1048
         },
         {
          "label": "8_of_diamons",
          "xmax": 2686,
          "xmin": 2110,
          "ymax": 2099,
          "ymin": 1234
         }
        ],
        "image": {
         "depth": 3,
         "height": 2112,
         "path": "/home/adrian/development/machine-learning/tensorflow1/dataset/IMG_20200223_173153.jpg",
         "width": 4608
        }
       },
       {
        "bounding_boxes": [
         {
          "label": "6_of_spades",
          "xmax": 2342,
          "xmin": 1404,
          "ymax": 998,
          "ymin": 24
         },
         {
          "label": "9_of_spades",
          "xmax": 3601,
          "xmin": 2534,
          "ymax": 807,
          "ymin": 15
         },
         {
          "label": "king_of_diamons",
          "xmax": 4533,
          "xmin": 3611,
          "ymax": 757,
          "ymin": 63
         },
         {
          "label": "ace_of_clubs",
          "xmax": 3874,
          "xmin": 3242,
          "ymax": 1477,
          "ymin": 909
         },
         {
          "label": "2_of_spades",
          "xmax": 3013,
          "xmin": 2184,
          "ymax": 1725,
          "ymin": 1122
         },
         {
          "label": "ace_of_spades",
          "xmax": 2042,
          "xmin": 1352,
          "ymax": 1786,
          "ymin": 1254
         }
        ],
        "image": {
         "depth": 3,
         "height": 2112,
         "path": "/home/adrian/development/machine-learning/tensorflow1/dataset/IMG_20200223_175711.jpg",
         "width": 4608
        }
       },
       {
        "bounding_boxes": [
         {
          "label": "2_of_clubs",
          "xmax": 3348,
          "xmin": 1592,
          "ymax": 2068,
          "ymin": 36
         }
        ],
        "image": {
         "depth": 3,
         "height": 2112,
         "path": "/home/adrian/development/machine-learning/dataset/IMG_20200219_205604.jpg",
         "width": 4608
        }
       },
       {
        "bounding_boxes": [
         {
          "label": "8_of_clubs",
          "xmax": 3375,
          "xmin": 1549,
          "ymax": 1781,
          "ymin": 28
         }
        ],
        "image": {
         "depth": 3,
         "height": 2112,
         "path": "/home/adrian/development/machine-learning/dataset/IMG_20200219_233559.jpg",
         "width": 4608
        }
       },
       {
        "bounding_boxes": [
         {
          "label": "3_of_hearts",
          "xmax": 3530,
          "xmin": 1814,
          "ymax": 1689,
          "ymin": 238
         },
         {
          "label": "jack_of_spades",
          "xmax": 1416,
          "xmin": 4,
          "ymax": 1234,
          "ymin": 1
         }
        ],
        "image": {
         "depth": 3,
         "height": 2112,
         "path": "/home/adrian/development/machine-learning/dataset/IMG_20200219_204754.jpg",
         "width": 4608
        }
       },
       {
        "bounding_boxes": [
         {
          "label": "3_of_hearts",
          "xmax": 3158,
          "xmin": 1243,
          "ymax": 1733,
          "ymin": 124
         }
        ],
        "image": {
         "depth": 3,
         "height": 2112,
         "path": "/home/adrian/development/machine-learning/dataset/IMG_20200219_210500.jpg",
         "width": 4608
        }
       },
       {
        "bounding_boxes": [
         {
          "label": "6_of_clubs",
          "xmax": 1789,
          "xmin": 1001,
          "ymax": 960,
          "ymin": 315
         },
         {
          "label": "7_of_clubs",
          "xmax": 2705,
          "xmin": 1781,
          "ymax": 1012,
          "ymin": 205
         },
         {
          "label": "8_of_clubs",
          "xmax": 3634,
          "xmin": 2639,
          "ymax": 898,
          "ymin": 1
         },
         {
          "label": "3_of_clubs",
          "xmax": 1796,
          "xmin": 937,
          "ymax": 1798,
          "ymin": 977
         },
         {
          "label": "4_of_clubs",
          "xmax": 2707,
          "xmin": 1777,
          "ymax": 2074,
          "ymin": 1198
         },
         {
          "label": "5_of_clubs",
          "xmax": 3569,
          "xmin": 2616,
          "ymax": 1693,
          "ymin": 927
         }
        ],
        "image": {
         "depth": 3,
         "height": 2112,
         "path": "/home/adrian/development/machine-learning/dataset/IMG_20200219_205522.jpg",
         "width": 4608
        }
       },
       {
        "bounding_boxes": [
         {
          "label": "2_of_clubs",
          "xmax": 2216,
          "xmin": 990,
          "ymax": 1981,
          "ymin": 186
         }
        ],
        "image": {
         "depth": 3,
         "height": 2112,
         "path": "/home/adrian/development/machine-learning/dataset/IMG_20200219_210341.jpg",
         "width": 4608
        }
       },
       {
        "bounding_boxes": [
         {
          "label": "10_of_diamons",
          "xmax": 3340,
          "xmin": 1751,
          "ymax": 1755,
          "ymin": 483
         }
        ],
        "image": {
         "depth": 3,
         "height": 2112,
         "path": "/home/adrian/development/machine-learning/dataset/IMG_20200219_233447.jpg",
         "width": 4608
        }
       },
       {
        "bounding_boxes": [
         {
          "label": "8_of_spades",
          "xmax": 3599,
          "xmin": 1945,
          "ymax": 1730,
          "ymin": 389
         }
        ],
        "image": {
         "depth": 3,
         "height": 2112,
         "path": "/home/adrian/development/machine-learning/dataset/IMG_20200219_204818.jpg",
         "width": 4608
        }
       },
       {
        "bounding_boxes": [
         {
          "label": "jack_of_clubs",
          "xmax": 3663,
          "xmin": 1349,
          "ymax": 2078,
          "ymin": 2
         }
        ],
        "image": {
         "depth": 3,
         "height": 2112,
         "path": "/home/adrian/development/machine-learning/dataset/IMG_20200219_205745.jpg",
         "width": 4608
        }
       },
       {
        "bounding_boxes": [
         {
          "label": "king_of_spades",
          "xmax": 1605,
          "xmin": 395,
          "ymax": 1325,
          "ymin": 375
         },
         {
          "label": "joker",
          "xmax": 2452,
          "xmin": 1683,
          "ymax": 1013,
          "ymin": 75
         },
         {
          "label": "queen_of_diamons",
          "xmax": 3392,
          "xmin": 2605,
          "ymax": 909,
          "ymin": 4
         },
         {
          "label": "5_of_clubs",
          "xmax": 3687,
          "xmin": 2831,
          "ymax": 1693,
          "ymin": 1112
         },
         {
          "label": "10_of_spades",
          "xmax": 2672,
          "xmin": 2086,
          "ymax": 1933,
          "ymin": 1274
         },
         {
          "label": "7_of_diamons",
          "xmax": 1805,
          "xmin": 1081,
          "ymax": 2112,
          "ymin": 1516
         }
        ],
        "image": {
         "depth": 3,
         "height": 2112,
         "path": "/home/adrian/development/machine-learning/tensorflow1/dataset/IMG_20200223_175859.jpg",
         "width": 4608
        }
       },
       {
        "bounding_boxes": [
         {
          "label": "joker",
          "xmax": 3313,
          "xmin": 1616,
          "ymax": 1916,
          "ymin": 507
         }
        ],
        "image": {
         "depth": 3,
         "height": 2112,
         "path": "/home/adrian/development/machine-learning/dataset/IMG_20200219_233648.jpg",
         "width": 4608
        }
       },
       {
        "bounding_boxes": [
         {
          "label": "ace_of_hearts",
          "xmax": 2863,
          "xmin": 1457,
          "ymax": 1668,
          "ymin": 474
         }
        ],
        "image": {
         "depth": 3,
         "height": 2112,
         "path": "/home/adrian/development/machine-learning/dataset/IMG_20200219_233355.jpg",
         "width": 4608
        }
       },
       {
        "bounding_boxes": [
         {
          "label": "6_of_clubs",
          "xmax": 2346,
          "xmin": 1816,
          "ymax": 890,
          "ymin": 133
         },
         {
          "label": "10_of_hearts",
          "xmax": 3013,
          "xmin": 2377,
          "ymax": 886,
          "ymin": 195
         },
         {
          "label": "2_of_clubs",
          "xmax": 3698,
          "xmin": 2731,
          "ymax": 1824,
          "ymin": 769
         },
         {
          "label": "card",
          "xmax": 2790,
          "xmin": 2207,
          "ymax": 2068,
          "ymin": 1131
         },
         {
          "label": "king_of_diamons",
          "xmax": 2211,
          "xmin": 1855,
          "ymax": 1837,
          "ymin": 1063
         },
         {
          "label": "9_of_spades",
          "xmax": 1837,
          "xmin": 1393,
          "ymax": 1915,
          "ymin": 1172
         },
         {
          "label": "queen_of_hearts",
          "xmax": 1761,
          "xmin": 1490,
          "ymax": 1193,
          "ymin": 543
         }
        ],
        "image": {
         "depth": 3,
         "height": 2112,
         "path": "/home/adrian/development/machine-learning/tensorflow1/dataset/IMG_20200223_163620.jpg",
         "width": 4608
        }
       },
       {
        "bounding_boxes": [
         {
          "label": "king_of_spades",
          "xmax": 1924,
          "xmin": 1039,
          "ymax": 974,
          "ymin": 269
         },
         {
          "label": "joker",
          "xmax": 2567,
          "xmin": 1963,
          "ymax": 743,
          "ymin": 136
         },
         {
          "label": "queen_of_diamons",
          "xmax": 3228,
          "xmin": 2543,
          "ymax": 660,
          "ymin": 60
         },
         {
          "label": "5_of_clubs",
          "xmax": 3775,
          "xmin": 3078,
          "ymax": 1489,
          "ymin": 849
         },
         {
          "label": "10_of_spades",
          "xmax": 3057,
          "xmin": 2355,
          "ymax": 1781,
          "ymin": 1007
         },
         {
          "label": "7_of_diamons",
          "xmax": 2140,
          "xmin": 1378,
          "ymax": 2089,
          "ymin": 1201
         }
        ],
        "image": {
         "depth": 3,
         "height": 2112,
         "path": "/home/adrian/development/machine-learning/tensorflow1/dataset/IMG_20200223_175850.jpg",
         "width": 4608
        }
       },
       {
        "bounding_boxes": [
         {
          "label": "8_of_hearts",
          "xmax": 1604,
          "xmin": 933,
          "ymax": 796,
          "ymin": 89
         },
         {
          "label": "6_of_hearts",
          "xmax": 2117,
          "xmin": 1605,
          "ymax": 859,
          "ymin": 171
         },
         {
          "label": "2_of_hearts",
          "xmax": 2964,
          "xmin": 2219,
          "ymax": 969,
          "ymin": 193
         },
         {
          "label": "jack_of_diamons",
          "xmax": 3624,
          "xmin": 2977,
          "ymax": 874,
          "ymin": 133
         },
         {
          "label": "7_of_spades",
          "xmax": 1151,
          "xmin": 554,
          "ymax": 1595,
          "ymin": 875
         },
         {
          "label": "4_of_clubs",
          "xmax": 1864,
          "xmin": 1092,
          "ymax": 1892,
          "ymin": 1051
         },
         {
          "label": "king_of_hearts",
          "xmax": 2595,
          "xmin": 1981,
          "ymax": 2034,
          "ymin": 1225
         },
         {
          "label": "5_of_diamons",
          "xmax": 3914,
          "xmin": 3158,
          "ymax": 2049,
          "ymin": 1180
         }
        ],
        "image": {
         "depth": 3,
         "height": 2112,
         "path": "/home/adrian/development/machine-learning/tensorflow1/dataset/IMG_20200223_155928.jpg",
         "width": 4608
        }
       },
       {
        "bounding_boxes": [
         {
          "label": "5_of_clubs",
          "xmax": 2996,
          "xmin": 1458,
          "ymax": 2066,
          "ymin": 146
         }
        ],
        "image": {
         "depth": 3,
         "height": 2112,
         "path": "/home/adrian/development/machine-learning/dataset/IMG_20200219_210326.jpg",
         "width": 4608
        }
       },
       {
        "bounding_boxes": [
         {
          "label": "6_of_diamons",
          "xmax": 2914,
          "xmin": 1508,
          "ymax": 1699,
          "ymin": 165
         },
         {
          "label": "6_of_spades",
          "xmax": 982,
          "xmin": 4,
          "ymax": 2112,
          "ymin": 1613
         },
         {
          "label": "black_joker",
          "xmax": 425,
          "xmin": 1,
          "ymax": 1516,
          "ymin": 555
         }
        ],
        "image": {
         "depth": 3,
         "height": 2112,
         "path": "/home/adrian/development/machine-learning/dataset/IMG_20200219_210411.jpg",
         "width": 4608
        }
       },
       {
        "bounding_boxes": [
         {
          "label": "jack_of_hearts",
          "xmax": 3099,
          "xmin": 1058,
          "ymax": 1965,
          "ymin": 86
         }
        ],
        "image": {
         "depth": 3,
         "height": 2112,
         "path": "/home/adrian/development/machine-learning/dataset/IMG_20200219_210320.jpg",
         "width": 4608
        }
       },
       {
        "bounding_boxes": [
         {
          "label": "5_of_spades",
          "xmax": 3386,
          "xmin": 1560,
          "ymax": 1662,
          "ymin": 333
         }
        ],
        "image": {
         "depth": 3,
         "height": 2112,
         "path": "/home/adrian/development/machine-learning/tensorflow1/dataset/IMG_20200223_154135.jpg",
         "width": 4608
        }
       },
       {
        "bounding_boxes": [
         {
          "label": "2_of_hearts",
          "xmax": 1973,
          "xmin": 1032,
          "ymax": 2067,
          "ymin": 1222
         },
         {
          "label": "3_of_hearts",
          "xmax": 3332,
          "xmin": 2426,
          "ymax": 1981,
          "ymin": 1326
         },
         {
          "label": "4_of_hearts",
          "xmax": 2282,
          "xmin": 1290,
          "ymax": 1144,
          "ymin": 213
         },
         {
          "label": "5_of_hearts",
          "xmax": 3486,
          "xmin": 2430,
          "ymax": 1136,
          "ymin": 234
         }
        ],
        "image": {
         "depth": 3,
         "height": 2112,
         "path": "/home/adrian/development/machine-learning/dataset/IMG_20200219_204614.jpg",
         "width": 4608
        }
       },
       {
        "bounding_boxes": [
         {
          "label": "6_of_hearts",
          "xmax": 2112,
          "xmin": 1088,
          "ymax": 2109,
          "ymin": 1167
         },
         {
          "label": "7_of_hearts",
          "xmax": 3326,
          "xmin": 2298,
          "ymax": 1954,
          "ymin": 1111
         },
         {
          "label": "8_of_hearts",
          "xmax": 2149,
          "xmin": 1137,
          "ymax": 889,
          "ymin": 1
         },
         {
          "label": "9_of_hearts",
          "xmax": 3292,
          "xmin": 2345,
          "ymax": 950,
          "ymin": 250
         }
        ],
        "image": {
         "depth": 3,
         "height": 2112,
         "path": "/home/adrian/development/machine-learning/dataset/IMG_20200219_204616.jpg",
         "width": 4608
        }
       },
       {
        "bounding_boxes": [
         {
          "label": "5_of_hearts",
          "xmax": 3081,
          "xmin": 1653,
          "ymax": 1485,
          "ymin": 440
         },
         {
          "label": "3_of_hearts",
          "xmax": 4257,
          "xmin": 3147,
          "ymax": 265,
          "ymin": 1
         }
        ],
        "image": {
         "depth": 3,
         "height": 2112,
         "path": "/home/adrian/development/machine-learning/dataset/IMG_20200219_204756.jpg",
         "width": 4608
        }
       },
       {
        "bounding_boxes": [
         {
          "label": "queen_of_hearts",
          "xmax": 3407,
          "xmin": 1693,
          "ymax": 1705,
          "ymin": 204
         }
        ],
        "image": {
         "depth": 3,
         "height": 2112,
         "path": "/home/adrian/development/machine-learning/dataset/IMG_20200219_233526.jpg",
         "width": 4608
        }
       },
       {
        "bounding_boxes": [
         {
          "label": "king_of_spades",
          "xmax": 3422,
          "xmin": 1195,
          "ymax": 2069,
          "ymin": 51
         }
        ],
        "image": {
         "depth": 3,
         "height": 2112,
         "path": "/home/adrian/development/machine-learning/dataset/IMG_20200219_210812.jpg",
         "width": 4608
        }
       },
       {
        "bounding_boxes": [
         {
          "label": "4_of_spades",
          "xmax": 3180,
          "xmin": 1517,
          "ymax": 1795,
          "ymin": 375
         },
         {
          "label": "8_of_spades",
          "xmax": 504,
          "xmin": 4,
          "ymax": 2112,
          "ymin": 981
         }
        ],
        "image": {
         "depth": 3,
         "height": 2112,
         "path": "/home/adrian/development/machine-learning/dataset/IMG_20200219_233655.jpg",
         "width": 4608
        }
       },
       {
        "bounding_boxes": [
         {
          "label": "card",
          "xmax": 3527,
          "xmin": 1714,
          "ymax": 1783,
          "ymin": 230
         }
        ],
        "image": {
         "depth": 3,
         "height": 2112,
         "path": "/home/adrian/development/machine-learning/dataset/IMG_20200219_233750.jpg",
         "width": 4608
        }
       },
       {
        "bounding_boxes": [
         {
          "label": "queen_of_spades",
          "xmax": 3517,
          "xmin": 1836,
          "ymax": 1837,
          "ymin": 504
         }
        ],
        "image": {
         "depth": 3,
         "height": 2112,
         "path": "/home/adrian/development/machine-learning/dataset/IMG_20200219_233544.jpg",
         "width": 4608
        }
       },
       {
        "bounding_boxes": [
         {
          "label": "3_of_hearts",
          "xmax": 3749,
          "xmin": 2767,
          "ymax": 816,
          "ymin": 75
         },
         {
          "label": "5_of_hearts",
          "xmax": 2765,
          "xmin": 1814,
          "ymax": 1060,
          "ymin": 395
         },
         {
          "label": "ace_of_hearts",
          "xmax": 2857,
          "xmin": 1737,
          "ymax": 1863,
          "ymin": 911
         },
         {
          "label": "9_of_spades",
          "xmax": 2035,
          "xmin": 969,
          "ymax": 1565,
          "ymin": 603
         },
         {
          "label": "queen_of_spades",
          "xmax": 3398,
          "xmin": 2355,
          "ymax": 2038,
          "ymin": 1181
         },
         {
          "label": "10_of_spades",
          "xmax": 3517,
          "xmin": 2763,
          "ymax": 2112,
          "ymin": 1909
         }
        ],
        "image": {
         "depth": 3,
         "height": 2112,
         "path": "/home/adrian/development/machine-learning/dataset/IMG_20200219_204750.jpg",
         "width": 4608
        }
       },
       {
        "bounding_boxes": [
         {
          "label": "3_of_clubs",
          "xmax": 3511,
          "xmin": 1731,
          "ymax": 1955,
          "ymin": 392
         }
        ],
        "image": {
         "depth": 3,
         "height": 2112,
         "path": "/home/adrian/development/machine-learning/dataset/IMG_20200219_233538.jpg",
         "width": 4608
        }
       },
       {
        "bounding_boxes": [
         {
          "label": "7_of_spades",
          "xmax": 3311,
          "xmin": 1561,
          "ymax": 1883,
          "ymin": 349
         }
        ],
        "image": {
         "depth": 3,
         "height": 2112,
         "path": "/home/adrian/development/machine-learning/dataset/IMG_20200219_205313.jpg",
         "width": 4608
        }
       },
       {
        "bounding_boxes": [
         {
          "label": "5_of_clubs",
          "xmax": 3340,
          "xmin": 2096,
          "ymax": 1693,
          "ymin": 109
         }
        ],
        "image": {
         "depth": 3,
         "height": 2112,
         "path": "/home/adrian/development/machine-learning/dataset/IMG_20200219_233516.jpg",
         "width": 4608
        }
       },
       {
        "bounding_boxes": [
         {
          "label": "ace_of_diamons",
          "xmax": 2801,
          "xmin": 1130,
          "ymax": 1710,
          "ymin": 455
         },
         {
          "label": "jack_of_clubs",
          "xmax": 4602,
          "xmin": 4260,
          "ymax": 2018,
          "ymin": 302
         }
        ],
        "image": {
         "depth": 3,
         "height": 2112,
         "path": "/home/adrian/development/machine-learning/dataset/IMG_20200219_210313.jpg",
         "width": 4608
        }
       },
       {
        "bounding_boxes": [
         {
          "label": "ace_of_hearts",
          "xmax": 1287,
          "xmin": 957,
          "ymax": 1637,
          "ymin": 1034
         },
         {
          "label": "4_of_hearts",
          "xmax": 1686,
          "xmin": 1351,
          "ymax": 1207,
          "ymin": 545
         },
         {
          "label": "5_of_clubs",
          "xmax": 2360,
          "xmin": 1742,
          "ymax": 1271,
          "ymin": 598
         },
         {
          "label": "6_of_spades",
          "xmax": 3150,
          "xmin": 2373,
          "ymax": 1148,
          "ymin": 536
         },
         {
          "label": "queen_of_diamons",
          "xmax": 1855,
          "xmin": 1292,
          "ymax": 1952,
          "ymin": 1342
         },
         {
          "label": "8_of_spades",
          "xmax": 2492,
          "xmin": 1822,
          "ymax": 2072,
          "ymin": 1213
         },
         {
          "label": "2_of_spades",
          "xmax": 3395,
          "xmin": 2486,
          "ymax": 2068,
          "ymin": 1172
         }
        ],
        "image": {
         "depth": 3,
         "height": 2112,
         "path": "/home/adrian/development/machine-learning/tensorflow1/dataset/IMG_20200223_163607.jpg",
         "width": 4608
        }
       },
       {
        "bounding_boxes": [
         {
          "label": "6_of_spades",
          "xmax": 3480,
          "xmin": 1807,
          "ymax": 1740,
          "ymin": 387
         }
        ],
        "image": {
         "depth": 3,
         "height": 2112,
         "path": "/home/adrian/development/machine-learning/dataset/IMG_20200219_233429.jpg",
         "width": 4608
        }
       },
       {
        "bounding_boxes": [
         {
          "label": "ace_of_clubs",
          "xmax": 2902,
          "xmin": 2169,
          "ymax": 778,
          "ymin": 49
         },
         {
          "label": "ace_of_spades",
          "xmax": 2619,
          "xmin": 1824,
          "ymax": 1424,
          "ymin": 646
         },
         {
          "label": "5_of_spades",
          "xmax": 2218,
          "xmin": 1333,
          "ymax": 2112,
          "ymin": 1309
         }
        ],
        "image": {
         "depth": 3,
         "height": 2112,
         "path": "/home/adrian/development/machine-learning/tensorflow1/dataset/IMG_20200223_154131.jpg",
         "width": 4608
        }
       },
       {
        "bounding_boxes": [
         {
          "label": "7_of_diamons",
          "xmax": 3493,
          "xmin": 1416,
          "ymax": 1859,
          "ymin": 2
         }
        ],
        "image": {
         "depth": 3,
         "height": 2112,
         "path": "/home/adrian/development/machine-learning/dataset/IMG_20200219_205831.jpg",
         "width": 4608
        }
       },
       {
        "bounding_boxes": [
         {
          "label": "2_of_diamons",
          "xmax": 3175,
          "xmin": 1321,
          "ymax": 1693,
          "ymin": 249
         },
         {
          "label": "9_of_spades",
          "xmax": 817,
          "xmin": 2,
          "ymax": 2112,
          "ymin": 1502
         }
        ],
        "image": {
         "depth": 3,
         "height": 2112,
         "path": "/home/adrian/development/machine-learning/dataset/IMG_20200219_210405.jpg",
         "width": 4608
        }
       },
       {
        "bounding_boxes": [
         {
          "label": "queen_of_clubs",
          "xmax": 3711,
          "xmin": 1558,
          "ymax": 2095,
          "ymin": 51
         }
        ],
        "image": {
         "depth": 3,
         "height": 2112,
         "path": "/home/adrian/development/machine-learning/dataset/IMG_20200219_205803.jpg",
         "width": 4608
        }
       },
       {
        "bounding_boxes": [
         {
          "label": "6_of_hearts",
          "xmax": 3124,
          "xmin": 1419,
          "ymax": 2059,
          "ymin": 10
         }
        ],
        "image": {
         "depth": 3,
         "height": 2112,
         "path": "/home/adrian/development/machine-learning/dataset/IMG_20200219_210832.jpg",
         "width": 4608
        }
       },
       {
        "bounding_boxes": [
         {
          "label": "5_of_hearts",
          "xmax": 2274,
          "xmin": 769,
          "ymax": 1887,
          "ymin": 55
         },
         {
          "label": "black_joker",
          "xmax": 3951,
          "xmin": 2513,
          "ymax": 2009,
          "ymin": 189
         }
        ],
        "image": {
         "depth": 3,
         "height": 2112,
         "path": "/home/adrian/development/machine-learning/tensorflow1/dataset/IMG_20200223_163959.jpg",
         "width": 4608
        }
       },
       {
        "bounding_boxes": [
         {
          "label": "5_of_spades",
          "xmax": 3459,
          "xmin": 1221,
          "ymax": 2112,
          "ymin": 74
         }
        ],
        "image": {
         "depth": 3,
         "height": 2112,
         "path": "/home/adrian/development/machine-learning/dataset/IMG_20200219_210814.jpg",
         "width": 4608
        }
       },
       {
        "bounding_boxes": [
         {
          "label": "4_of_hearts",
          "xmax": 3201,
          "xmin": 1104,
          "ymax": 1969,
          "ymin": 71
         }
        ],
        "image": {
         "depth": 3,
         "height": 2112,
         "path": "/home/adrian/development/machine-learning/dataset/IMG_20200219_210822.jpg",
         "width": 4608
        }
       },
       {
        "bounding_boxes": [
         {
          "label": "10_of_clubs",
          "xmax": 2111,
          "xmin": 1353,
          "ymax": 859,
          "ymin": 322
         },
         {
          "label": "7_of_hearts",
          "xmax": 3101,
          "xmin": 2386,
          "ymax": 552,
          "ymin": 52
         },
         {
          "label": "4_of_diamons",
          "xmax": 3757,
          "xmin": 3227,
          "ymax": 769,
          "ymin": 215
         },
         {
          "label": "3_of_diamons",
          "xmax": 3957,
          "xmin": 3474,
          "ymax": 1802,
          "ymin": 1098
         },
         {
          "label": "9_of_clubs",
          "xmax": 2999,
          "xmin": 2463,
          "ymax": 1731,
          "ymin": 1004
         },
         {
          "label": "ace_of_diamons",
          "xmax": 2328,
          "xmin": 1410,
          "ymax": 1930,
          "ymin": 998
         }
        ],
        "image": {
         "depth": 3,
         "height": 2112,
         "path": "/home/adrian/development/machine-learning/tensorflow1/dataset/IMG_20200223_175752.jpg",
         "width": 4608
        }
       },
       {
        "bounding_boxes": [
         {
          "label": "7_of_diamons",
          "xmax": 2864,
          "xmin": 890,
          "ymax": 1916,
          "ymin": 1
         },
         {
          "label": "king_of_diamons",
          "xmax": 4608,
          "xmin": 3633,
          "ymax": 1012,
          "ymin": 5
         }
        ],
        "image": {
         "depth": 3,
         "height": 2112,
         "path": "/home/adrian/development/machine-learning/dataset/IMG_20200219_210422.jpg",
         "width": 4608
        }
       },
       {
        "bounding_boxes": [
         {
          "label": "king_of_clubs",
          "xmax": 3083,
          "xmin": 1040,
          "ymax": 2039,
          "ymin": 110
         }
        ],
        "image": {
         "depth": 3,
         "height": 2112,
         "path": "/home/adrian/development/machine-learning/dataset/IMG_20200219_210251.jpg",
         "width": 4608
        }
       },
       {
        "bounding_boxes": [
         {
          "label": "card",
          "xmax": 3264,
          "xmin": 1599,
          "ymax": 2099,
          "ymin": 309
         }
        ],
        "image": {
         "depth": 3,
         "height": 2112,
         "path": "/home/adrian/development/machine-learning/dataset/IMG_20200219_233758.jpg",
         "width": 4608
        }
       },
       {
        "bounding_boxes": [
         {
          "label": "ace_of_hearts",
          "xmax": 2536,
          "xmin": 1822,
          "ymax": 957,
          "ymin": 418
         },
         {
          "label": "4_of_hearts",
          "xmax": 3221,
          "xmin": 2616,
          "ymax": 986,
          "ymin": 443
         },
         {
          "label": "3_of_hearts",
          "xmax": 2613,
          "xmin": 1821,
          "ymax": 1639,
          "ymin": 1034
         },
         {
          "label": "queen_of_spades",
          "xmax": 3311,
          "xmin": 2519,
          "ymax": 1912,
          "ymin": 1366
         }
        ],
        "image": {
         "depth": 3,
         "height": 2112,
         "path": "/home/adrian/development/machine-learning/tensorflow1/dataset/IMG_20200223_180034.jpg",
         "width": 4608
        }
       },
       {
        "bounding_boxes": [
         {
          "label": "6_of_clubs",
          "xmax": 3407,
          "xmin": 1851,
          "ymax": 1842,
          "ymin": 621
         },
         {
          "label": "queen_of_hearts",
          "xmax": 930,
          "xmin": 4,
          "ymax": 2112,
          "ymin": 1289
         }
        ],
        "image": {
         "depth": 3,
         "height": 2112,
         "path": "/home/adrian/development/machine-learning/dataset/IMG_20200219_233529.jpg",
         "width": 4608
        }
       },
       {
        "bounding_boxes": [
         {
          "label": "card",
          "xmax": 2960,
          "xmin": 1304,
          "ymax": 2037,
          "ymin": 259
         }
        ],
        "image": {
         "depth": 3,
         "height": 2112,
         "path": "/home/adrian/development/machine-learning/dataset/IMG_20200219_233800.jpg",
         "width": 4608
        }
       },
       {
        "bounding_boxes": [
         {
          "label": "joker",
          "xmax": 3351,
          "xmin": 1625,
          "ymax": 1824,
          "ymin": 313
         },
         {
          "label": "queen_of_diamons",
          "xmax": 510,
          "xmin": 5,
          "ymax": 1604,
          "ymin": 484
         }
        ],
        "image": {
         "depth": 3,
         "height": 2112,
         "path": "/home/adrian/development/machine-learning/dataset/IMG_20200219_210533.jpg",
         "width": 4608
        }
       },
       {
        "bounding_boxes": [
         {
          "label": "3_of_hearts",
          "xmax": 3331,
          "xmin": 1869,
          "ymax": 1566,
          "ymin": 460
         }
        ],
        "image": {
         "depth": 3,
         "height": 2112,
         "path": "/home/adrian/development/machine-learning/dataset/IMG_20200219_233624.jpg",
         "width": 4608
        }
       },
       {
        "bounding_boxes": [
         {
          "label": "7_of_clubs",
          "xmax": 3357,
          "xmin": 1705,
          "ymax": 1810,
          "ymin": 187
         },
         {
          "label": "6_of_clubs",
          "xmax": 1593,
          "xmin": 305,
          "ymax": 2112,
          "ymin": 1912
         }
        ],
        "image": {
         "depth": 3,
         "height": 2112,
         "path": "/home/adrian/development/machine-learning/dataset/IMG_20200219_233532.jpg",
         "width": 4608
        }
       },
       {
        "bounding_boxes": [
         {
          "label": "queen_of_diamons",
          "xmax": 2881,
          "xmin": 921,
          "ymax": 2030,
          "ymin": 352
         },
         {
          "label": "joker",
          "xmax": 4608,
          "xmin": 4311,
          "ymax": 1387,
          "ymin": 268
         }
        ],
        "image": {
         "depth": 3,
         "height": 2112,
         "path": "/home/adrian/development/machine-learning/dataset/IMG_20200219_210441.jpg",
         "width": 4608
        }
       },
       {
        "bounding_boxes": [
         {
          "label": "4_of_spades",
          "xmax": 3122,
          "xmin": 1346,
          "ymax": 1518,
          "ymin": 118
         }
        ],
        "image": {
         "depth": 3,
         "height": 2112,
         "path": "/home/adrian/development/machine-learning/dataset/IMG_20200219_210526.jpg",
         "width": 4608
        }
       },
       {
        "bounding_boxes": [
         {
          "label": "10_of_spades",
          "xmax": 1458,
          "xmin": 663,
          "ymax": 586,
          "ymin": 4
         },
         {
          "label": "4_of_hearts",
          "xmax": 2604,
          "xmin": 1827,
          "ymax": 696,
          "ymin": 116
         },
         {
          "label": "jack_of_spades",
          "xmax": 3793,
          "xmin": 3139,
          "ymax": 627,
          "ymin": 225
         },
         {
          "label": "5_of_spades",
          "xmax": 1386,
          "xmin": 413,
          "ymax": 2036,
          "ymin": 1136
         },
         {
          "label": "king_of_spades",
          "xmax": 2840,
          "xmin": 2019,
          "ymax": 2055,
          "ymin": 1168
         },
         {
          "label": "2_of_hearts",
          "xmax": 4193,
          "xmin": 3449,
          "ymax": 1863,
          "ymin": 1184
         }
        ],
        "image": {
         "depth": 3,
         "height": 2112,
         "path": "/home/adrian/development/machine-learning/dataset/IMG_20200219_210852.jpg",
         "width": 4608
        }
       },
       {
        "bounding_boxes": [
         {
          "label": "king_of_spades",
          "xmax": 2175,
          "xmin": 1284,
          "ymax": 919,
          "ymin": 1
         },
         {
          "label": "joker",
          "xmax": 3143,
          "xmin": 2231,
          "ymax": 1101,
          "ymin": 204
         },
         {
          "label": "queen_of_diamons",
          "xmax": 3639,
          "xmin": 2896,
          "ymax": 1293,
          "ymin": 598
         },
         {
          "label": "7_of_diamons",
          "xmax": 1736,
          "xmin": 702,
          "ymax": 1875,
          "ymin": 1102
         },
         {
          "label": "10_of_spades",
          "xmax": 2528,
          "xmin": 1746,
          "ymax": 1974,
          "ymin": 1352
         },
         {
          "label": "5_of_clubs",
          "xmax": 3106,
          "xmin": 2507,
          "ymax": 2068,
          "ymin": 1498
         }
        ],
        "image": {
         "depth": 3,
         "height": 2112,
         "path": "/home/adrian/development/machine-learning/tensorflow1/dataset/IMG_20200223_175856.jpg",
         "width": 4608
        }
       },
       {
        "bounding_boxes": [
         {
          "label": "10_of_diamons",
          "xmax": 3230,
          "xmin": 1417,
          "ymax": 1857,
          "ymin": 286
         }
        ],
        "image": {
         "depth": 3,
         "height": 2112,
         "path": "/home/adrian/development/machine-learning/dataset/IMG_20200219_205919.jpg",
         "width": 4608
        }
       },
       {
        "bounding_boxes": [
         {
          "label": "6_of_hearts",
          "xmax": 3324,
          "xmin": 1649,
          "ymax": 1867,
          "ymin": 107
         }
        ],
        "image": {
         "depth": 3,
         "height": 2112,
         "path": "/home/adrian/development/machine-learning/dataset/IMG_20200219_204709.jpg",
         "width": 4608
        }
       },
       {
        "bounding_boxes": [
         {
          "label": "10_of_spades",
          "xmax": 3521,
          "xmin": 1766,
          "ymax": 2062,
          "ymin": 269
         }
        ],
        "image": {
         "depth": 3,
         "height": 2112,
         "path": "/home/adrian/development/machine-learning/dataset/IMG_20200219_204821.jpg",
         "width": 4608
        }
       },
       {
        "bounding_boxes": [
         {
          "label": "jack_of_hearts",
          "xmax": 2028,
          "xmin": 1469,
          "ymax": 543,
          "ymin": 87
         },
         {
          "label": "5_of_spades",
          "xmax": 2875,
          "xmin": 2263,
          "ymax": 451,
          "ymin": 25
         },
         {
          "label": "8_of_hearts",
          "xmax": 3037,
          "xmin": 2366,
          "ymax": 1133,
          "ymin": 619
         },
         {
          "label": "2_of_hearts",
          "xmax": 3210,
          "xmin": 2524,
          "ymax": 1749,
          "ymin": 1265
         },
         {
          "label": "jack_of_diamons",
          "xmax": 2063,
          "xmin": 1411,
          "ymax": 1954,
          "ymin": 1259
         },
         {
          "label": "6_of_hearts",
          "xmax": 2099,
          "xmin": 1355,
          "ymax": 1128,
          "ymin": 621
         }
        ],
        "image": {
         "depth": 3,
         "height": 2112,
         "path": "/home/adrian/development/machine-learning/tensorflow1/dataset/IMG_20200223_175636.jpg",
         "width": 4608
        }
       },
       {
        "bounding_boxes": [
         {
          "label": "8_of_hearts",
          "xmax": 3312,
          "xmin": 1573,
          "ymax": 1642,
          "ymin": 148
         }
        ],
        "image": {
         "depth": 3,
         "height": 2112,
         "path": "/home/adrian/development/machine-learning/dataset/IMG_20200219_204706.jpg",
         "width": 4608
        }
       },
       {
        "bounding_boxes": [
         {
          "label": "king_of_hearts",
          "xmax": 3467,
          "xmin": 1584,
          "ymax": 1909,
          "ymin": 374
         }
        ],
        "image": {
         "depth": 3,
         "height": 2112,
         "path": "/home/adrian/development/machine-learning/dataset/IMG_20200219_205600.jpg",
         "width": 4608
        }
       },
       {
        "bounding_boxes": [
         {
          "label": "9_of_hearts",
          "xmax": 1914,
          "xmin": 1377,
          "ymax": 439,
          "ymin": 87
         },
         {
          "label": "3_of_spades",
          "xmax": 2245,
          "xmin": 1637,
          "ymax": 859,
          "ymin": 489
         },
         {
          "label": "4_of_spades",
          "xmax": 2755,
          "xmin": 2058,
          "ymax": 1440,
          "ymin": 889
         },
         {
          "label": "king_of_clubs",
          "xmax": 1161,
          "xmin": 581,
          "ymax": 745,
          "ymin": 343
         },
         {
          "label": "10_of_diamons",
          "xmax": 1455,
          "xmin": 831,
          "ymax": 1325,
          "ymin": 813
         },
         {
          "label": "queen_of_clubs",
          "xmax": 2211,
          "xmin": 1422,
          "ymax": 2002,
          "ymin": 1336
         }
        ],
        "image": {
         "depth": 3,
         "height": 2112,
         "path": "/home/adrian/development/machine-learning/tensorflow1/dataset/IMG_20200223_173058.jpg",
         "width": 4608
        }
       },
       {
        "bounding_boxes": [
         {
          "label": "ace_of_clubs",
          "xmax": 2560,
          "xmin": 1980,
          "ymax": 551,
          "ymin": 28
         },
         {
          "label": "ace_of_spades",
          "xmax": 2577,
          "xmin": 2016,
          "ymax": 1199,
          "ymin": 727
         },
         {
          "label": "5_of_spades",
          "xmax": 2548,
          "xmin": 1983,
          "ymax": 1936,
          "ymin": 1428
         }
        ],
        "image": {
         "depth": 3,
         "height": 2112,
         "path": "/home/adrian/development/machine-learning/tensorflow1/dataset/IMG_20200223_154126.jpg",
         "width": 4608
        }
       },
       {
        "bounding_boxes": [
         {
          "label": "7_of_diamons",
          "xmax": 2443,
          "xmin": 1490,
          "ymax": 1037,
          "ymin": 1
         },
         {
          "label": "king_of_spades",
          "xmax": 3124,
          "xmin": 2213,
          "ymax": 1299,
          "ymin": 463
         },
         {
          "label": "queen_of_spades",
          "xmax": 3407,
          "xmin": 2775,
          "ymax": 1548,
          "ymin": 922
         },
         {
          "label": "7_of_hearts",
          "xmax": 2724,
          "xmin": 2210,
          "ymax": 1977,
          "ymin": 1392
         },
         {
          "label": "3_of_hearts",
          "xmax": 2207,
          "xmin": 1446,
          "ymax": 1912,
          "ymin": 1293
         },
         {
          "label": "10_of_spades",
          "xmax": 1852,
          "xmin": 602,
          "ymax": 1541,
          "ymin": 660
         }
        ],
        "image": {
         "depth": 3,
         "height": 2112,
         "path": "/home/adrian/development/machine-learning/tensorflow1/dataset/IMG_20200223_163947.jpg",
         "width": 4608
        }
       },
       {
        "bounding_boxes": [
         {
          "label": "7_of_diamons",
          "xmax": 3401,
          "xmin": 1867,
          "ymax": 1695,
          "ymin": 543
         }
        ],
        "image": {
         "depth": 3,
         "height": 2112,
         "path": "/home/adrian/development/machine-learning/dataset/IMG_20200219_233632.jpg",
         "width": 4608
        }
       },
       {
        "bounding_boxes": [
         {
          "label": "2_of_spades",
          "xmax": 1484,
          "xmin": 437,
          "ymax": 1015,
          "ymin": 178
         },
         {
          "label": "8_of_spades",
          "xmax": 2358,
          "xmin": 1492,
          "ymax": 904,
          "ymin": 25
         },
         {
          "label": "queen_of_diamons",
          "xmax": 3199,
          "xmin": 2384,
          "ymax": 696,
          "ymin": 65
         },
         {
          "label": "ace_of_hearts",
          "xmax": 4160,
          "xmin": 3377,
          "ymax": 1054,
          "ymin": 248
         },
         {
          "label": "4_of_hearts",
          "xmax": 3763,
          "xmin": 2886,
          "ymax": 1828,
          "ymin": 868
         },
         {
          "label": "5_of_clubs",
          "xmax": 2840,
          "xmin": 1799,
          "ymax": 1751,
          "ymin": 809
         },
         {
          "label": "6_of_spades",
          "xmax": 1769,
          "xmin": 727,
          "ymax": 1831,
          "ymin": 1059
         }
        ],
        "image": {
         "depth": 3,
         "height": 2112,
         "path": "/home/adrian/development/machine-learning/tensorflow1/dataset/IMG_20200223_163603.jpg",
         "width": 4608
        }
       },
       {
        "bounding_boxes": [
         {
          "label": "card",
          "xmax": 3255,
          "xmin": 1521,
          "ymax": 1734,
          "ymin": 222
         }
        ],
        "image": {
         "depth": 3,
         "height": 2112,
         "path": "/home/adrian/development/machine-learning/tensorflow1/dataset/IMG_20200223_183545.jpg",
         "width": 4608
        }
       },
       {
        "bounding_boxes": [
         {
          "label": "9_of_diamons",
          "xmax": 1802,
          "xmin": 861,
          "ymax": 1269,
          "ymin": 237
         },
         {
          "label": "10_of_hearts",
          "xmax": 2911,
          "xmin": 1913,
          "ymax": 960,
          "ymin": 2
         },
         {
          "label": "7_of_spades",
          "xmax": 4205,
          "xmin": 3224,
          "ymax": 851,
          "ymin": 5
         },
         {
          "label": "4_of_clubs",
          "xmax": 4316,
          "xmin": 3384,
          "ymax": 1725,
          "ymin": 933
         },
         {
          "label": "king_of_hearts",
          "xmax": 3337,
          "xmin": 2433,
          "ymax": 1812,
          "ymin": 1010
         },
         {
          "label": "5_of_diamons",
          "xmax": 2449,
          "xmin": 1564,
          "ymax": 2112,
          "ymin": 1610
         }
        ],
        "image": {
         "depth": 3,
         "height": 2112,
         "path": "/home/adrian/development/machine-learning/tensorflow1/dataset/IMG_20200223_175726.jpg",
         "width": 4608
        }
       },
       {
        "bounding_boxes": [
         {
          "label": "4_of_clubs",
          "xmax": 3424,
          "xmin": 1077,
          "ymax": 2049,
          "ymin": 59
         }
        ],
        "image": {
         "depth": 3,
         "height": 2112,
         "path": "/home/adrian/development/machine-learning/dataset/IMG_20200219_210242.jpg",
         "width": 4608
        }
       },
       {
        "bounding_boxes": [
         {
          "label": "black_joker",
          "xmax": 2934,
          "xmin": 1634,
          "ymax": 1760,
          "ymin": 810
         }
        ],
        "image": {
         "depth": 3,
         "height": 2112,
         "path": "/home/adrian/development/machine-learning/tensorflow1/dataset/IMG_20200223_172506.jpg",
         "width": 4608
        }
       },
       {
        "bounding_boxes": [
         {
          "label": "6_of_clubs",
          "xmax": 2671,
          "xmin": 1692,
          "ymax": 636,
          "ymin": 1
         },
         {
          "label": "queen_of_hearts",
          "xmax": 3486,
          "xmin": 2587,
          "ymax": 1113,
          "ymin": 445
         },
         {
          "label": "2_of_clubs",
          "xmax": 4071,
          "xmin": 3258,
          "ymax": 1668,
          "ymin": 898
         },
         {
          "label": "2_of_diamons",
          "xmax": 3291,
          "xmin": 2496,
          "ymax": 2112,
          "ymin": 1548
         },
         {
          "label": "8_of_spades",
          "xmax": 2564,
          "xmin": 1705,
          "ymax": 1933,
          "ymin": 1252
         },
         {
          "label": "5_of_hearts",
          "xmax": 1934,
          "xmin": 999,
          "ymax": 1563,
          "ymin": 672
         }
        ],
        "image": {
         "depth": 3,
         "height": 2112,
         "path": "/home/adrian/development/machine-learning/tensorflow1/dataset/IMG_20200223_175847.jpg",
         "width": 4608
        }
       },
       {
        "bounding_boxes": [
         {
          "label": "joker",
          "xmax": 3514,
          "xmin": 1814,
          "ymax": 1713,
          "ymin": 204
         },
         {
          "label": "7_of_diamons",
          "xmax": 705,
          "xmin": 2,
          "ymax": 2034,
          "ymin": 640
         },
         {
          "label": "8_of_spades",
          "xmax": 690,
          "xmin": 4,
          "ymax": 2112,
          "ymin": 952
         }
        ],
        "image": {
         "depth": 3,
         "height": 2112,
         "path": "/home/adrian/development/machine-learning/dataset/IMG_20200219_233651.jpg",
         "width": 4608
        }
       },
       {
        "bounding_boxes": [
         {
          "label": "4_of_hearts",
          "xmax": 2305,
          "xmin": 1413,
          "ymax": 1025,
          "ymin": 349
         },
         {
          "label": "ace_of_hearts",
          "xmax": 2428,
          "xmin": 1528,
          "ymax": 2090,
          "ymin": 1101
         },
         {
          "label": "3_of_hearts",
          "xmax": 3374,
          "xmin": 2511,
          "ymax": 1895,
          "ymin": 990
         },
         {
          "label": "queen_of_spades",
          "xmax": 3464,
          "xmin": 2746,
          "ymax": 1092,
          "ymin": 378
         }
        ],
        "image": {
         "depth": 3,
         "height": 2112,
         "path": "/home/adrian/development/machine-learning/tensorflow1/dataset/IMG_20200223_180031.jpg",
         "width": 4608
        }
       },
       {
        "bounding_boxes": [
         {
          "label": "9_of_diamons",
          "xmax": 1016,
          "xmin": 166,
          "ymax": 1046,
          "ymin": 155
         },
         {
          "label": "10_of_diamons",
          "xmax": 1811,
          "xmin": 1136,
          "ymax": 1007,
          "ymin": 181
         },
         {
          "label": "queen_of_diamons",
          "xmax": 2448,
          "xmin": 1796,
          "ymax": 916,
          "ymin": 134
         },
         {
          "label": "8_of_diamons",
          "xmax": 1115,
          "xmin": 278,
          "ymax": 2112,
          "ymin": 1212
         },
         {
          "label": "jack_of_diamons",
          "xmax": 1754,
          "xmin": 1111,
          "ymax": 1918,
          "ymin": 1080
         },
         {
          "label": "king_of_diamons",
          "xmax": 2405,
          "xmin": 1808,
          "ymax": 1781,
          "ymin": 957
         },
         {
          "label": "black_joker",
          "xmax": 3006,
          "xmin": 2458,
          "ymax": 1833,
          "ymin": 1040
         }
        ],
        "image": {
         "depth": 3,
         "height": 2112,
         "path": "/home/adrian/development/machine-learning/tensorflow1/dataset/IMG_20200219_205544.jpg",
         "width": 4608
        }
       },
       {
        "bounding_boxes": [
         {
          "label": "6_of_spades",
          "xmax": 1878,
          "xmin": 1269,
          "ymax": 719,
          "ymin": 5
         },
         {
          "label": "9_of_spades",
          "xmax": 3039,
          "xmin": 2090,
          "ymax": 746,
          "ymin": 7
         },
         {
          "label": "king_of_diamons",
          "xmax": 4090,
          "xmin": 3163,
          "ymax": 834,
          "ymin": 292
         },
         {
          "label": "ace_of_clubs",
          "xmax": 3821,
          "xmin": 3114,
          "ymax": 2075,
          "ymin": 1118
         },
         {
          "label": "2_of_spades",
          "xmax": 2702,
          "xmin": 1581,
          "ymax": 2112,
          "ymin": 1143
         },
         {
          "label": "ace_of_spades",
          "xmax": 1517,
          "xmin": 492,
          "ymax": 2015,
          "ymin": 962
         }
        ],
        "image": {
         "depth": 3,
         "height": 2112,
         "path": "/home/adrian/development/machine-learning/tensorflow1/dataset/IMG_20200223_175701.jpg",
         "width": 4608
        }
       },
       {
        "bounding_boxes": [
         {
          "label": "ace_of_diamons",
          "xmax": 3354,
          "xmin": 1428,
          "ymax": 1740,
          "ymin": 149
         }
        ],
        "image": {
         "depth": 3,
         "height": 2112,
         "path": "/home/adrian/development/machine-learning/dataset/IMG_20200219_205753.jpg",
         "width": 4608
        }
       },
       {
        "bounding_boxes": [
         {
          "label": "4_of_spades",
          "xmax": 3343,
          "xmin": 1266,
          "ymax": 1713,
          "ymin": 30
         }
        ],
        "image": {
         "depth": 3,
         "height": 2112,
         "path": "/home/adrian/development/machine-learning/dataset/IMG_20200219_205326.jpg",
         "width": 4608
        }
       },
       {
        "bounding_boxes": [
         {
          "label": "jack_of_diamons",
          "xmax": 3654,
          "xmin": 1630,
          "ymax": 2009,
          "ymin": 269
         }
        ],
        "image": {
         "depth": 3,
         "height": 2112,
         "path": "/home/adrian/development/machine-learning/dataset/IMG_20200219_205859.jpg",
         "width": 4608
        }
       },
       {
        "bounding_boxes": [
         {
          "label": "10_of_clubs",
          "xmax": 1495,
          "xmin": 624,
          "ymax": 551,
          "ymin": 2
         },
         {
          "label": "7_of_hearts",
          "xmax": 2733,
          "xmin": 1963,
          "ymax": 557,
          "ymin": 110
         },
         {
          "label": "4_of_diamons",
          "xmax": 3737,
          "xmin": 3093,
          "ymax": 701,
          "ymin": 86
         },
         {
          "label": "3_of_diamons",
          "xmax": 4093,
          "xmin": 3167,
          "ymax": 1763,
          "ymin": 912
         },
         {
          "label": "9_of_clubs",
          "xmax": 2618,
          "xmin": 1976,
          "ymax": 1871,
          "ymin": 1049
         },
         {
          "label": "ace_of_diamons",
          "xmax": 1574,
          "xmin": 704,
          "ymax": 1892,
          "ymin": 1016
         }
        ],
        "image": {
         "depth": 3,
         "height": 2112,
         "path": "/home/adrian/development/machine-learning/tensorflow1/dataset/IMG_20200223_175735.jpg",
         "width": 4608
        }
       },
       {
        "bounding_boxes": [
         {
          "label": "5_of_diamons",
          "xmax": 3219,
          "xmin": 1596,
          "ymax": 1871,
          "ymin": 280
         }
        ],
        "image": {
         "depth": 3,
         "height": 2112,
         "path": "/home/adrian/development/machine-learning/dataset/IMG_20200219_233439.jpg",
         "width": 4608
        }
       },
       {
        "bounding_boxes": [
         {
          "label": "6_of_spades",
          "xmax": 3240,
          "xmin": 1284,
          "ymax": 1869,
          "ymin": 133
         }
        ],
        "image": {
         "depth": 3,
         "height": 2112,
         "path": "/home/adrian/development/machine-learning/dataset/IMG_20200219_210458.jpg",
         "width": 4608
        }
       },
       {
        "bounding_boxes": [
         {
          "label": "queen_of_clubs",
          "xmax": 3107,
          "xmin": 1102,
          "ymax": 1769,
          "ymin": 322
         }
        ],
        "image": {
         "depth": 3,
         "height": 2112,
         "path": "/home/adrian/development/machine-learning/dataset/IMG_20200219_210258.jpg",
         "width": 4608
        }
       },
       {
        "bounding_boxes": [
         {
          "label": "7_of_clubs",
          "xmax": 3266,
          "xmin": 1492,
          "ymax": 1540,
          "ymin": 93
         }
        ],
        "image": {
         "depth": 3,
         "height": 2112,
         "path": "/home/adrian/development/machine-learning/dataset/IMG_20200219_205634.jpg",
         "width": 4608
        }
       },
       {
        "bounding_boxes": [
         {
          "label": "9_of_diamons",
          "xmax": 2140,
          "xmin": 1186,
          "ymax": 959,
          "ymin": 2
         },
         {
          "label": "10_of_hearts",
          "xmax": 3113,
          "xmin": 2155,
          "ymax": 1074,
          "ymin": 162
         },
         {
          "label": "7_of_spades",
          "xmax": 3713,
          "xmin": 3190,
          "ymax": 1354,
          "ymin": 642
         },
         {
          "label": "4_of_clubs",
          "xmax": 3354,
          "xmin": 2743,
          "ymax": 2024,
          "ymin": 1496
         },
         {
          "label": "king_of_hearts",
          "xmax": 2799,
          "xmin": 2007,
          "ymax": 1924,
          "ymin": 1268
         },
         {
          "label": "5_of_diamons",
          "xmax": 1860,
          "xmin": 937,
          "ymax": 2112,
          "ymin": 1439
         }
        ],
        "image": {
         "depth": 3,
         "height": 2112,
         "path": "/home/adrian/development/machine-learning/tensorflow1/dataset/IMG_20200223_175725.jpg",
         "width": 4608
        }
       },
       {
        "bounding_boxes": [
         {
          "label": "3_of_clubs",
          "xmax": 3090,
          "xmin": 796,
          "ymax": 1965,
          "ymin": 12
         }
        ],
        "image": {
         "depth": 3,
         "height": 2112,
         "path": "/home/adrian/development/machine-learning/dataset/IMG_20200219_210239.jpg",
         "width": 4608
        }
       },
       {
        "bounding_boxes": [
         {
          "label": "9_of_clubs",
          "xmax": 3383,
          "xmin": 1930,
          "ymax": 1643,
          "ymin": 601
         }
        ],
        "image": {
         "depth": 3,
         "height": 2112,
         "path": "/home/adrian/development/machine-learning/dataset/IMG_20200219_233420.jpg",
         "width": 4608
        }
       },
       {
        "bounding_boxes": [
         {
          "label": "king_of_hearts",
          "xmax": 1707,
          "xmin": 952,
          "ymax": 965,
          "ymin": 313
         },
         {
          "label": "10_of_hearts",
          "xmax": 1433,
          "xmin": 622,
          "ymax": 1924,
          "ymin": 1115
         },
         {
          "label": "jack_of_hearts",
          "xmax": 2461,
          "xmin": 1604,
          "ymax": 2021,
          "ymin": 1302
         },
         {
          "label": "queen_of_hearts",
          "xmax": 3636,
          "xmin": 2652,
          "ymax": 2028,
          "ymin": 1215
         },
         {
          "label": "ace_of_clubs",
          "xmax": 2692,
          "xmin": 1807,
          "ymax": 1128,
          "ymin": 375
         },
         {
          "label": "2_of_clubs",
          "xmax": 3664,
          "xmin": 2658,
          "ymax": 945,
          "ymin": 37
         }
        ],
        "image": {
         "depth": 3,
         "height": 2112,
         "path": "/home/adrian/development/machine-learning/dataset/IMG_20200219_205518.jpg",
         "width": 4608
        }
       },
       {
        "bounding_boxes": [
         {
          "label": "10_of_hearts",
          "xmax": 3639,
          "xmin": 1110,
          "ymax": 1968,
          "ymin": 4
         }
        ],
        "image": {
         "depth": 3,
         "height": 2112,
         "path": "/home/adrian/development/machine-learning/dataset/IMG_20200219_210245.jpg",
         "width": 4608
        }
       },
       {
        "bounding_boxes": [
         {
          "label": "8_of_spades",
          "xmax": 3608,
          "xmin": 1346,
          "ymax": 2112,
          "ymin": 184
         }
        ],
        "image": {
         "depth": 3,
         "height": 2112,
         "path": "/home/adrian/development/machine-learning/dataset/IMG_20200219_210536.jpg",
         "width": 4608
        }
       },
       {
        "bounding_boxes": [
         {
          "label": "ace_of_clubs",
          "xmax": 3407,
          "xmin": 1616,
          "ymax": 1975,
          "ymin": 490
         }
        ],
        "image": {
         "depth": 3,
         "height": 2112,
         "path": "/home/adrian/development/machine-learning/dataset/IMG_20200219_233547.jpg",
         "width": 4608
        }
       },
       {
        "bounding_boxes": [
         {
          "label": "7_of_spades",
          "xmax": 3233,
          "xmin": 1431,
          "ymax": 1812,
          "ymin": 195
         }
        ],
        "image": {
         "depth": 3,
         "height": 2112,
         "path": "/home/adrian/development/machine-learning/dataset/IMG_20200219_233718.jpg",
         "width": 4608
        }
       },
       {
        "bounding_boxes": [
         {
          "label": "9_of_spades",
          "xmax": 3334,
          "xmin": 2104,
          "ymax": 1559,
          "ymin": 662
         }
        ],
        "image": {
         "depth": 3,
         "height": 2112,
         "path": "/home/adrian/development/machine-learning/dataset/IMG_20200219_233412.jpg",
         "width": 4608
        }
       },
       {
        "bounding_boxes": [
         {
          "label": "ace_of_hearts",
          "xmax": 3330,
          "xmin": 1630,
          "ymax": 1933,
          "ymin": 248
         }
        ],
        "image": {
         "depth": 3,
         "height": 2112,
         "path": "/home/adrian/development/machine-learning/dataset/IMG_20200219_204813.jpg",
         "width": 4608
        }
       },
       {
        "bounding_boxes": [
         {
          "label": "king_of_spades",
          "xmax": 1920,
          "xmin": 930,
          "ymax": 927,
          "ymin": 243
         },
         {
          "label": "ace_of_hearts",
          "xmax": 3310,
          "xmin": 2335,
          "ymax": 837,
          "ymin": 135
         },
         {
          "label": "jack_of_spades",
          "xmax": 2208,
          "xmin": 1196,
          "ymax": 1865,
          "ymin": 1171
         },
         {
          "label": "queen_of_spades",
          "xmax": 3554,
          "xmin": 2493,
          "ymax": 1893,
          "ymin": 895
         }
        ],
        "image": {
         "depth": 3,
         "height": 2112,
         "path": "/home/adrian/development/machine-learning/tensorflow1/dataset/IMG_20200219_204606.jpg",
         "width": 4608
        }
       },
       {
        "bounding_boxes": [
         {
          "label": "king_of_clubs",
          "xmax": 1651,
          "xmin": 771,
          "ymax": 810,
          "ymin": 1
         },
         {
          "label": "6_of_clubs",
          "xmax": 2949,
          "xmin": 2167,
          "ymax": 652,
          "ymin": 77
         },
         {
          "label": "6_of_diamons",
          "xmax": 4267,
          "xmin": 3424,
          "ymax": 674,
          "ymin": 9
         },
         {
          "label": "jack_of_clubs",
          "xmax": 1446,
          "xmin": 819,
          "ymax": 2112,
          "ymin": 1269
         },
         {
          "label": "ace_of_diamons",
          "xmax": 3013,
          "xmin": 2133,
          "ymax": 1966,
          "ymin": 1275
         },
         {
          "label": "7_of_diamons",
          "xmax": 4546,
          "xmin": 3621,
          "ymax": 1913,
          "ymin": 978
         }
        ],
        "image": {
         "depth": 3,
         "height": 2112,
         "path": "/home/adrian/development/machine-learning/dataset/IMG_20200219_210557.jpg",
         "width": 4608
        }
       },
       {
        "bounding_boxes": [
         {
          "label": "jack_of_spades",
          "xmax": 3443,
          "xmin": 1154,
          "ymax": 2090,
          "ymin": 148
         }
        ],
        "image": {
         "depth": 3,
         "height": 2112,
         "path": "/home/adrian/development/machine-learning/tensorflow1/dataset/IMG_20200223_163928.jpg",
         "width": 4608
        }
       },
       {
        "bounding_boxes": [
         {
          "label": "6_of_hearts",
          "xmax": 3151,
          "xmin": 1371,
          "ymax": 1960,
          "ymin": 372
         }
        ],
        "image": {
         "depth": 3,
         "height": 2112,
         "path": "/home/adrian/development/machine-learning/dataset/IMG_20200219_233711.jpg",
         "width": 4608
        }
       },
       {
        "bounding_boxes": [
         {
          "label": "8_of_clubs",
          "xmax": 2117,
          "xmin": 1227,
          "ymax": 709,
          "ymin": 255
         },
         {
          "label": "7_of_clubs",
          "xmax": 3155,
          "xmin": 2472,
          "ymax": 898,
          "ymin": 430
         },
         {
          "label": "3_of_clubs",
          "xmax": 4277,
          "xmin": 3455,
          "ymax": 995,
          "ymin": 522
         },
         {
          "label": "jack_of_clubs",
          "xmax": 1305,
          "xmin": 172,
          "ymax": 1862,
          "ymin": 951
         },
         {
          "label": "6_of_diamons",
          "xmax": 2663,
          "xmin": 1672,
          "ymax": 1581,
          "ymin": 1016
         },
         {
          "label": "8_of_clubs",
          "xmax": 4202,
          "xmin": 3267,
          "ymax": 1746,
          "ymin": 1083
         }
        ],
        "image": {
         "depth": 3,
         "height": 2112,
         "path": "/home/adrian/development/machine-learning/tensorflow1/dataset/IMG_20200223_173200.jpg",
         "width": 4608
        }
       },
       {
        "bounding_boxes": [
         {
          "label": "king_of_diamons",
          "xmax": 3249,
          "xmin": 1030,
          "ymax": 1772,
          "ymin": 95
         }
        ],
        "image": {
         "depth": 3,
         "height": 2112,
         "path": "/home/adrian/development/machine-learning/dataset/IMG_20200219_210448.jpg",
         "width": 4608
        }
       },
       {
        "bounding_boxes": [
         {
          "label": "5_of_clubs",
          "xmax": 3107,
          "xmin": 1281,
          "ymax": 1921,
          "ymin": 392
         }
        ],
        "image": {
         "depth": 3,
         "height": 2112,
         "path": "/home/adrian/development/machine-learning/dataset/IMG_20200219_205613.jpg",
         "width": 4608
        }
       },
       {
        "bounding_boxes": [
         {
          "label": "9_of_clubs",
          "xmax": 2796,
          "xmin": 1581,
          "ymax": 1875,
          "ymin": 183
         },
         {
          "label": "queen_of_clubs",
          "xmax": 4608,
          "xmin": 4192,
          "ymax": 1348,
          "ymin": 83
         }
        ],
        "image": {
         "depth": 3,
         "height": 2112,
         "path": "/home/adrian/development/machine-learning/dataset/IMG_20200219_210309.jpg",
         "width": 4608
        }
       },
       {
        "bounding_boxes": [
         {
          "label": "king_of_diamons",
          "xmax": 3214,
          "xmin": 1486,
          "ymax": 1877,
          "ymin": 398
         },
         {
          "label": "7_of_diamons",
          "xmax": 325,
          "xmin": 2,
          "ymax": 1951,
          "ymin": 1245
         }
        ],
        "image": {
         "depth": 3,
         "height": 2112,
         "path": "/home/adrian/development/machine-learning/dataset/IMG_20200219_233659.jpg",
         "width": 4608
        }
       },
       {
        "bounding_boxes": [
         {
          "label": "4_of_clubs",
          "xmax": 3567,
          "xmin": 1963,
          "ymax": 1980,
          "ymin": 402
         }
        ],
        "image": {
         "depth": 3,
         "height": 2112,
         "path": "/home/adrian/development/machine-learning/dataset/IMG_20200219_233509.jpg",
         "width": 4608
        }
       },
       {
        "bounding_boxes": [
         {
          "label": "queen_of_diamons",
          "xmax": 3405,
          "xmin": 1637,
          "ymax": 1889,
          "ymin": 378
         }
        ],
        "image": {
         "depth": 3,
         "height": 2112,
         "path": "/home/adrian/development/machine-learning/dataset/IMG_20200219_233640.jpg",
         "width": 4608
        }
       },
       {
        "bounding_boxes": [
         {
          "label": "card",
          "xmax": 3641,
          "xmin": 1416,
          "ymax": 2112,
          "ymin": 9
         }
        ],
        "image": {
         "depth": 3,
         "height": 2112,
         "path": "/home/adrian/development/machine-learning/tensorflow1/dataset/IMG_20200223_183553.jpg",
         "width": 4608
        }
       },
       {
        "bounding_boxes": [
         {
          "label": "king_of_diamons",
          "xmax": 3239,
          "xmin": 1292,
          "ymax": 1757,
          "ymin": 86
         }
        ],
        "image": {
         "depth": 3,
         "height": 2112,
         "path": "/home/adrian/development/machine-learning/dataset/IMG_20200219_205911.jpg",
         "width": 4608
        }
       },
       {
        "bounding_boxes": [
         {
          "label": "jack_of_hearts",
          "xmax": 3745,
          "xmin": 1943,
          "ymax": 1974,
          "ymin": 148
         }
        ],
        "image": {
         "depth": 3,
         "height": 2112,
         "path": "/home/adrian/development/machine-learning/dataset/IMG_20200219_205557.jpg",
         "width": 4608
        }
       },
       {
        "bounding_boxes": [
         {
          "label": "king_of_hearts",
          "xmax": 3296,
          "xmin": 1643,
          "ymax": 1754,
          "ymin": 472
         }
        ],
        "image": {
         "depth": 3,
         "height": 2112,
         "path": "/home/adrian/development/machine-learning/dataset/IMG_20200219_233550.jpg",
         "width": 4608
        }
       },
       {
        "bounding_boxes": [
         {
          "label": "ace_of_diamons",
          "xmax": 3211,
          "xmin": 1527,
          "ymax": 1821,
          "ymin": 140
         }
        ],
        "image": {
         "depth": 3,
         "height": 2112,
         "path": "/home/adrian/development/machine-learning/dataset/IMG_20200219_233435.jpg",
         "width": 4608
        }
       },
       {
        "bounding_boxes": [
         {
          "label": "8_of_hearts",
          "xmax": 3514,
          "xmin": 1719,
          "ymax": 1727,
          "ymin": 259
         }
        ],
        "image": {
         "depth": 3,
         "height": 2112,
         "path": "/home/adrian/development/machine-learning/dataset/IMG_20200219_233554.jpg",
         "width": 4608
        }
       },
       {
        "bounding_boxes": [
         {
          "label": "2_of_spades",
          "xmax": 437,
          "xmin": 1,
          "ymax": 652,
          "ymin": 40
         },
         {
          "label": "4_of_spades",
          "xmax": 1295,
          "xmin": 730,
          "ymax": 698,
          "ymin": 65
         },
         {
          "label": "joker",
          "xmax": 2499,
          "xmin": 1802,
          "ymax": 692,
          "ymin": 33
         },
         {
          "label": "8_of_spades",
          "xmax": 3698,
          "xmin": 2978,
          "ymax": 525,
          "ymin": 1
         },
         {
          "label": "king_of_diamons",
          "xmax": 1039,
          "xmin": 166,
          "ymax": 2045,
          "ymin": 1163
         },
         {
          "label": "queen_of_diamons",
          "xmax": 2416,
          "xmin": 1566,
          "ymax": 2112,
          "ymin": 1236
         },
         {
          "label": "jack_of_diamons",
          "xmax": 3714,
          "xmin": 3124,
          "ymax": 2024,
          "ymin": 1237
         }
        ],
        "image": {
         "depth": 3,
         "height": 2112,
         "path": "/home/adrian/development/machine-learning/dataset/IMG_20200219_210644.jpg",
         "width": 4608
        }
       },
       {
        "bounding_boxes": [
         {
          "label": "2_of_diamons",
          "xmax": 3201,
          "xmin": 1722,
          "ymax": 1612,
          "ymin": 499
         }
        ],
        "image": {
         "depth": 3,
         "height": 2112,
         "path": "/home/adrian/development/machine-learning/dataset/IMG_20200219_233425.jpg",
         "width": 4608
        }
       },
       {
        "bounding_boxes": [
         {
          "label": "7_of_spades",
          "xmax": 3417,
          "xmin": 1390,
          "ymax": 1840,
          "ymin": 318
         }
        ],
        "image": {
         "depth": 3,
         "height": 2112,
         "path": "/home/adrian/development/machine-learning/dataset/IMG_20200219_210837.jpg",
         "width": 4608
        }
       },
       {
        "bounding_boxes": [
         {
          "label": "3_of_spades",
          "xmax": 3563,
          "xmin": 1819,
          "ymax": 1924,
          "ymin": 333
         }
        ],
        "image": {
         "depth": 3,
         "height": 2112,
         "path": "/home/adrian/development/machine-learning/dataset/IMG_20200219_233453.jpg",
         "width": 4608
        }
       },
       {
        "bounding_boxes": [
         {
          "label": "6_of_spades",
          "xmax": 3167,
          "xmin": 1554,
          "ymax": 1499,
          "ymin": 172
         },
         {
          "label": "10_of_spades",
          "xmax": 704,
          "xmin": 1,
          "ymax": 604,
          "ymin": 4
         }
        ],
        "image": {
         "depth": 3,
         "height": 2112,
         "path": "/home/adrian/development/machine-learning/dataset/IMG_20200219_204826.jpg",
         "width": 4608
        }
       },
       {
        "bounding_boxes": [
         {
          "label": "king_of_hearts",
          "xmax": 2474,
          "xmin": 855,
          "ymax": 2093,
          "ymin": 93
         }
        ],
        "image": {
         "depth": 3,
         "height": 2112,
         "path": "/home/adrian/development/machine-learning/dataset/IMG_20200219_210338.jpg",
         "width": 4608
        }
       },
       {
        "bounding_boxes": [
         {
          "label": "jack_of_diamons",
          "xmax": 3486,
          "xmin": 1660,
          "ymax": 1928,
          "ymin": 263
         }
        ],
        "image": {
         "depth": 3,
         "height": 2112,
         "path": "/home/adrian/development/machine-learning/dataset/IMG_20200219_233636.jpg",
         "width": 4608
        }
       },
       {
        "bounding_boxes": [
         {
          "label": "4_of_hearts",
          "xmax": 2343,
          "xmin": 1440,
          "ymax": 1107,
          "ymin": 527
         },
         {
          "label": "ace_of_hearts",
          "xmax": 2121,
          "xmin": 1221,
          "ymax": 1871,
          "ymin": 1242
         },
         {
          "label": "3_of_hearts",
          "xmax": 2777,
          "xmin": 2242,
          "ymax": 1919,
          "ymin": 1339
         },
         {
          "label": "queen_of_spades",
          "xmax": 3439,
          "xmin": 2781,
          "ymax": 1522,
          "ymin": 857
         }
        ],
        "image": {
         "depth": 3,
         "height": 2112,
         "path": "/home/adrian/development/machine-learning/tensorflow1/dataset/IMG_20200223_180037.jpg",
         "width": 4608
        }
       },
       {
        "bounding_boxes": [
         {
          "label": "7_of_hearts",
          "xmax": 3126,
          "xmin": 1814,
          "ymax": 1471,
          "ymin": 385
         },
         {
          "label": "4_of_hearts",
          "xmax": 4608,
          "xmin": 4094,
          "ymax": 713,
          "ymin": 1
         },
         {
          "label": "king_of_spades",
          "xmax": 3535,
          "xmin": 2191,
          "ymax": 2112,
          "ymin": 1603
         }
        ],
        "image": {
         "depth": 3,
         "height": 2112,
         "path": "/home/adrian/development/machine-learning/dataset/IMG_20200219_204730.jpg",
         "width": 4608
        }
       },
       {
        "bounding_boxes": [
         {
          "label": "card",
          "xmax": 3354,
          "xmin": 1960,
          "ymax": 1889,
          "ymin": 122
         }
        ],
        "image": {
         "depth": 3,
         "height": 2112,
         "path": "/home/adrian/development/machine-learning/dataset/IMG_20200219_233748.jpg",
         "width": 4608
        }
       },
       {
        "bounding_boxes": [
         {
          "label": "10_of_diamons",
          "xmax": 3386,
          "xmin": 1490,
          "ymax": 1759,
          "ymin": 119
         },
         {
          "label": "2_of_spades",
          "xmax": 688,
          "xmin": 4,
          "ymax": 1116,
          "ymin": 1
         }
        ],
        "image": {
         "depth": 3,
         "height": 2112,
         "path": "/home/adrian/development/machine-learning/dataset/IMG_20200219_210454.jpg",
         "width": 4608
        }
       },
       {
        "bounding_boxes": [
         {
          "label": "ace_of_diamons",
          "xmax": 663,
          "xmin": 4,
          "ymax": 843,
          "ymin": 175
         },
         {
          "label": "9_of_clubs",
          "xmax": 1661,
          "xmin": 1048,
          "ymax": 1005,
          "ymin": 207
         },
         {
          "label": "10_of_clubs",
          "xmax": 2945,
          "xmin": 2172,
          "ymax": 1128,
          "ymin": 307
         },
         {
          "label": "2_of_diamons",
          "xmax": 4427,
          "xmin": 3443,
          "ymax": 1115,
          "ymin": 227
         },
         {
          "label": "9_of_diamons",
          "xmax": 1149,
          "xmin": 514,
          "ymax": 1836,
          "ymin": 1283
         },
         {
          "label": "3_of_diamons",
          "xmax": 1851,
          "xmin": 1278,
          "ymax": 1946,
          "ymin": 1357
         },
         {
          "label": "4_of_diamons",
          "xmax": 2874,
          "xmin": 2227,
          "ymax": 1955,
          "ymin": 1363
         },
         {
          "label": "jack_of_hearts",
          "xmax": 3984,
          "xmin": 3151,
          "ymax": 2019,
          "ymin": 1362
         }
        ],
        "image": {
         "depth": 3,
         "height": 2112,
         "path": "/home/adrian/development/machine-learning/tensorflow1/dataset/IMG_20200223_155905.jpg",
         "width": 4608
        }
       },
       {
        "bounding_boxes": [
         {
          "label": "5_of_spades",
          "xmax": 3567,
          "xmin": 1536,
          "ymax": 2001,
          "ymin": 213
         }
        ],
        "image": {
         "depth": 3,
         "height": 2112,
         "path": "/home/adrian/development/machine-learning/dataset/IMG_20200219_205319.jpg",
         "width": 4608
        }
       },
       {
        "bounding_boxes": [
         {
          "label": "6_of_clubs",
          "xmax": 2971,
          "xmin": 1143,
          "ymax": 1642,
          "ymin": 278
         },
         {
          "label": "king_of_clubs",
          "xmax": 4608,
          "xmin": 4096,
          "ymax": 486,
          "ymin": 4
         }
        ],
        "image": {
         "depth": 3,
         "height": 2112,
         "path": "/home/adrian/development/machine-learning/dataset/IMG_20200219_210316.jpg",
         "width": 4608
        }
       },
       {
        "bounding_boxes": [
         {
          "label": "8_of_clubs",
          "xmax": 2061,
          "xmin": 1131,
          "ymax": 977,
          "ymin": 165
         },
         {
          "label": "5_of_clubs",
          "xmax": 3151,
          "xmin": 2531,
          "ymax": 1046,
          "ymin": 293
         },
         {
          "label": "2_of_clubs",
          "xmax": 4061,
          "xmin": 3636,
          "ymax": 715,
          "ymin": 37
         },
         {
          "label": "5_of_hearts",
          "xmax": 4608,
          "xmin": 4357,
          "ymax": 822,
          "ymin": 349
         },
         {
          "label": "3_of_clubs",
          "xmax": 2181,
          "xmin": 1240,
          "ymax": 1890,
          "ymin": 1039
         },
         {
          "label": "queen_of_hearts",
          "xmax": 3228,
          "xmin": 2455,
          "ymax": 2078,
          "ymin": 1396
         },
         {
          "label": "7_of_clubs",
          "xmax": 4199,
          "xmin": 3499,
          "ymax": 1652,
          "ymin": 924
         }
        ],
        "image": {
         "depth": 3,
         "height": 2112,
         "path": "/home/adrian/development/machine-learning/dataset/IMG_20200219_210613.jpg",
         "width": 4608
        }
       },
       {
        "bounding_boxes": [
         {
          "label": "9_of_hearts",
          "xmax": 3354,
          "xmin": 1680,
          "ymax": 1866,
          "ymin": 546
         }
        ],
        "image": {
         "depth": 3,
         "height": 2112,
         "path": "/home/adrian/development/machine-learning/dataset/IMG_20200219_233541.jpg",
         "width": 4608
        }
       },
       {
        "bounding_boxes": [
         {
          "label": "king_of_spades",
          "xmax": 2090,
          "xmin": 1120,
          "ymax": 940,
          "ymin": 112
         },
         {
          "label": "ace_of_hearts",
          "xmax": 3533,
          "xmin": 2532,
          "ymax": 954,
          "ymin": 177
         },
         {
          "label": "jack_of_spades",
          "xmax": 2204,
          "xmin": 1239,
          "ymax": 1912,
          "ymin": 1126
         },
         {
          "label": "queen_of_spades",
          "xmax": 3545,
          "xmin": 2455,
          "ymax": 2063,
          "ymin": 1107
         }
        ],
        "image": {
         "depth": 3,
         "height": 2112,
         "path": "/home/adrian/development/machine-learning/dataset/IMG_20200219_204611.jpg",
         "width": 4608
        }
       },
       {
        "bounding_boxes": [
         {
          "label": "queen_of_clubs",
          "xmax": 3495,
          "xmin": 1866,
          "ymax": 1580,
          "ymin": 334
         }
        ],
        "image": {
         "depth": 3,
         "height": 2112,
         "path": "/home/adrian/development/machine-learning/dataset/IMG_20200219_233513.jpg",
         "width": 4608
        }
       },
       {
        "bounding_boxes": [
         {
          "label": "ace_of_hearts",
          "xmax": 3392,
          "xmin": 886,
          "ymax": 2036,
          "ymin": 4
         }
        ],
        "image": {
         "depth": 3,
         "height": 2112,
         "path": "/home/adrian/development/machine-learning/dataset/IMG_20200219_210828.jpg",
         "width": 4608
        }
       },
       {
        "bounding_boxes": [
         {
          "label": "2_of_hearts",
          "xmax": 3511,
          "xmin": 1689,
          "ymax": 1871,
          "ymin": 310
         }
        ],
        "image": {
         "depth": 3,
         "height": 2112,
         "path": "/home/adrian/development/machine-learning/dataset/IMG_20200219_233722.jpg",
         "width": 4608
        }
       },
       {
        "bounding_boxes": [
         {
          "label": "6_of_diamons",
          "xmax": 3367,
          "xmin": 1378,
          "ymax": 1790,
          "ymin": 72
         }
        ],
        "image": {
         "depth": 3,
         "height": 2112,
         "path": "/home/adrian/development/machine-learning/dataset/IMG_20200219_205826.jpg",
         "width": 4608
        }
       },
       {
        "bounding_boxes": [
         {
          "label": "queen_of_hearts",
          "xmax": 3675,
          "xmin": 1821,
          "ymax": 1839,
          "ymin": 209
         }
        ],
        "image": {
         "depth": 3,
         "height": 2112,
         "path": "/home/adrian/development/machine-learning/dataset/IMG_20200219_205554.jpg",
         "width": 4608
        }
       },
       {
        "bounding_boxes": [
         {
          "label": "9_of_hearts",
          "xmax": 3034,
          "xmin": 1010,
          "ymax": 1795,
          "ymin": 1
         }
        ],
        "image": {
         "depth": 3,
         "height": 2112,
         "path": "/home/adrian/development/machine-learning/dataset/IMG_20200219_210511.jpg",
         "width": 4608
        }
       },
       {
        "bounding_boxes": [
         {
          "label": "10_of_diamons",
          "xmax": 3349,
          "xmin": 1749,
          "ymax": 1766,
          "ymin": 484
         }
        ],
        "image": {
         "depth": 3,
         "height": 2112,
         "path": "/home/adrian/development/machine-learning/dataset/IMG_20200219_233446.jpg",
         "width": 4608
        }
       },
       {
        "bounding_boxes": [
         {
          "label": "jack_of_hearts",
          "xmax": 1422,
          "xmin": 686,
          "ymax": 834,
          "ymin": 157
         },
         {
          "label": "4_of_diamons",
          "xmax": 2272,
          "xmin": 1677,
          "ymax": 792,
          "ymin": 163
         },
         {
          "label": "3_of_diamons",
          "xmax": 3210,
          "xmin": 2636,
          "ymax": 752,
          "ymin": 130
         },
         {
          "label": "9_of_diamons",
          "xmax": 3919,
          "xmin": 3342,
          "ymax": 804,
          "ymin": 215
         },
         {
          "label": "2_of_diamons",
          "xmax": 1186,
          "xmin": 402,
          "ymax": 1863,
          "ymin": 1080
         },
         {
          "label": "10_of_clubs",
          "xmax": 2292,
          "xmin": 1602,
          "ymax": 1784,
          "ymin": 1027
         },
         {
          "label": "9_of_clubs",
          "xmax": 3313,
          "xmin": 2717,
          "ymax": 1859,
          "ymin": 1112
         },
         {
          "label": "ace_of_diamons",
          "xmax": 4228,
          "xmin": 3689,
          "ymax": 1869,
          "ymin": 1233
         }
        ],
        "image": {
         "depth": 3,
         "height": 2112,
         "path": "/home/adrian/development/machine-learning/tensorflow1/dataset/IMG_20200223_155836.jpg",
         "width": 4608
        }
       },
       {
        "bounding_boxes": [
         {
          "label": "7_of_diamons",
          "xmax": 1867,
          "xmin": 774,
          "ymax": 742,
          "ymin": 5
         },
         {
          "label": "king_of_spades",
          "xmax": 2705,
          "xmin": 1819,
          "ymax": 718,
          "ymin": 2
         },
         {
          "label": "queen_of_spades",
          "xmax": 3799,
          "xmin": 2721,
          "ymax": 807,
          "ymin": 4
         },
         {
          "label": "7_of_hearts",
          "xmax": 3855,
          "xmin": 2598,
          "ymax": 1754,
          "ymin": 683
         },
         {
          "label": "3_of_hearts",
          "xmax": 2637,
          "xmin": 1521,
          "ymax": 1986,
          "ymin": 822
         },
         {
          "label": "10_of_spades",
          "xmax": 1593,
          "xmin": 393,
          "ymax": 1446,
          "ymin": 715
         }
        ],
        "image": {
         "depth": 3,
         "height": 2112,
         "path": "/home/adrian/development/machine-learning/tensorflow1/dataset/IMG_20200223_163937.jpg",
         "width": 4608
        }
       },
       {
        "bounding_boxes": [
         {
          "label": "black_joker",
          "xmax": 2949,
          "xmin": 1258,
          "ymax": 1854,
          "ymin": 633
         },
         {
          "label": "10_of_hearts",
          "xmax": 4608,
          "xmin": 4251,
          "ymax": 1795,
          "ymin": 1031
         }
        ],
        "image": {
         "depth": 3,
         "height": 2112,
         "path": "/home/adrian/development/machine-learning/dataset/IMG_20200219_210318.jpg",
         "width": 4608
        }
       },
       {
        "bounding_boxes": [
         {
          "label": "card",
          "xmax": 3317,
          "xmin": 1672,
          "ymax": 1898,
          "ymin": 33
         }
        ],
        "image": {
         "depth": 3,
         "height": 2112,
         "path": "/home/adrian/development/machine-learning/dataset/IMG_20200219_233752.jpg",
         "width": 4608
        }
       },
       {
        "bounding_boxes": [
         {
          "label": "10_of_hearts",
          "xmax": 3239,
          "xmin": 1774,
          "ymax": 1736,
          "ymin": 652
         }
        ],
        "image": {
         "depth": 3,
         "height": 2112,
         "path": "/home/adrian/development/machine-learning/dataset/IMG_20200219_233502.jpg",
         "width": 4608
        }
       },
       {
        "bounding_boxes": [
         {
          "label": "4_of_diamons",
          "xmax": 2975,
          "xmin": 1613,
          "ymax": 1981,
          "ymin": 102
         }
        ],
        "image": {
         "depth": 3,
         "height": 2112,
         "path": "/home/adrian/development/machine-learning/dataset/IMG_20200219_210302.jpg",
         "width": 4608
        }
       },
       {
        "bounding_boxes": [
         {
          "label": "jack_of_hearts",
          "xmax": 1271,
          "xmin": 798,
          "ymax": 872,
          "ymin": 324
         },
         {
          "label": "4_of_diamons",
          "xmax": 1848,
          "xmin": 1458,
          "ymax": 813,
          "ymin": 221
         },
         {
          "label": "3_of_diamons",
          "xmax": 2802,
          "xmin": 2169,
          "ymax": 718,
          "ymin": 72
         },
         {
          "label": "9_of_diamons",
          "xmax": 3593,
          "xmin": 2961,
          "ymax": 740,
          "ymin": 30
         },
         {
          "label": "ace_of_diamons",
          "xmax": 3705,
          "xmin": 3125,
          "ymax": 2025,
          "ymin": 1249
         },
         {
          "label": "9_of_clubs",
          "xmax": 2696,
          "xmin": 2022,
          "ymax": 1884,
          "ymin": 1093
         },
         {
          "label": "10_of_clubs",
          "xmax": 1760,
          "xmin": 1198,
          "ymax": 1701,
          "ymin": 1022
         },
         {
          "label": "2_of_diamons",
          "xmax": 990,
          "xmin": 507,
          "ymax": 1692,
          "ymin": 1072
         }
        ],
        "image": {
         "depth": 3,
         "height": 2112,
         "path": "/home/adrian/development/machine-learning/tensorflow1/dataset/IMG_20200223_155850.jpg",
         "width": 4608
        }
       },
       {
        "bounding_boxes": [
         {
          "label": "10_of_spades",
          "xmax": 3231,
          "xmin": 1608,
          "ymax": 1763,
          "ymin": 483
         }
        ],
        "image": {
         "depth": 3,
         "height": 2112,
         "path": "/home/adrian/development/machine-learning/dataset/IMG_20200219_233732.jpg",
         "width": 4608
        }
       },
       {
        "bounding_boxes": [
         {
          "label": "3_of_diamons",
          "xmax": 3605,
          "xmin": 1508,
          "ymax": 2016,
          "ymin": 115
         }
        ],
        "image": {
         "depth": 3,
         "height": 2112,
         "path": "/home/adrian/development/machine-learning/dataset/IMG_20200219_205812.jpg",
         "width": 4608
        }
       },
       {
        "bounding_boxes": [
         {
          "label": "ace_of_clubs",
          "xmax": 1814,
          "xmin": 996,
          "ymax": 766,
          "ymin": 4
         },
         {
          "label": "ace_of_spades",
          "xmax": 2708,
          "xmin": 1757,
          "ymax": 1184,
          "ymin": 89
         },
         {
          "label": "5_of_spades",
          "xmax": 3687,
          "xmin": 2608,
          "ymax": 1748,
          "ymin": 607
         }
        ],
        "image": {
         "depth": 3,
         "height": 2112,
         "path": "/home/adrian/development/machine-learning/tensorflow1/dataset/IMG_20200223_154107.jpg",
         "width": 4608
        }
       },
       {
        "bounding_boxes": [
         {
          "label": "3_of_clubs",
          "xmax": 1010,
          "xmin": 166,
          "ymax": 801,
          "ymin": 331
         },
         {
          "label": "7_of_clubs",
          "xmax": 1990,
          "xmin": 1031,
          "ymax": 1260,
          "ymin": 596
         },
         {
          "label": "8_of_clubs",
          "xmax": 3196,
          "xmin": 2021,
          "ymax": 2087,
          "ymin": 1109
         },
         {
          "label": "8_of_diamons",
          "xmax": 2042,
          "xmin": 1290,
          "ymax": 443,
          "ymin": 21
         },
         {
          "label": "6_of_diamons",
          "xmax": 3161,
          "xmin": 2243,
          "ymax": 819,
          "ymin": 312
         },
         {
          "label": "jack_of_clubs",
          "xmax": 4333,
          "xmin": 3424,
          "ymax": 1095,
          "ymin": 513
         }
        ],
        "image": {
         "depth": 3,
         "height": 2112,
         "path": "/home/adrian/development/machine-learning/tensorflow1/dataset/IMG_20200223_173206.jpg",
         "width": 4608
        }
       },
       {
        "bounding_boxes": [
         {
          "label": "jack_of_diamons",
          "xmax": 3004,
          "xmin": 1331,
          "ymax": 1827,
          "ymin": 536
         },
         {
          "label": "8_of_diamons",
          "xmax": 401,
          "xmin": 2,
          "ymax": 2112,
          "ymin": 1683
         }
        ],
        "image": {
         "depth": 3,
         "height": 2112,
         "path": "/home/adrian/development/machine-learning/dataset/IMG_20200219_210437.jpg",
         "width": 4608
        }
       },
       {
        "bounding_boxes": [
         {
          "label": "5_of_spades",
          "xmax": 1336,
          "xmin": 680,
          "ymax": 971,
          "ymin": 265
         },
         {
          "label": "8_of_hearts",
          "xmax": 2283,
          "xmin": 1566,
          "ymax": 905,
          "ymin": 133
         },
         {
          "label": "2_of_hearts",
          "xmax": 3108,
          "xmin": 2478,
          "ymax": 795,
          "ymin": 69
         },
         {
          "label": "jack_of_diamons",
          "xmax": 3296,
          "xmin": 2345,
          "ymax": 2052,
          "ymin": 1266
         },
         {
          "label": "6_of_hearts",
          "xmax": 2201,
          "xmin": 1417,
          "ymax": 2112,
          "ymin": 1201
         },
         {
          "label": "jack_of_hearts",
          "xmax": 1333,
          "xmin": 622,
          "ymax": 1978,
          "ymin": 1246
         }
        ],
        "image": {
         "depth": 3,
         "height": 2112,
         "path": "/home/adrian/development/machine-learning/tensorflow1/dataset/IMG_20200223_175632.jpg",
         "width": 4608
        }
       },
       {
        "bounding_boxes": [
         {
          "label": "jack_of_spades",
          "xmax": 2919,
          "xmin": 1052,
          "ymax": 1792,
          "ymin": 237
         }
        ],
        "image": {
         "depth": 3,
         "height": 2112,
         "path": "/home/adrian/development/machine-learning/tensorflow1/dataset/IMG_20200223_163923.jpg",
         "width": 4608
        }
       },
       {
        "bounding_boxes": [
         {
          "label": "jack_of_clubs",
          "xmax": 3575,
          "xmin": 1890,
          "ymax": 1610,
          "ymin": 249
         }
        ],
        "image": {
         "depth": 3,
         "height": 2112,
         "path": "/home/adrian/development/machine-learning/dataset/IMG_20200219_233523.jpg",
         "width": 4608
        }
       },
       {
        "bounding_boxes": [
         {
          "label": "9_of_hearts",
          "xmax": 1596,
          "xmin": 1089,
          "ymax": 771,
          "ymin": 105
         },
         {
          "label": "3_of_spades",
          "xmax": 2551,
          "xmin": 1892,
          "ymax": 989,
          "ymin": 281
         },
         {
          "label": "4_of_spades",
          "xmax": 3561,
          "xmin": 2861,
          "ymax": 937,
          "ymin": 480
         },
         {
          "label": "queen_of_clubs",
          "xmax": 3743,
          "xmin": 2934,
          "ymax": 1921,
          "ymin": 1292
         },
         {
          "label": "10_of_diamons",
          "xmax": 2516,
          "xmin": 1749,
          "ymax": 2112,
          "ymin": 1269
         },
         {
          "label": "king_of_clubs",
          "xmax": 1405,
          "xmin": 751,
          "ymax": 1743,
          "ymin": 1209
         }
        ],
        "image": {
         "depth": 3,
         "height": 2112,
         "path": "/home/adrian/development/machine-learning/tensorflow1/dataset/IMG_20200223_173107.jpg",
         "width": 4608
        }
       },
       {
        "bounding_boxes": [
         {
          "label": "5_of_diamons",
          "xmax": 3019,
          "xmin": 989,
          "ymax": 2024,
          "ymin": 30
         },
         {
          "label": "6_of_spades",
          "xmax": 377,
          "xmin": 1,
          "ymax": 1368,
          "ymin": 269
         }
        ],
        "image": {
         "depth": 3,
         "height": 2112,
         "path": "/home/adrian/development/machine-learning/dataset/IMG_20200219_210400.jpg",
         "width": 4608
        }
       },
       {
        "bounding_boxes": [
         {
          "label": "8_of_diamons",
          "xmax": 1887,
          "xmin": 1196,
          "ymax": 581,
          "ymin": 1
         },
         {
          "label": "7_of_clubs",
          "xmax": 2602,
          "xmin": 2045,
          "ymax": 966,
          "ymin": 304
         },
         {
          "label": "3_of_clubs",
          "xmax": 3569,
          "xmin": 3016,
          "ymax": 1201,
          "ymin": 552
         },
         {
          "label": "jack_of_clubs",
          "xmax": 977,
          "xmin": 430,
          "ymax": 1440,
          "ymin": 745
         },
         {
          "label": "6_of_diamons",
          "xmax": 1917,
          "xmin": 1172,
          "ymax": 1534,
          "ymin": 909
         },
         {
          "label": "8_of_diamons",
          "xmax": 2872,
          "xmin": 2266,
          "ymax": 1943,
          "ymin": 1180
         }
        ],
        "image": {
         "depth": 3,
         "height": 2112,
         "path": "/home/adrian/development/machine-learning/tensorflow1/dataset/IMG_20200223_173150.jpg",
         "width": 4608
        }
       },
       {
        "bounding_boxes": [
         {
          "label": "9_of_diamons",
          "xmax": 3646,
          "xmin": 1702,
          "ymax": 1690,
          "ymin": 284
         }
        ],
        "image": {
         "depth": 3,
         "height": 2112,
         "path": "/home/adrian/development/machine-learning/dataset/IMG_20200219_205847.jpg",
         "width": 4608
        }
       },
       {
        "bounding_boxes": [
         {
          "label": "king_of_spades",
          "xmax": 3474,
          "xmin": 1672,
          "ymax": 1989,
          "ymin": 389
         }
        ],
        "image": {
         "depth": 3,
         "height": 2112,
         "path": "/home/adrian/development/machine-learning/dataset/IMG_20200219_233730.jpg",
         "width": 4608
        }
       },
       {
        "bounding_boxes": [
         {
          "label": "jack_of_spades",
          "xmax": 3190,
          "xmin": 1563,
          "ymax": 1558,
          "ymin": 236
         }
        ],
        "image": {
         "depth": 3,
         "height": 2112,
         "path": "/home/adrian/development/machine-learning/dataset/IMG_20200219_204739.jpg",
         "width": 4608
        }
       },
       {
        "bounding_boxes": [
         {
          "label": "king_of_spades",
          "xmax": 3492,
          "xmin": 1800,
          "ymax": 1581,
          "ymin": 160
         },
         {
          "label": "7_of_hearts",
          "xmax": 804,
          "xmin": 1,
          "ymax": 1142,
          "ymin": 1
         }
        ],
        "image": {
         "depth": 3,
         "height": 2112,
         "path": "/home/adrian/development/machine-learning/dataset/IMG_20200219_204736.jpg",
         "width": 4608
        }
       },
       {
        "bounding_boxes": [
         {
          "label": "9_of_diamons",
          "xmax": 3151,
          "xmin": 1517,
          "ymax": 1625,
          "ymin": 136
         }
        ],
        "image": {
         "depth": 3,
         "height": 2112,
         "path": "/home/adrian/development/machine-learning/dataset/IMG_20200219_233621.jpg",
         "width": 4608
        }
       },
       {
        "bounding_boxes": [
         {
          "label": "ace_of_spades",
          "xmax": 3140,
          "xmin": 1078,
          "ymax": 1849,
          "ymin": 4
         }
        ],
        "image": {
         "depth": 3,
         "height": 2112,
         "path": "/home/adrian/development/machine-learning/dataset/IMG_20200219_210521.jpg",
         "width": 4608
        }
       },
       {
        "bounding_boxes": [
         {
          "label": "card",
          "xmax": 2540,
          "xmin": 1140,
          "ymax": 1736,
          "ymin": 669
         }
        ],
        "image": {
         "depth": 3,
         "height": 2112,
         "path": "/home/adrian/development/machine-learning/dataset/IMG_20200219_233802.jpg",
         "width": 4608
        }
       },
       {
        "bounding_boxes": [
         {
          "label": "10_of_clubs",
          "xmax": 2136,
          "xmin": 1354,
          "ymax": 1434,
          "ymin": 825
         },
         {
          "label": "ace_of_clubs",
          "xmax": 3037,
          "xmin": 2295,
          "ymax": 1563,
          "ymin": 862
         },
         {
          "label": "king_of_hearts",
          "xmax": 4042,
          "xmin": 3554,
          "ymax": 1425,
          "ymin": 740
         },
         {
          "label": "queen_of_spades",
          "xmax": 4608,
          "xmin": 4292,
          "ymax": 1454,
          "ymin": 962
         },
         {
          "label": "8_of_clubs",
          "xmax": 2057,
          "xmin": 1204,
          "ymax": 2112,
          "ymin": 1699
         },
         {
          "label": "5_of_clubs",
          "xmax": 2981,
          "xmin": 2525,
          "ymax": 2112,
          "ymin": 1852
         },
         {
          "label": "2_of_clubs",
          "xmax": 3992,
          "xmin": 3528,
          "ymax": 2112,
          "ymin": 1596
         },
         {
          "label": "5_of_hearts",
          "xmax": 4608,
          "xmin": 4213,
          "ymax": 2109,
          "ymin": 1910
         }
        ],
        "image": {
         "depth": 3,
         "height": 2112,
         "path": "/home/adrian/development/machine-learning/dataset/IMG_20200219_210628.jpg",
         "width": 4608
        }
       },
       {
        "bounding_boxes": [
         {
          "label": "9_of_diamons",
          "xmax": 1961,
          "xmin": 1367,
          "ymax": 781,
          "ymin": 234
         },
         {
          "label": "10_of_hearts",
          "xmax": 2802,
          "xmin": 2024,
          "ymax": 852,
          "ymin": 221
         },
         {
          "label": "7_of_spades",
          "xmax": 3745,
          "xmin": 2990,
          "ymax": 1096,
          "ymin": 419
         },
         {
          "label": "4_of_clubs",
          "xmax": 3919,
          "xmin": 2951,
          "ymax": 2078,
          "ymin": 1268
         },
         {
          "label": "king_of_hearts",
          "xmax": 2930,
          "xmin": 2054,
          "ymax": 1809,
          "ymin": 1005
         },
         {
          "label": "5_of_diamons",
          "xmax": 1974,
          "xmin": 1102,
          "ymax": 2025,
          "ymin": 1183
         }
        ],
        "image": {
         "depth": 3,
         "height": 2112,
         "path": "/home/adrian/development/machine-learning/tensorflow1/dataset/IMG_20200223_175716.jpg",
         "width": 4608
        }
       },
       {
        "bounding_boxes": [
         {
          "label": "joker",
          "xmax": 3174,
          "xmin": 1707,
          "ymax": 2051,
          "ymin": 113
         }
        ],
        "image": {
         "depth": 3,
         "height": 2112,
         "path": "/home/adrian/development/machine-learning/dataset/IMG_20200219_205341.jpg",
         "width": 4608
        }
       },
       {
        "bounding_boxes": [
         {
          "label": "9_of_spades",
          "xmax": 1888,
          "xmin": 845,
          "ymax": 814,
          "ymin": 60
         },
         {
          "label": "10_of_spades",
          "xmax": 3332,
          "xmin": 2324,
          "ymax": 779,
          "ymin": 1
         },
         {
          "label": "8_of_spades",
          "xmax": 2465,
          "xmin": 1471,
          "ymax": 1711,
          "ymin": 1009
         },
         {
          "label": "7_of_spades",
          "xmax": 3720,
          "xmin": 2686,
          "ymax": 1824,
          "ymin": 777
         }
        ],
        "image": {
         "depth": 3,
         "height": 2112,
         "path": "/home/adrian/development/machine-learning/tensorflow1/dataset/train/samples/IMG_20200219_204556.jpg",
         "width": 4608
        }
       },
       {
        "bounding_boxes": [
         {
          "label": "3_of_spades",
          "xmax": 3354,
          "xmin": 1511,
          "ymax": 1618,
          "ymin": 102
         }
        ],
        "image": {
         "depth": 3,
         "height": 2112,
         "path": "/home/adrian/development/machine-learning/dataset/IMG_20200219_210518.jpg",
         "width": 4608
        }
       },
       {
        "bounding_boxes": [
         {
          "label": "black_joker",
          "xmax": 3390,
          "xmin": 1564,
          "ymax": 1786,
          "ymin": 198
         }
        ],
        "image": {
         "depth": 3,
         "height": 2112,
         "path": "/home/adrian/development/machine-learning/dataset/IMG_20200219_205905.jpg",
         "width": 4608
        }
       },
       {
        "bounding_boxes": [
         {
          "label": "8_of_clubs",
          "xmax": 3328,
          "xmin": 1281,
          "ymax": 1968,
          "ymin": 65
         }
        ],
        "image": {
         "depth": 3,
         "height": 2112,
         "path": "/home/adrian/development/machine-learning/dataset/IMG_20200219_210234.jpg",
         "width": 4608
        }
       },
       {
        "bounding_boxes": [
         {
          "label": "10_of_clubs",
          "xmax": 3336,
          "xmin": 1178,
          "ymax": 1834,
          "ymin": 54
         }
        ],
        "image": {
         "depth": 3,
         "height": 2112,
         "path": "/home/adrian/development/machine-learning/dataset/IMG_20200219_205628.jpg",
         "width": 4608
        }
       },
       {
        "bounding_boxes": [
         {
          "label": "9_of_hearts",
          "xmax": 1587,
          "xmin": 1074,
          "ymax": 601,
          "ymin": 304
         },
         {
          "label": "jack_of_clubs",
          "xmax": 2054,
          "xmin": 1577,
          "ymax": 398,
          "ymin": 166
         },
         {
          "label": "queen_of_clubs",
          "xmax": 2575,
          "xmin": 2098,
          "ymax": 516,
          "ymin": 263
         },
         {
          "label": "4_of_spades",
          "xmax": 2998,
          "xmin": 2537,
          "ymax": 766,
          "ymin": 510
         },
         {
          "label": "10_of_diamons",
          "xmax": 3666,
          "xmin": 3067,
          "ymax": 1245,
          "ymin": 896
         },
         {
          "label": "king_of_clubs",
          "xmax": 3398,
          "xmin": 2767,
          "ymax": 1633,
          "ymin": 1252
         },
         {
          "label": "3_of_spades",
          "xmax": 2771,
          "xmin": 2268,
          "ymax": 1754,
          "ymin": 1228
         },
         {
          "label": "6_of_diamons",
          "xmax": 2827,
          "xmin": 2242,
          "ymax": 1166,
          "ymin": 824
         },
         {
          "label": "8_of_diamons",
          "xmax": 2546,
          "xmin": 2011,
          "ymax": 875,
          "ymin": 551
         },
         {
          "label": "7_of_clubs",
          "xmax": 2189,
          "xmin": 1674,
          "ymax": 659,
          "ymin": 383
         },
         {
          "label": "black_joker",
          "xmax": 1692,
          "xmin": 1124,
          "ymax": 881,
          "ymin": 548
         },
         {
          "label": "3_of_clubs",
          "xmax": 2027,
          "xmin": 1446,
          "ymax": 1105,
          "ymin": 721
         },
         {
          "label": "8_of_clubs",
          "xmax": 2289,
          "xmin": 1717,
          "ymax": 1355,
          "ymin": 1028
         }
        ],
        "image": {
         "depth": 3,
         "height": 2112,
         "path": "/home/adrian/development/machine-learning/tensorflow1/dataset/IMG_20200223_163152.jpg",
         "width": 4608
        }
       },
       {
        "bounding_boxes": [
         {
          "label": "joker",
          "xmax": 3880,
          "xmin": 1434,
          "ymax": 2052,
          "ymin": 1
         }
        ],
        "image": {
         "depth": 3,
         "height": 2112,
         "path": "/home/adrian/development/machine-learning/dataset/IMG_20200219_205336.jpg",
         "width": 4608
        }
       },
       {
        "bounding_boxes": [
         {
          "label": "4_of_clubs",
          "xmax": 3683,
          "xmin": 1383,
          "ymax": 1866,
          "ymin": 2
         }
        ],
        "image": {
         "depth": 3,
         "height": 2112,
         "path": "/home/adrian/development/machine-learning/dataset/IMG_20200219_205617.jpg",
         "width": 4608
        }
       },
       {
        "bounding_boxes": [
         {
          "label": "ace_of_diamons",
          "xmax": 1084,
          "xmin": 467,
          "ymax": 722,
          "ymin": 381
         },
         {
          "label": "9_of_clubs",
          "xmax": 2045,
          "xmin": 1340,
          "ymax": 815,
          "ymin": 399
         },
         {
          "label": "10_of_clubs",
          "xmax": 3066,
          "xmin": 2425,
          "ymax": 893,
          "ymin": 452
         },
         {
          "label": "2_of_diamons",
          "xmax": 4122,
          "xmin": 3528,
          "ymax": 875,
          "ymin": 443
         },
         {
          "label": "9_of_diamons",
          "xmax": 811,
          "xmin": 122,
          "ymax": 1699,
          "ymin": 1040
         },
         {
          "label": "3_of_diamons",
          "xmax": 1949,
          "xmin": 989,
          "ymax": 1816,
          "ymin": 1095
         },
         {
          "label": "4_of_diamons",
          "xmax": 3289,
          "xmin": 2436,
          "ymax": 1766,
          "ymin": 1075
         },
         {
          "label": "jack_of_hearts",
          "xmax": 4430,
          "xmin": 3608,
          "ymax": 1763,
          "ymin": 1051
         }
        ],
        "image": {
         "depth": 3,
         "height": 2112,
         "path": "/home/adrian/development/machine-learning/tensorflow1/dataset/IMG_20200223_155858.jpg",
         "width": 4608
        }
       },
       {
        "bounding_boxes": [
         {
          "label": "10_of_clubs",
          "xmax": 3369,
          "xmin": 1725,
          "ymax": 1825,
          "ymin": 424
         }
        ],
        "image": {
         "depth": 3,
         "height": 2112,
         "path": "/home/adrian/development/machine-learning/dataset/IMG_20200219_233606.jpg",
         "width": 4608
        }
       },
       {
        "bounding_boxes": [
         {
          "label": "7_of_clubs",
          "xmax": 2869,
          "xmin": 777,
          "ymax": 1742,
          "ymin": 39
         },
         {
          "label": "5_of_clubs",
          "xmax": 4608,
          "xmin": 3842,
          "ymax": 2096,
          "ymin": 1010
         }
        ],
        "image": {
         "depth": 3,
         "height": 2112,
         "path": "/home/adrian/development/machine-learning/dataset/IMG_20200219_210345.jpg",
         "width": 4608
        }
       },
       {
        "bounding_boxes": [
         {
          "label": "9_of_diamons",
          "xmax": 3117,
          "xmin": 1108,
          "ymax": 2112,
          "ymin": 224
         },
         {
          "label": "queen_of_diamons",
          "xmax": 4608,
          "xmin": 3852,
          "ymax": 1693,
          "ymin": 337
         }
        ],
        "image": {
         "depth": 3,
         "height": 2112,
         "path": "/home/adrian/development/machine-learning/dataset/IMG_20200219_210425.jpg",
         "width": 4608
        }
       },
       {
        "bounding_boxes": [
         {
          "label": "jack_of_spades",
          "xmax": 2816,
          "xmin": 1510,
          "ymax": 1943,
          "ymin": 128
         }
        ],
        "image": {
         "depth": 3,
         "height": 2112,
         "path": "/home/adrian/development/machine-learning/dataset/IMG_20200219_210826.jpg",
         "width": 4608
        }
       },
       {
        "bounding_boxes": [
         {
          "label": "4_of_clubs",
          "xmax": 2049,
          "xmin": 1125,
          "ymax": 819,
          "ymin": 59
         },
         {
          "label": "jack_of_hearts",
          "xmax": 3081,
          "xmin": 2263,
          "ymax": 937,
          "ymin": 262
         },
         {
          "label": "5_of_diamons",
          "xmax": 4452,
          "xmin": 3749,
          "ymax": 680,
          "ymin": 2
         },
         {
          "label": "2_of_diamons",
          "xmax": 4608,
          "xmin": 3869,
          "ymax": 1657,
          "ymin": 902
         },
         {
          "label": "black_joker",
          "xmax": 3267,
          "xmin": 2442,
          "ymax": 1915,
          "ymin": 1290
         },
         {
          "label": "10_of_hearts",
          "xmax": 1871,
          "xmin": 861,
          "ymax": 2068,
          "ymin": 1139
         },
         {
          "label": "6_of_diamons",
          "xmax": 4608,
          "xmin": 4095,
          "ymax": 2105,
          "ymin": 1849
         }
        ],
        "image": {
         "depth": 3,
         "height": 2112,
         "path": "/home/adrian/development/machine-learning/dataset/IMG_20200219_210606.jpg",
         "width": 4608
        }
       },
       {
        "bounding_boxes": [
         {
          "label": "5_of_diamons",
          "xmax": 1640,
          "xmin": 740,
          "ymax": 866,
          "ymin": 165
         },
         {
          "label": "6_of_diamons",
          "xmax": 2843,
          "xmin": 1702,
          "ymax": 922,
          "ymin": 1
         },
         {
          "label": "7_of_diamons",
          "xmax": 3943,
          "xmin": 2786,
          "ymax": 898,
          "ymin": 40
         },
         {
          "label": "2_of_diamons",
          "xmax": 1547,
          "xmin": 574,
          "ymax": 1893,
          "ymin": 995
         },
         {
          "label": "3_of_diamons",
          "xmax": 2582,
          "xmin": 1531,
          "ymax": 1886,
          "ymin": 1047
         },
         {
          "label": "4_of_diamons",
          "xmax": 3704,
          "xmin": 2623,
          "ymax": 1856,
          "ymin": 1083
         }
        ],
        "image": {
         "depth": 3,
         "height": 2112,
         "path": "/home/adrian/development/machine-learning/dataset/IMG_20200219_205530.jpg",
         "width": 4608
        }
       },
       {
        "bounding_boxes": [
         {
          "label": "10_of_diamons",
          "xmax": 3375,
          "xmin": 2717,
          "ymax": 1818,
          "ymin": 1327
         },
         {
          "label": "4_of_spades",
          "xmax": 3487,
          "xmin": 2987,
          "ymax": 1172,
          "ymin": 821
         },
         {
          "label": "6_of_diamons",
          "xmax": 2871,
          "xmin": 2325,
          "ymax": 1183,
          "ymin": 828
         },
         {
          "label": "3_of_spades",
          "xmax": 2314,
          "xmin": 1775,
          "ymax": 1321,
          "ymin": 1013
         },
         {
          "label": "king_of_clubs",
          "xmax": 2657,
          "xmin": 2036,
          "ymax": 1733,
          "ymin": 1246
         },
         {
          "label": "8_of_clubs",
          "xmax": 2372,
          "xmin": 1864,
          "ymax": 968,
          "ymin": 645
         },
         {
          "label": "8_of_diamons",
          "xmax": 3042,
          "xmin": 2560,
          "ymax": 893,
          "ymin": 624
         },
         {
          "label": "3_of_clubs",
          "xmax": 2530,
          "xmin": 2071,
          "ymax": 696,
          "ymin": 486
         },
         {
          "label": "black_joker",
          "xmax": 2581,
          "xmin": 2136,
          "ymax": 499,
          "ymin": 275
         },
         {
          "label": "9_of_hearts",
          "xmax": 2799,
          "xmin": 2406,
          "ymax": 340,
          "ymin": 156
         },
         {
          "label": "jack_of_clubs",
          "xmax": 3273,
          "xmin": 2841,
          "ymax": 472,
          "ymin": 247
         },
         {
          "label": "7_of_clubs",
          "xmax": 3066,
          "xmin": 2599,
          "ymax": 639,
          "ymin": 390
         },
         {
          "label": "queen_of_clubs",
          "xmax": 3505,
          "xmin": 3043,
          "ymax": 781,
          "ymin": 515
         }
        ],
        "image": {
         "depth": 3,
         "height": 2112,
         "path": "/home/adrian/development/machine-learning/tensorflow1/dataset/IMG_20200223_163155.jpg",
         "width": 4608
        }
       },
       {
        "bounding_boxes": [
         {
          "label": "10_of_clubs",
          "xmax": 2183,
          "xmin": 1655,
          "ymax": 672,
          "ymin": 9
         },
         {
          "label": "7_of_hearts",
          "xmax": 3199,
          "xmin": 2534,
          "ymax": 680,
          "ymin": 24
         },
         {
          "label": "4_of_diamons",
          "xmax": 4124,
          "xmin": 3411,
          "ymax": 1080,
          "ymin": 160
         },
         {
          "label": "ace_of_diamons",
          "xmax": 2128,
          "xmin": 1649,
          "ymax": 1878,
          "ymin": 1121
         },
         {
          "label": "9_of_clubs",
          "xmax": 2863,
          "xmin": 2274,
          "ymax": 2112,
          "ymin": 1257
         },
         {
          "label": "3_of_diamons",
          "xmax": 3708,
          "xmin": 3025,
          "ymax": 2075,
          "ymin": 1133
         }
        ],
        "image": {
         "depth": 3,
         "height": 2112,
         "path": "/home/adrian/development/machine-learning/tensorflow1/dataset/IMG_20200223_175744.jpg",
         "width": 4608
        }
       },
       {
        "bounding_boxes": [
         {
          "label": "6_of_clubs",
          "xmax": 3413,
          "xmin": 1307,
          "ymax": 1921,
          "ymin": 283
         }
        ],
        "image": {
         "depth": 3,
         "height": 2112,
         "path": "/home/adrian/development/machine-learning/dataset/IMG_20200219_205741.jpg",
         "width": 4608
        }
       },
       {
        "bounding_boxes": [
         {
          "label": "black_joker",
          "xmax": 3405,
          "xmin": 1717,
          "ymax": 1852,
          "ymin": 69
         }
        ],
        "image": {
         "depth": 3,
         "height": 2112,
         "path": "/home/adrian/development/machine-learning/dataset/IMG_20200219_233520.jpg",
         "width": 4608
        }
       },
       {
        "bounding_boxes": [
         {
          "label": "3_of_spades",
          "xmax": 3838,
          "xmin": 1551,
          "ymax": 2112,
          "ymin": 1
         }
        ],
        "image": {
         "depth": 3,
         "height": 2112,
         "path": "/home/adrian/development/machine-learning/dataset/IMG_20200219_205330.jpg",
         "width": 4608
        }
       },
       {
        "bounding_boxes": [
         {
          "label": "jack_of_spades",
          "xmax": 3584,
          "xmin": 1351,
          "ymax": 1892,
          "ymin": 399
         }
        ],
        "image": {
         "depth": 3,
         "height": 2112,
         "path": "/home/adrian/development/machine-learning/tensorflow1/dataset/IMG_20200223_163934.jpg",
         "width": 4608
        }
       },
       {
        "bounding_boxes": [
         {
          "label": "8_of_hearts",
          "xmax": 1722,
          "xmin": 1077,
          "ymax": 1210,
          "ymin": 418
         },
         {
          "label": "6_of_hearts",
          "xmax": 2440,
          "xmin": 1736,
          "ymax": 1174,
          "ymin": 360
         },
         {
          "label": "2_of_hearts",
          "xmax": 3139,
          "xmin": 2550,
          "ymax": 1045,
          "ymin": 289
         },
         {
          "label": "jack_of_diamons",
          "xmax": 3767,
          "xmin": 3116,
          "ymax": 857,
          "ymin": 92
         },
         {
          "label": "7_of_spades",
          "xmax": 1543,
          "xmin": 986,
          "ymax": 2112,
          "ymin": 1407
         },
         {
          "label": "4_of_clubs",
          "xmax": 2369,
          "xmin": 1689,
          "ymax": 2112,
          "ymin": 1404
         },
         {
          "label": "king_of_hearts",
          "xmax": 3137,
          "xmin": 2575,
          "ymax": 2092,
          "ymin": 1351
         },
         {
          "label": "5_of_diamons",
          "xmax": 4180,
          "xmin": 3507,
          "ymax": 1802,
          "ymin": 1018
         }
        ],
        "image": {
         "depth": 3,
         "height": 2112,
         "path": "/home/adrian/development/machine-learning/tensorflow1/dataset/IMG_20200223_160003.jpg",
         "width": 4608
        }
       },
       {
        "bounding_boxes": [
         {
          "label": "2_of_spades",
          "xmax": 3286,
          "xmin": 1145,
          "ymax": 2112,
          "ymin": 128
         }
        ],
        "image": {
         "depth": 3,
         "height": 2112,
         "path": "/home/adrian/development/machine-learning/dataset/IMG_20200219_210524.jpg",
         "width": 4608
        }
       },
       {
        "bounding_boxes": [
         {
          "label": "jack_of_spades",
          "xmax": 2871,
          "xmin": 1767,
          "ymax": 1584,
          "ymin": 368
         }
        ],
        "image": {
         "depth": 3,
         "height": 2112,
         "path": "/home/adrian/development/machine-learning/tensorflow1/dataset/IMG_20200223_163931.jpg",
         "width": 4608
        }
       },
       {
        "bounding_boxes": [
         {
          "label": "6_of_spades",
          "xmax": 2230,
          "xmin": 1455,
          "ymax": 925,
          "ymin": 27
         },
         {
          "label": "9_of_spades",
          "xmax": 3008,
          "xmin": 2317,
          "ymax": 718,
          "ymin": 4
         },
         {
          "label": "king_of_diamons",
          "xmax": 3678,
          "xmin": 3090,
          "ymax": 640,
          "ymin": 55
         },
         {
          "label": "ace_of_clubs",
          "xmax": 3621,
          "xmin": 3169,
          "ymax": 1534,
          "ymin": 825
         },
         {
          "label": "2_of_spades",
          "xmax": 3011,
          "xmin": 2295,
          "ymax": 1934,
          "ymin": 1078
         },
         {
          "label": "ace_of_spades",
          "xmax": 2130,
          "xmin": 1530,
          "ymax": 2057,
          "ymin": 1257
         }
        ],
        "image": {
         "depth": 3,
         "height": 2112,
         "path": "/home/adrian/development/machine-learning/tensorflow1/dataset/IMG_20200223_175706.jpg",
         "width": 4608
        }
       },
       {
        "bounding_boxes": [
         {
          "label": "card",
          "xmax": 3577,
          "xmin": 1801,
          "ymax": 2062,
          "ymin": 277
         }
        ],
        "image": {
         "depth": 3,
         "height": 2112,
         "path": "/home/adrian/development/machine-learning/tensorflow1/dataset/IMG_20200223_183548.jpg",
         "width": 4608
        }
       },
       {
        "bounding_boxes": [
         {
          "label": "10_of_spades",
          "xmax": 3142,
          "xmin": 1231,
          "ymax": 1724,
          "ymin": 301
         }
        ],
        "image": {
         "depth": 3,
         "height": 2112,
         "path": "/home/adrian/development/machine-learning/dataset/IMG_20200219_210820.jpg",
         "width": 4608
        }
       },
       {
        "bounding_boxes": [
         {
          "label": "8_of_hearts",
          "xmax": 2904,
          "xmin": 1093,
          "ymax": 1666,
          "ymin": 193
         }
        ],
        "image": {
         "depth": 3,
         "height": 2112,
         "path": "/home/adrian/development/machine-learning/dataset/IMG_20200219_210509.jpg",
         "width": 4608
        }
       },
       {
        "bounding_boxes": [
         {
          "label": "2_of_clubs",
          "xmax": 3334,
          "xmin": 1563,
          "ymax": 1851,
          "ymin": 239
         }
        ],
        "image": {
         "depth": 3,
         "height": 2112,
         "path": "/home/adrian/development/machine-learning/dataset/IMG_20200219_233628.jpg",
         "width": 4608
        }
       },
       {
        "bounding_boxes": [
         {
          "label": "queen_of_spades",
          "xmax": 3604,
          "xmin": 2380,
          "ymax": 1146,
          "ymin": 84
         },
         {
          "label": "king_of_spades",
          "xmax": 2313,
          "xmin": 1517,
          "ymax": 1366,
          "ymin": 433
         },
         {
          "label": "7_of_diamons",
          "xmax": 1524,
          "xmin": 492,
          "ymax": 1638,
          "ymin": 920
         },
         {
          "label": "7_of_hearts",
          "xmax": 3604,
          "xmin": 2546,
          "ymax": 1842,
          "ymin": 1139
         },
         {
          "label": "3_of_hearts",
          "xmax": 2677,
          "xmin": 1669,
          "ymax": 2112,
          "ymin": 1509
         },
         {
          "label": "10_of_spades",
          "xmax": 1766,
          "xmin": 746,
          "ymax": 2112,
          "ymin": 1651
         }
        ],
        "image": {
         "depth": 3,
         "height": 2112,
         "path": "/home/adrian/development/machine-learning/tensorflow1/dataset/IMG_20200223_163951.jpg",
         "width": 4608
        }
       },
       {
        "bounding_boxes": [
         {
          "label": "7_of_hearts",
          "xmax": 3443,
          "xmin": 1714,
          "ymax": 1846,
          "ymin": 331
         }
        ],
        "image": {
         "depth": 3,
         "height": 2112,
         "path": "/home/adrian/development/machine-learning/dataset/IMG_20200219_233613.jpg",
         "width": 4608
        }
       },
       {
        "bounding_boxes": [
         {
          "label": "4_of_hearts",
          "xmax": 3599,
          "xmin": 1793,
          "ymax": 1866,
          "ymin": 310
         }
        ],
        "image": {
         "depth": 3,
         "height": 2112,
         "path": "/home/adrian/development/machine-learning/dataset/IMG_20200219_233725.jpg",
         "width": 4608
        }
       },
       {
        "bounding_boxes": [
         {
          "label": "2_of_hearts",
          "xmax": 3345,
          "xmin": 1661,
          "ymax": 1505,
          "ymin": 312
         }
        ],
        "image": {
         "depth": 3,
         "height": 2112,
         "path": "/home/adrian/development/machine-learning/dataset/IMG_20200219_204713.jpg",
         "width": 4608
        }
       },
       {
        "bounding_boxes": [
         {
          "label": "5_of_spades",
          "xmax": 3284,
          "xmin": 1527,
          "ymax": 1649,
          "ymin": 210
         }
        ],
        "image": {
         "depth": 3,
         "height": 2112,
         "path": "/home/adrian/development/machine-learning/dataset/IMG_20200219_233715.jpg",
         "width": 4608
        }
       },
       {
        "bounding_boxes": [
         {
          "label": "black_joker",
          "xmax": 4249,
          "xmin": 2513,
          "ymax": 1863,
          "ymin": 189
         },
         {
          "label": "5_of_hearts",
          "xmax": 2290,
          "xmin": 530,
          "ymax": 1937,
          "ymin": 192
         }
        ],
        "image": {
         "depth": 3,
         "height": 2112,
         "path": "/home/adrian/development/machine-learning/tensorflow1/dataset/IMG_20200223_163955.jpg",
         "width": 4608
        }
       },
       {
        "bounding_boxes": [
         {
          "label": "card",
          "xmax": 3248,
          "xmin": 1680,
          "ymax": 1840,
          "ymin": 490
         }
        ],
        "image": {
         "depth": 3,
         "height": 2112,
         "path": "/home/adrian/development/machine-learning/dataset/IMG_20200219_233746.jpg",
         "width": 4608
        }
       },
       {
        "bounding_boxes": [
         {
          "label": "queen_of_clubs",
          "xmax": 1489,
          "xmin": 546,
          "ymax": 972,
          "ymin": 249
         },
         {
          "label": "10_of_diamons",
          "xmax": 2698,
          "xmin": 1858,
          "ymax": 693,
          "ymin": 2
         },
         {
          "label": "king_of_clubs",
          "xmax": 3742,
          "xmin": 2993,
          "ymax": 610,
          "ymin": 59
         },
         {
          "label": "4_of_spades",
          "xmax": 1786,
          "xmin": 824,
          "ymax": 1969,
          "ymin": 1205
         },
         {
          "label": "3_of_spades",
          "xmax": 2801,
          "xmin": 2196,
          "ymax": 1863,
          "ymin": 1021
         },
         {
          "label": "9_of_hearts",
          "xmax": 4017,
          "xmin": 3219,
          "ymax": 1905,
          "ymin": 1031
         }
        ],
        "image": {
         "depth": 3,
         "height": 2112,
         "path": "/home/adrian/development/machine-learning/tensorflow1/dataset/IMG_20200223_173052.jpg",
         "width": 4608
        }
       },
       {
        "bounding_boxes": [
         {
          "label": "2_of_spades",
          "xmax": 1316,
          "xmin": 740,
          "ymax": 881,
          "ymin": 190
         },
         {
          "label": "8_of_spades",
          "xmax": 1972,
          "xmin": 1292,
          "ymax": 899,
          "ymin": 99
         },
         {
          "label": "queen_of_diamons",
          "xmax": 2734,
          "xmin": 1914,
          "ymax": 828,
          "ymin": 145
         },
         {
          "label": "ace_of_hearts",
          "xmax": 3490,
          "xmin": 2851,
          "ymax": 1305,
          "ymin": 431
         },
         {
          "label": "4_of_hearts",
          "xmax": 2774,
          "xmin": 2171,
          "ymax": 1925,
          "ymin": 1054
         },
         {
          "label": "5_of_clubs",
          "xmax": 2083,
          "xmin": 1364,
          "ymax": 1581,
          "ymin": 863
         },
         {
          "label": "6_of_spades",
          "xmax": 1355,
          "xmin": 736,
          "ymax": 1554,
          "ymin": 877
         }
        ],
        "image": {
         "depth": 3,
         "height": 2112,
         "path": "/home/adrian/development/machine-learning/tensorflow1/dataset/IMG_20200223_163610.jpg",
         "width": 4608
        }
       },
       {
        "bounding_boxes": [
         {
          "label": "king_of_clubs",
          "xmax": 3590,
          "xmin": 1801,
          "ymax": 1796,
          "ymin": 137
         }
        ],
        "image": {
         "depth": 3,
         "height": 2112,
         "path": "/home/adrian/development/machine-learning/dataset/IMG_20200219_233506.jpg",
         "width": 4608
        }
       },
       {
        "bounding_boxes": [
         {
          "label": "6_of_clubs",
          "xmax": 1917,
          "xmin": 1080,
          "ymax": 663,
          "ymin": 2
         },
         {
          "label": "queen_of_hearts",
          "xmax": 2819,
          "xmin": 1984,
          "ymax": 736,
          "ymin": 39
         },
         {
          "label": "2_of_clubs",
          "xmax": 3789,
          "xmin": 2913,
          "ymax": 1093,
          "ymin": 137
         },
         {
          "label": "2_of_diamons",
          "xmax": 3286,
          "xmin": 2446,
          "ymax": 2075,
          "ymin": 1130
         },
         {
          "label": "8_of_spades",
          "xmax": 2364,
          "xmin": 1527,
          "ymax": 1922,
          "ymin": 1040
         },
         {
          "label": "5_of_hearts",
          "xmax": 1537,
          "xmin": 925,
          "ymax": 1652,
          "ymin": 813
         }
        ],
        "image": {
         "depth": 3,
         "height": 2112,
         "path": "/home/adrian/development/machine-learning/tensorflow1/dataset/IMG_20200223_175838.jpg",
         "width": 4608
        }
       },
       {
        "bounding_boxes": [
         {
          "label": "king_of_clubs",
          "xmax": 3824,
          "xmin": 1551,
          "ymax": 2112,
          "ymin": 552
         }
        ],
        "image": {
         "depth": 3,
         "height": 2112,
         "path": "/home/adrian/development/machine-learning/dataset/IMG_20200219_205750.jpg",
         "width": 4608
        }
       },
       {
        "bounding_boxes": [
         {
          "label": "2_of_spades",
          "xmax": 2998,
          "xmin": 1671,
          "ymax": 1762,
          "ymin": 699
         }
        ],
        "image": {
         "depth": 3,
         "height": 2112,
         "path": "/home/adrian/development/machine-learning/dataset/IMG_20200219_233407.jpg",
         "width": 4608
        }
       },
       {
        "bounding_boxes": [
         {
          "label": "black_joker",
          "xmax": 3430,
          "xmin": 1271,
          "ymax": 1724,
          "ymin": 218
         }
        ],
        "image": {
         "depth": 3,
         "height": 2112,
         "path": "/home/adrian/development/machine-learning/tensorflow1/dataset/IMG_20200223_172504.jpg",
         "width": 4608
        }
       },
       {
        "bounding_boxes": [
         {
          "label": "queen_of_hearts",
          "xmax": 3083,
          "xmin": 1334,
          "ymax": 1646,
          "ymin": 334
         },
         {
          "label": "3_of_clubs",
          "xmax": 4607,
          "xmin": 3961,
          "ymax": 1374,
          "ymin": 34
         }
        ],
        "image": {
         "depth": 3,
         "height": 2112,
         "path": "/home/adrian/development/machine-learning/dataset/IMG_20200219_210323.jpg",
         "width": 4608
        }
       },
       {
        "bounding_boxes": [
         {
          "label": "queen_of_spades",
          "xmax": 3551,
          "xmin": 1833,
          "ymax": 1693,
          "ymin": 107
         }
        ],
        "image": {
         "depth": 3,
         "height": 2112,
         "path": "/home/adrian/development/machine-learning/dataset/IMG_20200219_204816.jpg",
         "width": 4608
        }
       },
       {
        "bounding_boxes": [
         {
          "label": "joker",
          "xmax": 3472,
          "xmin": 1411,
          "ymax": 1615,
          "ymin": 1
         }
        ],
        "image": {
         "depth": 3,
         "height": 2112,
         "path": "/home/adrian/development/machine-learning/dataset/IMG_20200219_210841.jpg",
         "width": 4608
        }
       },
       {
        "bounding_boxes": [
         {
          "label": "8_of_diamons",
          "xmax": 3358,
          "xmin": 1019,
          "ymax": 2037,
          "ymin": 16
         }
        ],
        "image": {
         "depth": 3,
         "height": 2112,
         "path": "/home/adrian/development/machine-learning/dataset/IMG_20200219_205852.jpg",
         "width": 4608
        }
       },
       {
        "bounding_boxes": [
         {
          "label": "9_of_spades",
          "xmax": 3606,
          "xmin": 2165,
          "ymax": 1543,
          "ymin": 355
         },
         {
          "label": "jack_of_spades",
          "xmax": 1054,
          "xmin": 239,
          "ymax": 1998,
          "ymin": 810
         },
         {
          "label": "5_of_hearts",
          "xmax": 1610,
          "xmin": 716,
          "ymax": 2112,
          "ymin": 875
         },
         {
          "label": "7_of_hearts",
          "xmax": 330,
          "xmin": 1,
          "ymax": 1804,
          "ymin": 996
         },
         {
          "label": "3_of_hearts",
          "xmax": 1919,
          "xmin": 724,
          "ymax": 1051,
          "ymin": 5
         },
         {
          "label": "king_of_spades",
          "xmax": 1036,
          "xmin": 62,
          "ymax": 598,
          "ymin": 1
         }
        ],
        "image": {
         "depth": 3,
         "height": 2112,
         "path": "/home/adrian/development/machine-learning/tensorflow1/dataset/IMG_20200219_204808.jpg",
         "width": 4608
        }
       },
       {
        "bounding_boxes": [
         {
          "label": "5_of_diamons",
          "xmax": 3346,
          "xmin": 1278,
          "ymax": 1945,
          "ymin": 31
         }
        ],
        "image": {
         "depth": 3,
         "height": 2112,
         "path": "/home/adrian/development/machine-learning/dataset/IMG_20200219_205817.jpg",
         "width": 4608
        }
       },
       {
        "bounding_boxes": [
         {
          "label": "jack_of_spades",
          "xmax": 3211,
          "xmin": 1610,
          "ymax": 1755,
          "ymin": 498
         },
         {
          "label": "7_of_diamons",
          "xmax": 280,
          "xmin": 2,
          "ymax": 1549,
          "ymin": 887
         }
        ],
        "image": {
         "depth": 3,
         "height": 2112,
         "path": "/home/adrian/development/machine-learning/dataset/IMG_20200219_233707.jpg",
         "width": 4608
        }
       },
       {
        "bounding_boxes": [
         {
          "label": "10_of_clubs",
          "xmax": 2925,
          "xmin": 948,
          "ymax": 1857,
          "ymin": 102
         }
        ],
        "image": {
         "depth": 3,
         "height": 2112,
         "path": "/home/adrian/development/machine-learning/dataset/IMG_20200219_210231.jpg",
         "width": 4608
        }
       },
       {
        "bounding_boxes": [
         {
          "label": "2_of_hearts",
          "xmax": 2971,
          "xmin": 1311,
          "ymax": 2072,
          "ymin": 33
         }
        ],
        "image": {
         "depth": 3,
         "height": 2112,
         "path": "/home/adrian/development/machine-learning/dataset/IMG_20200219_210810.jpg",
         "width": 4608
        }
       },
       {
        "bounding_boxes": [
         {
          "label": "5_of_diamons",
          "xmax": 1549,
          "xmin": 1025,
          "ymax": 598,
          "ymin": 283
         },
         {
          "label": "king_of_hearts",
          "xmax": 2437,
          "xmin": 1819,
          "ymax": 718,
          "ymin": 325
         },
         {
          "label": "4_of_clubs",
          "xmax": 3196,
          "xmin": 2436,
          "ymax": 895,
          "ymin": 434
         },
         {
          "label": "7_of_spades",
          "xmax": 3824,
          "xmin": 3143,
          "ymax": 1157,
          "ymin": 622
         },
         {
          "label": "8_of_hearts",
          "xmax": 3442,
          "xmin": 2492,
          "ymax": 1880,
          "ymin": 1121
         },
         {
          "label": "6_of_hearts",
          "xmax": 2564,
          "xmin": 1913,
          "ymax": 1559,
          "ymin": 984
         },
         {
          "label": "2_of_hearts",
          "xmax": 1955,
          "xmin": 1119,
          "ymax": 1377,
          "ymin": 798
         },
         {
          "label": "jack_of_diamons",
          "xmax": 1271,
          "xmin": 561,
          "ymax": 1249,
          "ymin": 787
         }
        ],
        "image": {
         "depth": 3,
         "height": 2112,
         "path": "/home/adrian/development/machine-learning/tensorflow1/dataset/IMG_20200223_155947.jpg",
         "width": 4608
        }
       }
      ],
      "text/plain": [
       "<IPython.core.display.JSON object>"
      ]
     },
     "execution_count": 19,
     "metadata": {
      "application/json": {
       "expanded": false,
       "root": "root"
      }
     },
     "output_type": "execute_result"
    }
   ],
   "source": [
    "JSON(to_json(train_samples))"
   ]
  },
  {
   "cell_type": "code",
   "execution_count": 8,
   "metadata": {},
   "outputs": [],
   "source": [
    "expected_classes = set(cfg.property('classes'))\n",
    "train_dataset_classes = train_dataset.labels()\n",
    "test_dataset_classes = test_dataset.labels()"
   ]
  },
  {
   "cell_type": "markdown",
   "metadata": {},
   "source": [
    "Dataset have the correct class names?"
   ]
  },
  {
   "cell_type": "code",
   "execution_count": 9,
   "metadata": {},
   "outputs": [
    {
     "data": {
      "text/plain": [
       "(55, 55)"
      ]
     },
     "execution_count": 9,
     "metadata": {},
     "output_type": "execute_result"
    }
   ],
   "source": [
    "len(train_dataset_classes), len(expected_classes)"
   ]
  },
  {
   "cell_type": "code",
   "execution_count": 10,
   "metadata": {},
   "outputs": [
    {
     "data": {
      "text/plain": [
       "(55, 55)"
      ]
     },
     "execution_count": 10,
     "metadata": {},
     "output_type": "execute_result"
    }
   ],
   "source": [
    "len(test_dataset_classes), len(expected_classes)"
   ]
  },
  {
   "cell_type": "code",
   "execution_count": 11,
   "metadata": {},
   "outputs": [],
   "source": [
    "assert train_dataset_classes == expected_classes, \"Wrong train dataset classes!\""
   ]
  },
  {
   "cell_type": "code",
   "execution_count": 12,
   "metadata": {},
   "outputs": [],
   "source": [
    "assert test_dataset_classes == expected_classes, \"Wrong test dataset classes!\""
   ]
  },
  {
   "cell_type": "code",
   "execution_count": 13,
   "metadata": {},
   "outputs": [
    {
     "data": {
      "text/plain": [
       "set()"
      ]
     },
     "execution_count": 13,
     "metadata": {},
     "output_type": "execute_result"
    }
   ],
   "source": [
    "test_dataset_classes - expected_classes"
   ]
  },
  {
   "cell_type": "code",
   "execution_count": 14,
   "metadata": {},
   "outputs": [
    {
     "data": {
      "text/plain": [
       "set()"
      ]
     },
     "execution_count": 14,
     "metadata": {},
     "output_type": "execute_result"
    }
   ],
   "source": [
    "expected_classes - test_dataset_classes"
   ]
  },
  {
   "cell_type": "markdown",
   "metadata": {},
   "source": [
    "Show sampels count by class:"
   ]
  },
  {
   "cell_type": "code",
   "execution_count": 15,
   "metadata": {},
   "outputs": [
    {
     "data": {
      "image/png": "[encoded data removed]",
      "text/plain": [
       "<Figure size 3600x504 with 1 Axes>"
      ]
     },
     "metadata": {
      "image/png": {
       "height": 501,
       "width": 2857
      },
      "needs_background": "light"
     },
     "output_type": "display_data"
    }
   ],
   "source": [
    "plot_samples_count_by_class(train_dataset)"
   ]
  },
  {
   "cell_type": "markdown",
   "metadata": {},
   "source": [
    "How many samples is required to **balance** samples by class to 15 accours?"
   ]
  },
  {
   "cell_type": "code",
   "execution_count": 16,
   "metadata": {},
   "outputs": [
    {
     "name": "stdout",
     "output_type": "stream",
     "text": [
      "Dataset balance!\n"
     ]
    }
   ],
   "source": [
    "plot_missing_samples_by_class(train_dataset)"
   ]
  },
  {
   "cell_type": "code",
   "execution_count": 17,
   "metadata": {},
   "outputs": [
    {
     "data": {
      "text/html": [
       "<div>\n",
       "<style scoped>\n",
       "    .dataframe tbody tr th:only-of-type {\n",
       "        vertical-align: middle;\n",
       "    }\n",
       "\n",
       "    .dataframe tbody tr th {\n",
       "        vertical-align: top;\n",
       "    }\n",
       "\n",
       "    .dataframe thead th {\n",
       "        text-align: right;\n",
       "    }\n",
       "</style>\n",
       "<table border=\"1\" class=\"dataframe\">\n",
       "  <thead>\n",
       "    <tr style=\"text-align: right;\">\n",
       "      <th></th>\n",
       "      <th>Class</th>\n",
       "      <th>Missing</th>\n",
       "      <th>Count</th>\n",
       "    </tr>\n",
       "  </thead>\n",
       "  <tbody>\n",
       "    <tr>\n",
       "      <th>0</th>\n",
       "      <td>9_of_hearts</td>\n",
       "      <td>0</td>\n",
       "      <td>14</td>\n",
       "    </tr>\n",
       "    <tr>\n",
       "      <th>1</th>\n",
       "      <td>3_of_spades</td>\n",
       "      <td>0</td>\n",
       "      <td>14</td>\n",
       "    </tr>\n",
       "    <tr>\n",
       "      <th>2</th>\n",
       "      <td>ace_of_spades</td>\n",
       "      <td>0</td>\n",
       "      <td>14</td>\n",
       "    </tr>\n",
       "    <tr>\n",
       "      <th>3</th>\n",
       "      <td>2_of_spades</td>\n",
       "      <td>0</td>\n",
       "      <td>14</td>\n",
       "    </tr>\n",
       "    <tr>\n",
       "      <th>4</th>\n",
       "      <td>4_of_spades</td>\n",
       "      <td>0</td>\n",
       "      <td>14</td>\n",
       "    </tr>\n",
       "    <tr>\n",
       "      <th>5</th>\n",
       "      <td>6_of_spades</td>\n",
       "      <td>0</td>\n",
       "      <td>14</td>\n",
       "    </tr>\n",
       "    <tr>\n",
       "      <th>6</th>\n",
       "      <td>9_of_spades</td>\n",
       "      <td>0</td>\n",
       "      <td>14</td>\n",
       "    </tr>\n",
       "    <tr>\n",
       "      <th>7</th>\n",
       "      <td>10_of_diamons</td>\n",
       "      <td>0</td>\n",
       "      <td>14</td>\n",
       "    </tr>\n",
       "    <tr>\n",
       "      <th>8</th>\n",
       "      <td>king_of_diamons</td>\n",
       "      <td>0</td>\n",
       "      <td>14</td>\n",
       "    </tr>\n",
       "    <tr>\n",
       "      <th>9</th>\n",
       "      <td>ace_of_clubs</td>\n",
       "      <td>0</td>\n",
       "      <td>14</td>\n",
       "    </tr>\n",
       "    <tr>\n",
       "      <th>10</th>\n",
       "      <td>queen_of_clubs</td>\n",
       "      <td>0</td>\n",
       "      <td>14</td>\n",
       "    </tr>\n",
       "    <tr>\n",
       "      <th>11</th>\n",
       "      <td>king_of_clubs</td>\n",
       "      <td>0</td>\n",
       "      <td>14</td>\n",
       "    </tr>\n",
       "    <tr>\n",
       "      <th>12</th>\n",
       "      <td>ace_of_diamons</td>\n",
       "      <td>0</td>\n",
       "      <td>14</td>\n",
       "    </tr>\n",
       "    <tr>\n",
       "      <th>13</th>\n",
       "      <td>9_of_clubs</td>\n",
       "      <td>0</td>\n",
       "      <td>14</td>\n",
       "    </tr>\n",
       "    <tr>\n",
       "      <th>14</th>\n",
       "      <td>10_of_clubs</td>\n",
       "      <td>0</td>\n",
       "      <td>14</td>\n",
       "    </tr>\n",
       "    <tr>\n",
       "      <th>15</th>\n",
       "      <td>jack_of_clubs</td>\n",
       "      <td>0</td>\n",
       "      <td>14</td>\n",
       "    </tr>\n",
       "    <tr>\n",
       "      <th>16</th>\n",
       "      <td>8_of_clubs</td>\n",
       "      <td>0</td>\n",
       "      <td>14</td>\n",
       "    </tr>\n",
       "    <tr>\n",
       "      <th>17</th>\n",
       "      <td>7_of_hearts</td>\n",
       "      <td>0</td>\n",
       "      <td>14</td>\n",
       "    </tr>\n",
       "    <tr>\n",
       "      <th>18</th>\n",
       "      <td>6_of_diamons</td>\n",
       "      <td>0</td>\n",
       "      <td>14</td>\n",
       "    </tr>\n",
       "    <tr>\n",
       "      <th>19</th>\n",
       "      <td>4_of_diamons</td>\n",
       "      <td>0</td>\n",
       "      <td>14</td>\n",
       "    </tr>\n",
       "    <tr>\n",
       "      <th>20</th>\n",
       "      <td>3_of_diamons</td>\n",
       "      <td>0</td>\n",
       "      <td>14</td>\n",
       "    </tr>\n",
       "    <tr>\n",
       "      <th>21</th>\n",
       "      <td>9_of_diamons</td>\n",
       "      <td>0</td>\n",
       "      <td>14</td>\n",
       "    </tr>\n",
       "    <tr>\n",
       "      <th>22</th>\n",
       "      <td>8_of_diamons</td>\n",
       "      <td>0</td>\n",
       "      <td>14</td>\n",
       "    </tr>\n",
       "    <tr>\n",
       "      <th>23</th>\n",
       "      <td>10_of_hearts</td>\n",
       "      <td>0</td>\n",
       "      <td>14</td>\n",
       "    </tr>\n",
       "    <tr>\n",
       "      <th>24</th>\n",
       "      <td>5_of_diamons</td>\n",
       "      <td>0</td>\n",
       "      <td>14</td>\n",
       "    </tr>\n",
       "    <tr>\n",
       "      <th>25</th>\n",
       "      <td>king_of_hearts</td>\n",
       "      <td>0</td>\n",
       "      <td>14</td>\n",
       "    </tr>\n",
       "    <tr>\n",
       "      <th>26</th>\n",
       "      <td>4_of_clubs</td>\n",
       "      <td>0</td>\n",
       "      <td>14</td>\n",
       "    </tr>\n",
       "    <tr>\n",
       "      <th>27</th>\n",
       "      <td>7_of_spades</td>\n",
       "      <td>0</td>\n",
       "      <td>14</td>\n",
       "    </tr>\n",
       "    <tr>\n",
       "      <th>28</th>\n",
       "      <td>jack_of_diamons</td>\n",
       "      <td>0</td>\n",
       "      <td>14</td>\n",
       "    </tr>\n",
       "    <tr>\n",
       "      <th>29</th>\n",
       "      <td>2_of_hearts</td>\n",
       "      <td>0</td>\n",
       "      <td>14</td>\n",
       "    </tr>\n",
       "    <tr>\n",
       "      <th>30</th>\n",
       "      <td>6_of_hearts</td>\n",
       "      <td>0</td>\n",
       "      <td>14</td>\n",
       "    </tr>\n",
       "    <tr>\n",
       "      <th>31</th>\n",
       "      <td>8_of_hearts</td>\n",
       "      <td>0</td>\n",
       "      <td>14</td>\n",
       "    </tr>\n",
       "    <tr>\n",
       "      <th>32</th>\n",
       "      <td>5_of_spades</td>\n",
       "      <td>0</td>\n",
       "      <td>14</td>\n",
       "    </tr>\n",
       "    <tr>\n",
       "      <th>33</th>\n",
       "      <td>jack_of_hearts</td>\n",
       "      <td>0</td>\n",
       "      <td>14</td>\n",
       "    </tr>\n",
       "    <tr>\n",
       "      <th>34</th>\n",
       "      <td>5_of_hearts</td>\n",
       "      <td>0</td>\n",
       "      <td>14</td>\n",
       "    </tr>\n",
       "    <tr>\n",
       "      <th>35</th>\n",
       "      <td>jack_of_spades</td>\n",
       "      <td>0</td>\n",
       "      <td>14</td>\n",
       "    </tr>\n",
       "    <tr>\n",
       "      <th>36</th>\n",
       "      <td>6_of_clubs</td>\n",
       "      <td>0</td>\n",
       "      <td>14</td>\n",
       "    </tr>\n",
       "    <tr>\n",
       "      <th>37</th>\n",
       "      <td>queen_of_hearts</td>\n",
       "      <td>0</td>\n",
       "      <td>14</td>\n",
       "    </tr>\n",
       "    <tr>\n",
       "      <th>38</th>\n",
       "      <td>8_of_spades</td>\n",
       "      <td>0</td>\n",
       "      <td>14</td>\n",
       "    </tr>\n",
       "    <tr>\n",
       "      <th>39</th>\n",
       "      <td>2_of_clubs</td>\n",
       "      <td>0</td>\n",
       "      <td>14</td>\n",
       "    </tr>\n",
       "    <tr>\n",
       "      <th>40</th>\n",
       "      <td>card</td>\n",
       "      <td>0</td>\n",
       "      <td>14</td>\n",
       "    </tr>\n",
       "    <tr>\n",
       "      <th>41</th>\n",
       "      <td>2_of_diamons</td>\n",
       "      <td>0</td>\n",
       "      <td>14</td>\n",
       "    </tr>\n",
       "    <tr>\n",
       "      <th>42</th>\n",
       "      <td>queen_of_spades</td>\n",
       "      <td>0</td>\n",
       "      <td>14</td>\n",
       "    </tr>\n",
       "    <tr>\n",
       "      <th>43</th>\n",
       "      <td>3_of_hearts</td>\n",
       "      <td>0</td>\n",
       "      <td>14</td>\n",
       "    </tr>\n",
       "    <tr>\n",
       "      <th>44</th>\n",
       "      <td>ace_of_hearts</td>\n",
       "      <td>0</td>\n",
       "      <td>14</td>\n",
       "    </tr>\n",
       "    <tr>\n",
       "      <th>45</th>\n",
       "      <td>4_of_hearts</td>\n",
       "      <td>0</td>\n",
       "      <td>14</td>\n",
       "    </tr>\n",
       "    <tr>\n",
       "      <th>46</th>\n",
       "      <td>5_of_clubs</td>\n",
       "      <td>0</td>\n",
       "      <td>14</td>\n",
       "    </tr>\n",
       "    <tr>\n",
       "      <th>47</th>\n",
       "      <td>queen_of_diamons</td>\n",
       "      <td>0</td>\n",
       "      <td>14</td>\n",
       "    </tr>\n",
       "    <tr>\n",
       "      <th>48</th>\n",
       "      <td>10_of_spades</td>\n",
       "      <td>0</td>\n",
       "      <td>14</td>\n",
       "    </tr>\n",
       "    <tr>\n",
       "      <th>49</th>\n",
       "      <td>7_of_clubs</td>\n",
       "      <td>0</td>\n",
       "      <td>14</td>\n",
       "    </tr>\n",
       "    <tr>\n",
       "      <th>50</th>\n",
       "      <td>joker</td>\n",
       "      <td>0</td>\n",
       "      <td>14</td>\n",
       "    </tr>\n",
       "    <tr>\n",
       "      <th>51</th>\n",
       "      <td>3_of_clubs</td>\n",
       "      <td>0</td>\n",
       "      <td>14</td>\n",
       "    </tr>\n",
       "    <tr>\n",
       "      <th>52</th>\n",
       "      <td>black_joker</td>\n",
       "      <td>0</td>\n",
       "      <td>14</td>\n",
       "    </tr>\n",
       "    <tr>\n",
       "      <th>53</th>\n",
       "      <td>king_of_spades</td>\n",
       "      <td>0</td>\n",
       "      <td>14</td>\n",
       "    </tr>\n",
       "    <tr>\n",
       "      <th>54</th>\n",
       "      <td>7_of_diamons</td>\n",
       "      <td>0</td>\n",
       "      <td>14</td>\n",
       "    </tr>\n",
       "  </tbody>\n",
       "</table>\n",
       "</div>"
      ],
      "text/plain": [
       "               Class  Missing  Count\n",
       "0        9_of_hearts        0     14\n",
       "1        3_of_spades        0     14\n",
       "2      ace_of_spades        0     14\n",
       "3        2_of_spades        0     14\n",
       "4        4_of_spades        0     14\n",
       "5        6_of_spades        0     14\n",
       "6        9_of_spades        0     14\n",
       "7      10_of_diamons        0     14\n",
       "8    king_of_diamons        0     14\n",
       "9       ace_of_clubs        0     14\n",
       "10    queen_of_clubs        0     14\n",
       "11     king_of_clubs        0     14\n",
       "12    ace_of_diamons        0     14\n",
       "13        9_of_clubs        0     14\n",
       "14       10_of_clubs        0     14\n",
       "15     jack_of_clubs        0     14\n",
       "16        8_of_clubs        0     14\n",
       "17       7_of_hearts        0     14\n",
       "18      6_of_diamons        0     14\n",
       "19      4_of_diamons        0     14\n",
       "20      3_of_diamons        0     14\n",
       "21      9_of_diamons        0     14\n",
       "22      8_of_diamons        0     14\n",
       "23      10_of_hearts        0     14\n",
       "24      5_of_diamons        0     14\n",
       "25    king_of_hearts        0     14\n",
       "26        4_of_clubs        0     14\n",
       "27       7_of_spades        0     14\n",
       "28   jack_of_diamons        0     14\n",
       "29       2_of_hearts        0     14\n",
       "30       6_of_hearts        0     14\n",
       "31       8_of_hearts        0     14\n",
       "32       5_of_spades        0     14\n",
       "33    jack_of_hearts        0     14\n",
       "34       5_of_hearts        0     14\n",
       "35    jack_of_spades        0     14\n",
       "36        6_of_clubs        0     14\n",
       "37   queen_of_hearts        0     14\n",
       "38       8_of_spades        0     14\n",
       "39        2_of_clubs        0     14\n",
       "40              card        0     14\n",
       "41      2_of_diamons        0     14\n",
       "42   queen_of_spades        0     14\n",
       "43       3_of_hearts        0     14\n",
       "44     ace_of_hearts        0     14\n",
       "45       4_of_hearts        0     14\n",
       "46        5_of_clubs        0     14\n",
       "47  queen_of_diamons        0     14\n",
       "48      10_of_spades        0     14\n",
       "49        7_of_clubs        0     14\n",
       "50             joker        0     14\n",
       "51        3_of_clubs        0     14\n",
       "52       black_joker        0     14\n",
       "53    king_of_spades        0     14\n",
       "54      7_of_diamons        0     14"
      ]
     },
     "execution_count": 17,
     "metadata": {},
     "output_type": "execute_result"
    }
   ],
   "source": [
    "missing_samples_count_by_class(train_dataset)"
   ]
  },
  {
   "cell_type": "code",
   "execution_count": null,
   "metadata": {},
   "outputs": [],
   "source": []
  }
 ],
 "metadata": {
  "kernelspec": {
   "display_name": "Python 3",
   "language": "python",
   "name": "python3"
  },
  "language_info": {
   "codemirror_mode": {
    "name": "ipython",
    "version": 3
   },
   "file_extension": ".py",
   "mimetype": "text/x-python",
   "name": "python",
   "nbconvert_exporter": "python",
   "pygments_lexer": "ipython3",
   "version": "3.7.6"
  }
 },
 "nbformat": 4,
 "nbformat_minor": 4
}
